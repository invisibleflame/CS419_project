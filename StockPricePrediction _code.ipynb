{
  "cells": [
    {
      "cell_type": "code",
      "execution_count": null,
      "id": "58153fa7",
      "metadata": {
        "id": "58153fa7"
      },
      "outputs": [],
      "source": [
        "import numpy as np\n",
        "import pandas as pd\n",
        "import datetime\n",
        "import matplotlib.pyplot as plt\n",
        "import matplotlib\n",
        "%matplotlib inline"
      ]
    },
    {
      "cell_type": "code",
      "execution_count": null,
      "id": "68744249",
      "metadata": {
        "colab": {
          "base_uri": "https://localhost:8080/",
          "height": 206
        },
        "id": "68744249",
        "outputId": "be657cbc-44ef-46a5-b1a9-820055cd6600"
      },
      "outputs": [
        {
          "data": {
            "text/html": [
              "<div>\n",
              "<style scoped>\n",
              "    .dataframe tbody tr th:only-of-type {\n",
              "        vertical-align: middle;\n",
              "    }\n",
              "\n",
              "    .dataframe tbody tr th {\n",
              "        vertical-align: top;\n",
              "    }\n",
              "\n",
              "    .dataframe thead th {\n",
              "        text-align: right;\n",
              "    }\n",
              "</style>\n",
              "<table border=\"1\" class=\"dataframe\">\n",
              "  <thead>\n",
              "    <tr style=\"text-align: right;\">\n",
              "      <th></th>\n",
              "      <th>Date</th>\n",
              "      <th>Open</th>\n",
              "      <th>High</th>\n",
              "      <th>Low</th>\n",
              "      <th>Close</th>\n",
              "      <th>Adj Close</th>\n",
              "      <th>Volume</th>\n",
              "    </tr>\n",
              "  </thead>\n",
              "  <tbody>\n",
              "    <tr>\n",
              "      <th>0</th>\n",
              "      <td>2010-06-29</td>\n",
              "      <td>3.800</td>\n",
              "      <td>5.000</td>\n",
              "      <td>3.508</td>\n",
              "      <td>4.778</td>\n",
              "      <td>4.778</td>\n",
              "      <td>93831500</td>\n",
              "    </tr>\n",
              "    <tr>\n",
              "      <th>1</th>\n",
              "      <td>2010-06-30</td>\n",
              "      <td>5.158</td>\n",
              "      <td>6.084</td>\n",
              "      <td>4.660</td>\n",
              "      <td>4.766</td>\n",
              "      <td>4.766</td>\n",
              "      <td>85935500</td>\n",
              "    </tr>\n",
              "    <tr>\n",
              "      <th>2</th>\n",
              "      <td>2010-07-01</td>\n",
              "      <td>5.000</td>\n",
              "      <td>5.184</td>\n",
              "      <td>4.054</td>\n",
              "      <td>4.392</td>\n",
              "      <td>4.392</td>\n",
              "      <td>41094000</td>\n",
              "    </tr>\n",
              "    <tr>\n",
              "      <th>3</th>\n",
              "      <td>2010-07-02</td>\n",
              "      <td>4.600</td>\n",
              "      <td>4.620</td>\n",
              "      <td>3.742</td>\n",
              "      <td>3.840</td>\n",
              "      <td>3.840</td>\n",
              "      <td>25699000</td>\n",
              "    </tr>\n",
              "    <tr>\n",
              "      <th>4</th>\n",
              "      <td>2010-07-06</td>\n",
              "      <td>4.000</td>\n",
              "      <td>4.000</td>\n",
              "      <td>3.166</td>\n",
              "      <td>3.222</td>\n",
              "      <td>3.222</td>\n",
              "      <td>34334500</td>\n",
              "    </tr>\n",
              "  </tbody>\n",
              "</table>\n",
              "</div>"
            ],
            "text/plain": [
              "         Date   Open   High    Low  Close  Adj Close    Volume\n",
              "0  2010-06-29  3.800  5.000  3.508  4.778      4.778  93831500\n",
              "1  2010-06-30  5.158  6.084  4.660  4.766      4.766  85935500\n",
              "2  2010-07-01  5.000  5.184  4.054  4.392      4.392  41094000\n",
              "3  2010-07-02  4.600  4.620  3.742  3.840      3.840  25699000\n",
              "4  2010-07-06  4.000  4.000  3.166  3.222      3.222  34334500"
            ]
          },
          "execution_count": 2,
          "metadata": {},
          "output_type": "execute_result"
        }
      ],
      "source": [
        "data = pd.read_csv(\"./Dataset/TSLA.csv\")\n",
        "data.head()"
      ]
    },
    {
      "cell_type": "markdown",
      "id": "d16ad633",
      "metadata": {
        "id": "d16ad633"
      },
      "source": [
        "# Feature Engineering"
      ]
    },
    {
      "cell_type": "markdown",
      "id": "6a97af58",
      "metadata": {
        "id": "6a97af58"
      },
      "source": [
        "### Relative Strength Index"
      ]
    },
    {
      "cell_type": "code",
      "execution_count": null,
      "id": "4ea4b861",
      "metadata": {
        "id": "4ea4b861"
      },
      "outputs": [],
      "source": [
        "# Window length for moving average\n",
        "window_length = 14\n",
        "\n",
        "close = data['Adj Close']\n",
        "# Get the difference in price from previous step\n",
        "delta = close.diff()\n",
        "\n",
        "# Make the positive gains (up) and negative gains (down) Series\n",
        "up, down = delta.clip(lower=0), delta.clip(upper=0).abs()"
      ]
    },
    {
      "cell_type": "code",
      "execution_count": null,
      "id": "dfbc07e5",
      "metadata": {
        "id": "dfbc07e5"
      },
      "outputs": [],
      "source": [
        "# Calculate the RSI based on RMA/SMMA/MMA\n",
        "# Reminder: Try to provide at least `window_length * 4` data points!\n",
        "# Note: This should most closely match TradingView.\n",
        "alpha = 1 / window_length\n",
        "roll_up = up.ewm(alpha=alpha).mean()\n",
        "roll_down = down.ewm(alpha=alpha).mean()\n",
        "rs = roll_up / roll_down\n",
        "rsi_rma = 100.0 - (100.0 / (1.0 + rs))"
      ]
    },
    {
      "cell_type": "markdown",
      "id": "27f35867",
      "metadata": {
        "id": "27f35867"
      },
      "source": [
        "### Stochastic Oscillator and Williams %R"
      ]
    },
    {
      "cell_type": "code",
      "execution_count": null,
      "id": "c82371e0",
      "metadata": {
        "id": "c82371e0"
      },
      "outputs": [],
      "source": [
        "high_14 = data['High'].rolling(14).max()\n",
        "low_14 = data['Low'].rolling(14).min()\n",
        "K = (data['Close'] - high_14)*100/(high_14 - low_14)\n",
        "D = K.rolling(3).mean()\n",
        "R = (high_14-data['Close'])*(-100)/(high_14 - low_14)"
      ]
    },
    {
      "cell_type": "markdown",
      "id": "e513d53a",
      "metadata": {
        "id": "e513d53a"
      },
      "source": [
        "### Moving Average Convergence Divergence (MACD)"
      ]
    },
    {
      "cell_type": "code",
      "execution_count": null,
      "id": "a9bc62d3",
      "metadata": {
        "id": "a9bc62d3"
      },
      "outputs": [],
      "source": [
        "exp1 = close.ewm(span=12, adjust=False).mean()\n",
        "exp2 = close.ewm(span=26, adjust=False).mean()\n",
        "macd = exp1 - exp2\n",
        "exp3 = macd.ewm(span=9, adjust=False).mean()"
      ]
    },
    {
      "cell_type": "markdown",
      "id": "055680c7",
      "metadata": {
        "id": "055680c7"
      },
      "source": [
        "### Price Rate of Change"
      ]
    },
    {
      "cell_type": "code",
      "execution_count": null,
      "id": "67efd82a",
      "metadata": {
        "id": "67efd82a"
      },
      "outputs": [],
      "source": [
        "# Computing 5-day rate of change\n",
        "N = data['Close'].diff(5)\n",
        "D = data['Close'].shift(5)\n",
        "ROC = pd.Series(N/D,name='ROC')"
      ]
    },
    {
      "cell_type": "markdown",
      "id": "e584a7b5",
      "metadata": {
        "id": "e584a7b5"
      },
      "source": [
        "### On Balance Volume"
      ]
    },
    {
      "cell_type": "code",
      "execution_count": null,
      "id": "dc132fe2",
      "metadata": {
        "id": "dc132fe2"
      },
      "outputs": [],
      "source": [
        "OBV = []\n",
        "OBV.append(0)\n",
        "for i in range(1, len(data.Close)):\n",
        "    if data.Close[i] > data.Close[i-1]: #If the closing price is above the prior close price \n",
        "          OBV.append(OBV[-1] + data.Volume[i]) #then: Current OBV = Previous OBV + Current Volume\n",
        "    elif data.Close[i] < data.Close[i-1]:\n",
        "          OBV.append( OBV[-1] - data.Volume[i])\n",
        "    else:\n",
        "          OBV.append(OBV[-1])"
      ]
    },
    {
      "cell_type": "code",
      "execution_count": null,
      "id": "775af179",
      "metadata": {
        "colab": {
          "base_uri": "https://localhost:8080/"
        },
        "id": "775af179",
        "outputId": "cef7bb73-9f2c-43c3-934f-2a13c3d6cd51"
      },
      "outputs": [
        {
          "data": {
            "text/plain": [
              "0                0\n",
              "1        -85935500\n",
              "2       -127029500\n",
              "3       -152728500\n",
              "4       -187063000\n",
              "           ...    \n",
              "2974    5656694500\n",
              "2975    5633512900\n",
              "2976    5610732500\n",
              "2977    5565354600\n",
              "2978    5590939900\n",
              "Name: OBV, Length: 2979, dtype: int64"
            ]
          },
          "execution_count": 9,
          "metadata": {},
          "output_type": "execute_result"
        }
      ],
      "source": [
        "#Store the OBV and OBV EMA into new columns\n",
        "OBV = pd.Series(OBV, name='OBV')\n",
        "OBV_EMA = OBV.ewm(com=20).mean()\n",
        "# data['OBV_EMA'] = data['OBV'].ewm(com=20).mean()\n",
        "#Show the data\n",
        "OBV"
      ]
    },
    {
      "cell_type": "markdown",
      "id": "a0179a0d",
      "metadata": {
        "id": "a0179a0d"
      },
      "source": [
        "### Rise and fall of stock price"
      ]
    },
    {
      "cell_type": "code",
      "execution_count": null,
      "id": "3e594591",
      "metadata": {
        "id": "3e594591"
      },
      "outputs": [],
      "source": [
        "rise_fall = np.where(data['Close']-data['Close'].shift(1)>0, 1, 0)"
      ]
    },
    {
      "cell_type": "markdown",
      "id": "bd0e033f",
      "metadata": {
        "id": "bd0e033f"
      },
      "source": [
        "### Features and train-test split"
      ]
    },
    {
      "cell_type": "code",
      "execution_count": null,
      "id": "31442f7f",
      "metadata": {
        "id": "31442f7f"
      },
      "outputs": [],
      "source": [
        "features = pd.DataFrame(data={\"RSI\":rsi_rma, \"SO\":D, \"WR\":R, \"MACD\":macd, \"ROC\":ROC, \"OBV\":OBV_EMA})\n",
        "target_df = pd.DataFrame(data={'3-day':data['Close'].shift(-3), '5-day':data['Close'].shift(-5), '7-day':data['Close'].shift(-7), '10-day':data['Close'].shift(-10), 'Change':rise_fall}).set_index(data['Date'])"
      ]
    },
    {
      "cell_type": "code",
      "execution_count": null,
      "id": "1197b52a",
      "metadata": {
        "colab": {
          "base_uri": "https://localhost:8080/"
        },
        "id": "1197b52a",
        "outputId": "bbe55afa-4c28-4312-a7a4-797b69788145"
      },
      "outputs": [
        {
          "name": "stdout",
          "output_type": "stream",
          "text": [
            "Features dataframe shape: (2955, 6)\n",
            "Target dataframe shape: (2955, 5)\n"
          ]
        }
      ],
      "source": [
        "# Remove top 14 and last 10 rows to avoid NaN values\n",
        "features = features.iloc[14:-10,:]\n",
        "target_df = target_df.iloc[14:-10,:]\n",
        "print('Features dataframe shape:', features.shape)\n",
        "print('Target dataframe shape:', target_df.shape)"
      ]
    },
    {
      "cell_type": "code",
      "execution_count": null,
      "id": "b3c78e31",
      "metadata": {
        "id": "b3c78e31"
      },
      "outputs": [],
      "source": [
        "from sklearn.preprocessing import StandardScaler\n",
        "scaler = StandardScaler()\n",
        "scaler.fit(features)\n",
        "features = scaler.transform(features)"
      ]
    },
    {
      "cell_type": "code",
      "execution_count": null,
      "id": "e304c652",
      "metadata": {
        "id": "e304c652"
      },
      "outputs": [],
      "source": [
        "from sklearn.model_selection import train_test_split\n",
        "from sklearn.model_selection import TimeSeriesSplit\n",
        "from sklearn import linear_model\n",
        "from sklearn.metrics import mean_squared_error, r2_score, mean_absolute_percentage_error, mean_absolute_error\n",
        "from sklearn.model_selection import GridSearchCV"
      ]
    },
    {
      "cell_type": "code",
      "execution_count": null,
      "id": "d126adb4",
      "metadata": {
        "id": "d126adb4"
      },
      "outputs": [],
      "source": [
        "# X_train, X_test, y_train, y_test = train_test_split(features, target_df['10-day'].to_numpy(), test_size=0.3)\n",
        "initSplit = TimeSeriesSplit(n_splits=2, test_size=int(0.3*len(features)))\n",
        "trainDat, testDat = initSplit.split(features)\n",
        "X_train, y_train = features[testDat[0]], target_df['3-day'].to_numpy()[testDat[0]]\n",
        "X_test, y_test = features[testDat[1]], target_df['3-day'].to_numpy()[testDat[1]]\n",
        "# print(trainDat[1][-1])\n",
        "timeSplitCV = TimeSeriesSplit(n_splits=10)\n",
        "\n",
        "# print(X_train.shape)\n",
        "# print(X_test.shape)"
      ]
    },
    {
      "cell_type": "markdown",
      "id": "a17906ef",
      "metadata": {
        "id": "a17906ef"
      },
      "source": [
        "# Regression"
      ]
    },
    {
      "cell_type": "markdown",
      "id": "55bd2218",
      "metadata": {
        "id": "55bd2218"
      },
      "source": [
        "### [Linear Regression](https://scikit-learn.org/stable/modules/generated/sklearn.linear_model.LinearRegression.html#sklearn.linear_model.LinearRegression)"
      ]
    },
    {
      "cell_type": "code",
      "execution_count": null,
      "id": "c88de100",
      "metadata": {
        "id": "c88de100"
      },
      "outputs": [],
      "source": [
        "# Create linear regression object\n",
        "regr = linear_model.LinearRegression()\n",
        "# Train the model using the training sets\n",
        "regr.fit(X_train, y_train)\n",
        "# Make predictions using the testing set\n",
        "y_pred = regr.predict(X_test)"
      ]
    },
    {
      "cell_type": "code",
      "execution_count": null,
      "id": "0d7934e5",
      "metadata": {
        "colab": {
          "base_uri": "https://localhost:8080/"
        },
        "id": "0d7934e5",
        "outputId": "f4fd9e89-f69c-4a2f-e7b0-1380984702e9"
      },
      "outputs": [
        {
          "name": "stdout",
          "output_type": "stream",
          "text": [
            "Coefficients: \n",
            " [1.79922063e-01 2.23798187e+02 3.28179991e-01 1.98691366e+00\n",
            " 1.70224979e+00 5.61218530e+00]\n",
            "Mean squared error: 6255.57\n",
            "Mean Absolute Percentage error: 10.60\n",
            "Mean Absolute error: 48.01\n",
            "Coefficient of determination: 0.95\n"
          ]
        }
      ],
      "source": [
        "# The coefficients\n",
        "print(\"Coefficients: \\n\", regr.coef_)\n",
        "# The mean squared error\n",
        "print(\"Mean squared error: %.2f\" % mean_squared_error(y_test, y_pred))\n",
        "print(\"Mean Absolute Percentage error: %.2f\" % (100*mean_absolute_percentage_error(y_test, y_pred)))\n",
        "print(\"Mean Absolute error: %.2f\" % mean_absolute_error(y_test, y_pred))\n",
        "# The coefficient of determination: 1 is perfect prediction\n",
        "print(\"Coefficient of determination: %.2f\" % r2_score(y_test, y_pred))"
      ]
    },
    {
      "cell_type": "code",
      "execution_count": null,
      "id": "59ff3fa8",
      "metadata": {
        "colab": {
          "base_uri": "https://localhost:8080/",
          "height": 330
        },
        "id": "59ff3fa8",
        "outputId": "34efe719-bf81-4c9b-eed3-a98d5db9e115"
      },
      "outputs": [
        {
          "data": {
            "image/png": "[encoded data removed]",
            "text/plain": [
              "<Figure size 432x288 with 1 Axes>"
            ]
          },
          "metadata": {
            "needs_background": "light"
          },
          "output_type": "display_data"
        },
        {
          "name": "stdout",
          "output_type": "stream",
          "text": [
            "Mean of residuals: 42.98427425556414\n",
            "Std of residuals: 66.39217434656474\n"
          ]
        }
      ],
      "source": [
        "residual = y_test-y_pred\n",
        "plt.plot([i for i in range(len(y_test))], residual)\n",
        "plt.xlabel('Days')\n",
        "plt.ylabel(\"Residual\")\n",
        "plt.title(\"Residuals for Linear Regression\")\n",
        "plt.show()\n",
        "print(\"Mean of residuals:\", residual.mean())\n",
        "print(\"Std of residuals:\", residual.std())"
      ]
    },
    {
      "cell_type": "code",
      "execution_count": null,
      "id": "3c4f57f4",
      "metadata": {
        "colab": {
          "base_uri": "https://localhost:8080/",
          "height": 280
        },
        "id": "3c4f57f4",
        "outputId": "769256df-3bdf-4e01-f7b2-ace8b197a7b7"
      },
      "outputs": [
        {
          "data": {
            "image/png": "[encoded data removed]",
            "text/plain": [
              "<Figure size 432x288 with 1 Axes>"
            ]
          },
          "metadata": {
            "needs_background": "light"
          },
          "output_type": "display_data"
        }
      ],
      "source": [
        "plt.plot(y_test)\n",
        "plt.plot(y_pred)\n",
        "plt.legend(['Test data', 'Predicted data'])\n",
        "plt.xlabel(\"Days\")\n",
        "plt.ylabel(\"Closing price\")\n",
        "plt.show()"
      ]
    },
    {
      "cell_type": "markdown",
      "id": "cf3ae581",
      "metadata": {
        "id": "cf3ae581"
      },
      "source": [
        "### [Ridge Regression](https://scikit-learn.org/stable/modules/generated/sklearn.linear_model.Ridge.html#sklearn.linear_model.Ridge)"
      ]
    },
    {
      "cell_type": "code",
      "execution_count": null,
      "id": "30d4231c",
      "metadata": {
        "colab": {
          "base_uri": "https://localhost:8080/",
          "height": 451
        },
        "id": "30d4231c",
        "outputId": "8c2469da-b472-48e2-e130-24808e5b4073"
      },
      "outputs": [
        {
          "name": "stdout",
          "output_type": "stream",
          "text": [
            "Coefficients: \n",
            " [  0.25964421 202.57969028   0.30913638   3.55531622   1.55706538\n",
            "   9.40990754]\n",
            "Best Parameter:  {'alpha': 0.05623413251903491}\n",
            "Mean squared error: 11066.43\n",
            "Coefficient of determination: 0.91\n"
          ]
        },
        {
          "data": {
            "image/png": "[encoded data removed]",
            "text/plain": [
              "<Figure size 432x288 with 1 Axes>"
            ]
          },
          "metadata": {
            "needs_background": "light"
          },
          "output_type": "display_data"
        },
        {
          "name": "stdout",
          "output_type": "stream",
          "text": [
            "Mean of residuals: 66.79430317904601\n",
            "Std of residuals: 81.27083740383368\n"
          ]
        }
      ],
      "source": [
        "ridge_reg = linear_model.Ridge()\n",
        "hyperparams = {'alpha': np.logspace(-3, 4, 5)}\n",
        "ridge_dat = GridSearchCV(estimator=ridge_reg, param_grid=hyperparams, cv=timeSplitCV)\n",
        "ridge_dat.fit(X_train, y_train)\n",
        "y_pred = ridge_dat.predict(X_test)\n",
        "print(\"Coefficients: \\n\", ridge_dat.best_estimator_.coef_)\n",
        "print(\"Best Parameter: \", ridge_dat.best_params_)\n",
        "print(\"Mean squared error: %.2f\" % mean_squared_error(y_test, y_pred))\n",
        "print(\"Coefficient of determination: %.2f\" % r2_score(y_test, y_pred))\n",
        "residual = y_test-y_pred\n",
        "plt.plot([i for i in range(len(y_test))], residual)\n",
        "plt.xlabel('Days')\n",
        "plt.ylabel(\"Residual\")\n",
        "plt.title(\"Residuals for Ridge Regression\")\n",
        "plt.show()\n",
        "print(\"Mean of residuals:\", residual.mean())\n",
        "print(\"Std of residuals:\", residual.std())"
      ]
    },
    {
      "cell_type": "code",
      "execution_count": null,
      "id": "d6a7fd3c",
      "metadata": {
        "colab": {
          "base_uri": "https://localhost:8080/",
          "height": 280
        },
        "id": "d6a7fd3c",
        "outputId": "7bf56800-69ad-44df-a7f9-5c0ce0d11e63"
      },
      "outputs": [
        {
          "data": {
            "image/png": "[encoded data removed]",
            "text/plain": [
              "<Figure size 432x288 with 1 Axes>"
            ]
          },
          "metadata": {
            "needs_background": "light"
          },
          "output_type": "display_data"
        }
      ],
      "source": [
        "plt.plot(y_test)\n",
        "plt.plot(y_pred)\n",
        "plt.legend(['Test data', 'Predicted data'])\n",
        "plt.xlabel(\"Days\")\n",
        "plt.ylabel(\"Closing price\")\n",
        "plt.show()"
      ]
    },
    {
      "cell_type": "markdown",
      "id": "56d8be5d",
      "metadata": {
        "id": "56d8be5d"
      },
      "source": [
        "### Suppor Vector Machines"
      ]
    },
    {
      "cell_type": "code",
      "execution_count": null,
      "id": "acdba508",
      "metadata": {
        "colab": {
          "base_uri": "https://localhost:8080/",
          "height": 399
        },
        "id": "acdba508",
        "outputId": "05af2496-c232-4ad5-acd0-0dc94ddf7879"
      },
      "outputs": [
        {
          "name": "stdout",
          "output_type": "stream",
          "text": [
            "Mean squared error: 7227.32\n",
            "Coefficient of determination: 0.94\n",
            "Best parameters:  {'C': 1000.0, 'kernel': 'linear'}\n"
          ]
        },
        {
          "data": {
            "image/png": "[encoded data removed]",
            "text/plain": [
              "<Figure size 432x288 with 1 Axes>"
            ]
          },
          "metadata": {
            "needs_background": "light"
          },
          "output_type": "display_data"
        },
        {
          "name": "stdout",
          "output_type": "stream",
          "text": [
            "Mean of residuals: 48.91724493789593\n",
            "Std of residuals: 69.53003904454447\n"
          ]
        }
      ],
      "source": [
        "from sklearn import svm\n",
        "svm_reg = svm.SVR()\n",
        "hyperparams = {'C': np.logspace(-1, 3, 5), 'kernel': ['linear', 'rbf', 'sigmoid']}\n",
        "svm_dat = GridSearchCV(estimator=svm_reg, param_grid=hyperparams, cv=timeSplitCV)\n",
        "svm_dat.fit(X_train, y_train)\n",
        "y_pred = svm_dat.predict(X_test)\n",
        "print(\"Mean squared error: %.2f\" % mean_squared_error(y_test, y_pred))\n",
        "print(\"Coefficient of determination: %.2f\" % r2_score(y_test, y_pred))\n",
        "print(\"Best parameters: \", svm_dat.best_params_)\n",
        "residual = y_test-y_pred\n",
        "plt.plot([i for i in range(len(y_test))], residual)\n",
        "plt.xlabel('Days')\n",
        "plt.ylabel(\"Residual\")\n",
        "plt.title(\"Residuals for SVM Regression\")\n",
        "plt.show()\n",
        "print(\"Mean of residuals:\", residual.mean())\n",
        "print(\"Std of residuals:\", residual.std())"
      ]
    },
    {
      "cell_type": "code",
      "execution_count": null,
      "id": "a735eb48",
      "metadata": {
        "colab": {
          "base_uri": "https://localhost:8080/",
          "height": 279
        },
        "id": "a735eb48",
        "outputId": "cc60f0fd-a5d8-4cf2-fbc0-1c8389e5d87a"
      },
      "outputs": [
        {
          "data": {
            "image/png": "[encoded data removed]",
            "text/plain": [
              "<Figure size 432x288 with 1 Axes>"
            ]
          },
          "metadata": {
            "needs_background": "light"
          },
          "output_type": "display_data"
        }
      ],
      "source": [
        "plt.plot(y_test)\n",
        "plt.plot(y_pred)\n",
        "plt.legend(['Test data', 'Predicted data'])\n",
        "plt.xlabel(\"Days\")\n",
        "plt.ylabel(\"Closing price\")\n",
        "plt.show()"
      ]
    },
    {
      "cell_type": "markdown",
      "id": "32cac3ed",
      "metadata": {
        "id": "32cac3ed"
      },
      "source": [
        "### [Bayesian Ridge Regression](https://scikit-learn.org/stable/modules/generated/sklearn.linear_model.BayesianRidge.html#sklearn.linear_model.BayesianRidge)\n",
        "The priors over α and λ are chosen to be gamma distributions, the conjugate prior for the precision of the Gaussian. The resulting model is called Bayesian Ridge Regression, and is similar to the classical Ridge."
      ]
    },
    {
      "cell_type": "code",
      "execution_count": null,
      "id": "c5e12c95",
      "metadata": {
        "colab": {
          "base_uri": "https://localhost:8080/",
          "height": 399
        },
        "id": "c5e12c95",
        "outputId": "ae0db3a2-798b-4e05-a1c8-59a764327dc1"
      },
      "outputs": [
        {
          "name": "stdout",
          "output_type": "stream",
          "text": [
            "Mean squared error: 6304.65\n",
            "Coefficient of determination: 0.95\n",
            "Best parameters:  {'alpha_1': 0.0001, 'alpha_2': 1e-08, 'lambda_1': 1e-08, 'lambda_2': 0.0001}\n"
          ]
        },
        {
          "data": {
            "image/png": "[encoded data removed]",
            "text/plain": [
              "<Figure size 432x288 with 1 Axes>"
            ]
          },
          "metadata": {
            "needs_background": "light"
          },
          "output_type": "display_data"
        },
        {
          "name": "stdout",
          "output_type": "stream",
          "text": [
            "Mean of residuals: 43.30407238038094\n",
            "Std of residuals: 66.55375990816405\n"
          ]
        }
      ],
      "source": [
        "bayesian_reg = linear_model.BayesianRidge()\n",
        "hyperparams = {'alpha_1': np.logspace(-8, -4, 5), 'alpha_2': np.logspace(-8, -4, 5), 'lambda_1': np.logspace(-8, -4, 5), 'lambda_2': np.logspace(-8, -4, 5)}\n",
        "bayesian_dat = GridSearchCV(estimator=bayesian_reg, param_grid=hyperparams, cv=timeSplitCV)\n",
        "bayesian_dat.fit(X_train, y_train)\n",
        "y_pred = bayesian_dat.predict(X_test)\n",
        "print(\"Mean squared error: %.2f\" % mean_squared_error(y_test, y_pred))\n",
        "print(\"Coefficient of determination: %.2f\" % r2_score(y_test, y_pred))\n",
        "print(\"Best parameters: \", bayesian_dat.best_params_)\n",
        "residual = y_test-y_pred\n",
        "plt.plot([i for i in range(len(y_test))], residual)\n",
        "plt.xlabel('Days')\n",
        "plt.ylabel(\"Residual\")\n",
        "plt.title(\"Residuals for Bayesian Ridge Regression\")\n",
        "plt.show()\n",
        "print(\"Mean of residuals:\", residual.mean())\n",
        "print(\"Std of residuals:\", residual.std())"
      ]
    },
    {
      "cell_type": "code",
      "execution_count": null,
      "id": "63b79bef",
      "metadata": {
        "colab": {
          "base_uri": "https://localhost:8080/",
          "height": 280
        },
        "id": "63b79bef",
        "outputId": "1aa34719-1fee-44bc-8a83-2f738912dd32"
      },
      "outputs": [
        {
          "data": {
            "image/png": "[encoded data removed]",
            "text/plain": [
              "<Figure size 432x288 with 1 Axes>"
            ]
          },
          "metadata": {
            "needs_background": "light"
          },
          "output_type": "display_data"
        }
      ],
      "source": [
        "plt.plot(y_test)\n",
        "plt.plot(y_pred)\n",
        "plt.legend(['Test data', 'Predicted data'])\n",
        "plt.xlabel(\"Days\")\n",
        "plt.ylabel(\"Closing price\")\n",
        "plt.show()"
      ]
    },
    {
      "cell_type": "markdown",
      "id": "14d439f9",
      "metadata": {
        "id": "14d439f9"
      },
      "source": [
        "### [ElasticNet Regressor](https://scikit-learn.org/stable/modules/generated/sklearn.linear_model.ElasticNet.html#sklearn.linear_model.ElasticNet)\n",
        "Linear regression with combined L1 and L2 priors as regularizer."
      ]
    },
    {
      "cell_type": "code",
      "execution_count": null,
      "id": "71f935a7",
      "metadata": {
        "colab": {
          "base_uri": "https://localhost:8080/",
          "height": 399
        },
        "id": "71f935a7",
        "outputId": "bc9f2a34-b60e-48e5-f0d3-d44a833c3843"
      },
      "outputs": [
        {
          "name": "stderr",
          "output_type": "stream",
          "text": [
            "/home/anand/.local/lib/python3.7/site-packages/sklearn/linear_model/_coordinate_descent.py:648: ConvergenceWarning: Objective did not converge. You might want to increase the number of iterations, check the scale of the features or consider increasing regularisation. Duality gap: 4.611e+01, tolerance: 1.274e-02 Linear regression models with null weight for the l1 regularization term are more efficiently fitted using one of the solvers implemented in sklearn.linear_model.Ridge/RidgeCV instead.\n",
            "  coef_, l1_reg, l2_reg, X, y, max_iter, tol, rng, random, positive\n",
            "/home/anand/.local/lib/python3.7/site-packages/sklearn/linear_model/_coordinate_descent.py:648: ConvergenceWarning: Objective did not converge. You might want to increase the number of iterations, check the scale of the features or consider increasing regularisation. Duality gap: 9.031e+01, tolerance: 2.287e-02 Linear regression models with null weight for the l1 regularization term are more efficiently fitted using one of the solvers implemented in sklearn.linear_model.Ridge/RidgeCV instead.\n",
            "  coef_, l1_reg, l2_reg, X, y, max_iter, tol, rng, random, positive\n",
            "/home/anand/.local/lib/python3.7/site-packages/sklearn/linear_model/_coordinate_descent.py:648: ConvergenceWarning: Objective did not converge. You might want to increase the number of iterations, check the scale of the features or consider increasing regularisation. Duality gap: 1.795e+02, tolerance: 4.200e-02 Linear regression models with null weight for the l1 regularization term are more efficiently fitted using one of the solvers implemented in sklearn.linear_model.Ridge/RidgeCV instead.\n",
            "  coef_, l1_reg, l2_reg, X, y, max_iter, tol, rng, random, positive\n",
            "/home/anand/.local/lib/python3.7/site-packages/sklearn/linear_model/_coordinate_descent.py:648: ConvergenceWarning: Objective did not converge. You might want to increase the number of iterations, check the scale of the features or consider increasing regularisation. Duality gap: 4.216e+03, tolerance: 1.154e+00 Linear regression models with null weight for the l1 regularization term are more efficiently fitted using one of the solvers implemented in sklearn.linear_model.Ridge/RidgeCV instead.\n",
            "  coef_, l1_reg, l2_reg, X, y, max_iter, tol, rng, random, positive\n",
            "/home/anand/.local/lib/python3.7/site-packages/sklearn/linear_model/_coordinate_descent.py:648: ConvergenceWarning: Objective did not converge. You might want to increase the number of iterations, check the scale of the features or consider increasing regularisation. Duality gap: 3.235e+04, tolerance: 1.365e+01 Linear regression models with null weight for the l1 regularization term are more efficiently fitted using one of the solvers implemented in sklearn.linear_model.Ridge/RidgeCV instead.\n",
            "  coef_, l1_reg, l2_reg, X, y, max_iter, tol, rng, random, positive\n",
            "/home/anand/.local/lib/python3.7/site-packages/sklearn/linear_model/_coordinate_descent.py:648: ConvergenceWarning: Objective did not converge. You might want to increase the number of iterations, check the scale of the features or consider increasing regularisation. Duality gap: 5.761e+04, tolerance: 3.184e+01 Linear regression models with null weight for the l1 regularization term are more efficiently fitted using one of the solvers implemented in sklearn.linear_model.Ridge/RidgeCV instead.\n",
            "  coef_, l1_reg, l2_reg, X, y, max_iter, tol, rng, random, positive\n",
            "/home/anand/.local/lib/python3.7/site-packages/sklearn/linear_model/_coordinate_descent.py:648: ConvergenceWarning: Objective did not converge. You might want to increase the number of iterations, check the scale of the features or consider increasing regularisation. Duality gap: 8.029e+04, tolerance: 4.553e+01 Linear regression models with null weight for the l1 regularization term are more efficiently fitted using one of the solvers implemented in sklearn.linear_model.Ridge/RidgeCV instead.\n",
            "  coef_, l1_reg, l2_reg, X, y, max_iter, tol, rng, random, positive\n",
            "/home/anand/.local/lib/python3.7/site-packages/sklearn/linear_model/_coordinate_descent.py:648: ConvergenceWarning: Objective did not converge. You might want to increase the number of iterations, check the scale of the features or consider increasing regularisation. Duality gap: 9.489e+04, tolerance: 5.322e+01 Linear regression models with null weight for the l1 regularization term are more efficiently fitted using one of the solvers implemented in sklearn.linear_model.Ridge/RidgeCV instead.\n",
            "  coef_, l1_reg, l2_reg, X, y, max_iter, tol, rng, random, positive\n",
            "/home/anand/.local/lib/python3.7/site-packages/sklearn/linear_model/_coordinate_descent.py:648: ConvergenceWarning: Objective did not converge. You might want to increase the number of iterations, check the scale of the features or consider increasing regularisation. Duality gap: 1.092e+05, tolerance: 6.090e+01 Linear regression models with null weight for the l1 regularization term are more efficiently fitted using one of the solvers implemented in sklearn.linear_model.Ridge/RidgeCV instead.\n",
            "  coef_, l1_reg, l2_reg, X, y, max_iter, tol, rng, random, positive\n",
            "/home/anand/.local/lib/python3.7/site-packages/sklearn/linear_model/_coordinate_descent.py:648: ConvergenceWarning: Objective did not converge. You might want to increase the number of iterations, check the scale of the features or consider increasing regularisation. Duality gap: 1.468e+05, tolerance: 8.837e+01 Linear regression models with null weight for the l1 regularization term are more efficiently fitted using one of the solvers implemented in sklearn.linear_model.Ridge/RidgeCV instead.\n",
            "  coef_, l1_reg, l2_reg, X, y, max_iter, tol, rng, random, positive\n",
            "/home/anand/.local/lib/python3.7/site-packages/sklearn/linear_model/_coordinate_descent.py:648: ConvergenceWarning: Objective did not converge. You might want to increase the number of iterations, check the scale of the features or consider increasing regularisation. Duality gap: 5.623e+01, tolerance: 1.274e-02 Linear regression models with null weight for the l1 regularization term are more efficiently fitted using one of the solvers implemented in sklearn.linear_model.Ridge/RidgeCV instead.\n",
            "  coef_, l1_reg, l2_reg, X, y, max_iter, tol, rng, random, positive\n",
            "/home/anand/.local/lib/python3.7/site-packages/sklearn/linear_model/_coordinate_descent.py:648: ConvergenceWarning: Objective did not converge. You might want to increase the number of iterations, check the scale of the features or consider increasing regularisation. Duality gap: 1.040e+02, tolerance: 2.287e-02 Linear regression models with null weight for the l1 regularization term are more efficiently fitted using one of the solvers implemented in sklearn.linear_model.Ridge/RidgeCV instead.\n",
            "  coef_, l1_reg, l2_reg, X, y, max_iter, tol, rng, random, positive\n",
            "/home/anand/.local/lib/python3.7/site-packages/sklearn/linear_model/_coordinate_descent.py:648: ConvergenceWarning: Objective did not converge. You might want to increase the number of iterations, check the scale of the features or consider increasing regularisation. Duality gap: 1.972e+02, tolerance: 4.200e-02 Linear regression models with null weight for the l1 regularization term are more efficiently fitted using one of the solvers implemented in sklearn.linear_model.Ridge/RidgeCV instead.\n",
            "  coef_, l1_reg, l2_reg, X, y, max_iter, tol, rng, random, positive\n",
            "/home/anand/.local/lib/python3.7/site-packages/sklearn/linear_model/_coordinate_descent.py:648: ConvergenceWarning: Objective did not converge. You might want to increase the number of iterations, check the scale of the features or consider increasing regularisation. Duality gap: 5.077e+03, tolerance: 1.154e+00 Linear regression models with null weight for the l1 regularization term are more efficiently fitted using one of the solvers implemented in sklearn.linear_model.Ridge/RidgeCV instead.\n",
            "  coef_, l1_reg, l2_reg, X, y, max_iter, tol, rng, random, positive\n",
            "/home/anand/.local/lib/python3.7/site-packages/sklearn/linear_model/_coordinate_descent.py:648: ConvergenceWarning: Objective did not converge. You might want to increase the number of iterations, check the scale of the features or consider increasing regularisation. Duality gap: 6.003e+04, tolerance: 1.365e+01 Linear regression models with null weight for the l1 regularization term are more efficiently fitted using one of the solvers implemented in sklearn.linear_model.Ridge/RidgeCV instead.\n",
            "  coef_, l1_reg, l2_reg, X, y, max_iter, tol, rng, random, positive\n",
            "/home/anand/.local/lib/python3.7/site-packages/sklearn/linear_model/_coordinate_descent.py:648: ConvergenceWarning: Objective did not converge. You might want to increase the number of iterations, check the scale of the features or consider increasing regularisation. Duality gap: 1.343e+05, tolerance: 3.184e+01 Linear regression models with null weight for the l1 regularization term are more efficiently fitted using one of the solvers implemented in sklearn.linear_model.Ridge/RidgeCV instead.\n",
            "  coef_, l1_reg, l2_reg, X, y, max_iter, tol, rng, random, positive\n"
          ]
        },
        {
          "name": "stderr",
          "output_type": "stream",
          "text": [
            "/home/anand/.local/lib/python3.7/site-packages/sklearn/linear_model/_coordinate_descent.py:648: ConvergenceWarning: Objective did not converge. You might want to increase the number of iterations, check the scale of the features or consider increasing regularisation. Duality gap: 1.900e+05, tolerance: 4.553e+01 Linear regression models with null weight for the l1 regularization term are more efficiently fitted using one of the solvers implemented in sklearn.linear_model.Ridge/RidgeCV instead.\n",
            "  coef_, l1_reg, l2_reg, X, y, max_iter, tol, rng, random, positive\n",
            "/home/anand/.local/lib/python3.7/site-packages/sklearn/linear_model/_coordinate_descent.py:648: ConvergenceWarning: Objective did not converge. You might want to increase the number of iterations, check the scale of the features or consider increasing regularisation. Duality gap: 2.231e+05, tolerance: 5.322e+01 Linear regression models with null weight for the l1 regularization term are more efficiently fitted using one of the solvers implemented in sklearn.linear_model.Ridge/RidgeCV instead.\n",
            "  coef_, l1_reg, l2_reg, X, y, max_iter, tol, rng, random, positive\n",
            "/home/anand/.local/lib/python3.7/site-packages/sklearn/linear_model/_coordinate_descent.py:648: ConvergenceWarning: Objective did not converge. You might want to increase the number of iterations, check the scale of the features or consider increasing regularisation. Duality gap: 2.554e+05, tolerance: 6.090e+01 Linear regression models with null weight for the l1 regularization term are more efficiently fitted using one of the solvers implemented in sklearn.linear_model.Ridge/RidgeCV instead.\n",
            "  coef_, l1_reg, l2_reg, X, y, max_iter, tol, rng, random, positive\n",
            "/home/anand/.local/lib/python3.7/site-packages/sklearn/linear_model/_coordinate_descent.py:648: ConvergenceWarning: Objective did not converge. You might want to increase the number of iterations, check the scale of the features or consider increasing regularisation. Duality gap: 3.624e+05, tolerance: 8.837e+01 Linear regression models with null weight for the l1 regularization term are more efficiently fitted using one of the solvers implemented in sklearn.linear_model.Ridge/RidgeCV instead.\n",
            "  coef_, l1_reg, l2_reg, X, y, max_iter, tol, rng, random, positive\n",
            "/home/anand/.local/lib/python3.7/site-packages/sklearn/linear_model/_coordinate_descent.py:648: ConvergenceWarning: Objective did not converge. You might want to increase the number of iterations, check the scale of the features or consider increasing regularisation. Duality gap: 6.214e+01, tolerance: 1.274e-02 Linear regression models with null weight for the l1 regularization term are more efficiently fitted using one of the solvers implemented in sklearn.linear_model.Ridge/RidgeCV instead.\n",
            "  coef_, l1_reg, l2_reg, X, y, max_iter, tol, rng, random, positive\n",
            "/home/anand/.local/lib/python3.7/site-packages/sklearn/linear_model/_coordinate_descent.py:648: ConvergenceWarning: Objective did not converge. You might want to increase the number of iterations, check the scale of the features or consider increasing regularisation. Duality gap: 1.122e+02, tolerance: 2.287e-02 Linear regression models with null weight for the l1 regularization term are more efficiently fitted using one of the solvers implemented in sklearn.linear_model.Ridge/RidgeCV instead.\n",
            "  coef_, l1_reg, l2_reg, X, y, max_iter, tol, rng, random, positive\n",
            "/home/anand/.local/lib/python3.7/site-packages/sklearn/linear_model/_coordinate_descent.py:648: ConvergenceWarning: Objective did not converge. You might want to increase the number of iterations, check the scale of the features or consider increasing regularisation. Duality gap: 2.073e+02, tolerance: 4.200e-02 Linear regression models with null weight for the l1 regularization term are more efficiently fitted using one of the solvers implemented in sklearn.linear_model.Ridge/RidgeCV instead.\n",
            "  coef_, l1_reg, l2_reg, X, y, max_iter, tol, rng, random, positive\n",
            "/home/anand/.local/lib/python3.7/site-packages/sklearn/linear_model/_coordinate_descent.py:648: ConvergenceWarning: Objective did not converge. You might want to increase the number of iterations, check the scale of the features or consider increasing regularisation. Duality gap: 5.611e+03, tolerance: 1.154e+00 Linear regression models with null weight for the l1 regularization term are more efficiently fitted using one of the solvers implemented in sklearn.linear_model.Ridge/RidgeCV instead.\n",
            "  coef_, l1_reg, l2_reg, X, y, max_iter, tol, rng, random, positive\n",
            "/home/anand/.local/lib/python3.7/site-packages/sklearn/linear_model/_coordinate_descent.py:648: ConvergenceWarning: Objective did not converge. You might want to increase the number of iterations, check the scale of the features or consider increasing regularisation. Duality gap: 6.707e+04, tolerance: 1.365e+01 Linear regression models with null weight for the l1 regularization term are more efficiently fitted using one of the solvers implemented in sklearn.linear_model.Ridge/RidgeCV instead.\n",
            "  coef_, l1_reg, l2_reg, X, y, max_iter, tol, rng, random, positive\n",
            "/home/anand/.local/lib/python3.7/site-packages/sklearn/linear_model/_coordinate_descent.py:648: ConvergenceWarning: Objective did not converge. You might want to increase the number of iterations, check the scale of the features or consider increasing regularisation. Duality gap: 1.562e+05, tolerance: 3.184e+01 Linear regression models with null weight for the l1 regularization term are more efficiently fitted using one of the solvers implemented in sklearn.linear_model.Ridge/RidgeCV instead.\n",
            "  coef_, l1_reg, l2_reg, X, y, max_iter, tol, rng, random, positive\n",
            "/home/anand/.local/lib/python3.7/site-packages/sklearn/linear_model/_coordinate_descent.py:648: ConvergenceWarning: Objective did not converge. You might want to increase the number of iterations, check the scale of the features or consider increasing regularisation. Duality gap: 2.231e+05, tolerance: 4.553e+01 Linear regression models with null weight for the l1 regularization term are more efficiently fitted using one of the solvers implemented in sklearn.linear_model.Ridge/RidgeCV instead.\n",
            "  coef_, l1_reg, l2_reg, X, y, max_iter, tol, rng, random, positive\n",
            "/home/anand/.local/lib/python3.7/site-packages/sklearn/linear_model/_coordinate_descent.py:648: ConvergenceWarning: Objective did not converge. You might want to increase the number of iterations, check the scale of the features or consider increasing regularisation. Duality gap: 2.610e+05, tolerance: 5.322e+01 Linear regression models with null weight for the l1 regularization term are more efficiently fitted using one of the solvers implemented in sklearn.linear_model.Ridge/RidgeCV instead.\n",
            "  coef_, l1_reg, l2_reg, X, y, max_iter, tol, rng, random, positive\n",
            "/home/anand/.local/lib/python3.7/site-packages/sklearn/linear_model/_coordinate_descent.py:648: ConvergenceWarning: Objective did not converge. You might want to increase the number of iterations, check the scale of the features or consider increasing regularisation. Duality gap: 2.986e+05, tolerance: 6.090e+01 Linear regression models with null weight for the l1 regularization term are more efficiently fitted using one of the solvers implemented in sklearn.linear_model.Ridge/RidgeCV instead.\n",
            "  coef_, l1_reg, l2_reg, X, y, max_iter, tol, rng, random, positive\n",
            "/home/anand/.local/lib/python3.7/site-packages/sklearn/linear_model/_coordinate_descent.py:648: ConvergenceWarning: Objective did not converge. You might want to increase the number of iterations, check the scale of the features or consider increasing regularisation. Duality gap: 4.322e+05, tolerance: 8.837e+01 Linear regression models with null weight for the l1 regularization term are more efficiently fitted using one of the solvers implemented in sklearn.linear_model.Ridge/RidgeCV instead.\n",
            "  coef_, l1_reg, l2_reg, X, y, max_iter, tol, rng, random, positive\n",
            "/home/anand/.local/lib/python3.7/site-packages/sklearn/linear_model/_coordinate_descent.py:648: ConvergenceWarning: Objective did not converge. You might want to increase the number of iterations, check the scale of the features or consider increasing regularisation. Duality gap: 6.354e+01, tolerance: 1.274e-02 Linear regression models with null weight for the l1 regularization term are more efficiently fitted using one of the solvers implemented in sklearn.linear_model.Ridge/RidgeCV instead.\n",
            "  coef_, l1_reg, l2_reg, X, y, max_iter, tol, rng, random, positive\n",
            "/home/anand/.local/lib/python3.7/site-packages/sklearn/linear_model/_coordinate_descent.py:648: ConvergenceWarning: Objective did not converge. You might want to increase the number of iterations, check the scale of the features or consider increasing regularisation. Duality gap: 1.141e+02, tolerance: 2.287e-02 Linear regression models with null weight for the l1 regularization term are more efficiently fitted using one of the solvers implemented in sklearn.linear_model.Ridge/RidgeCV instead.\n",
            "  coef_, l1_reg, l2_reg, X, y, max_iter, tol, rng, random, positive\n",
            "/home/anand/.local/lib/python3.7/site-packages/sklearn/linear_model/_coordinate_descent.py:648: ConvergenceWarning: Objective did not converge. You might want to increase the number of iterations, check the scale of the features or consider increasing regularisation. Duality gap: 2.097e+02, tolerance: 4.200e-02 Linear regression models with null weight for the l1 regularization term are more efficiently fitted using one of the solvers implemented in sklearn.linear_model.Ridge/RidgeCV instead.\n",
            "  coef_, l1_reg, l2_reg, X, y, max_iter, tol, rng, random, positive\n",
            "/home/anand/.local/lib/python3.7/site-packages/sklearn/linear_model/_coordinate_descent.py:648: ConvergenceWarning: Objective did not converge. You might want to increase the number of iterations, check the scale of the features or consider increasing regularisation. Duality gap: 5.749e+03, tolerance: 1.154e+00 Linear regression models with null weight for the l1 regularization term are more efficiently fitted using one of the solvers implemented in sklearn.linear_model.Ridge/RidgeCV instead.\n",
            "  coef_, l1_reg, l2_reg, X, y, max_iter, tol, rng, random, positive\n",
            "/home/anand/.local/lib/python3.7/site-packages/sklearn/linear_model/_coordinate_descent.py:648: ConvergenceWarning: Objective did not converge. You might want to increase the number of iterations, check the scale of the features or consider increasing regularisation. Duality gap: 6.811e+04, tolerance: 1.365e+01 Linear regression models with null weight for the l1 regularization term are more efficiently fitted using one of the solvers implemented in sklearn.linear_model.Ridge/RidgeCV instead.\n",
            "  coef_, l1_reg, l2_reg, X, y, max_iter, tol, rng, random, positive\n",
            "/home/anand/.local/lib/python3.7/site-packages/sklearn/linear_model/_coordinate_descent.py:648: ConvergenceWarning: Objective did not converge. You might want to increase the number of iterations, check the scale of the features or consider increasing regularisation. Duality gap: 1.589e+05, tolerance: 3.184e+01 Linear regression models with null weight for the l1 regularization term are more efficiently fitted using one of the solvers implemented in sklearn.linear_model.Ridge/RidgeCV instead.\n",
            "  coef_, l1_reg, l2_reg, X, y, max_iter, tol, rng, random, positive\n"
          ]
        },
        {
          "name": "stderr",
          "output_type": "stream",
          "text": [
            "/home/anand/.local/lib/python3.7/site-packages/sklearn/linear_model/_coordinate_descent.py:648: ConvergenceWarning: Objective did not converge. You might want to increase the number of iterations, check the scale of the features or consider increasing regularisation. Duality gap: 2.272e+05, tolerance: 4.553e+01 Linear regression models with null weight for the l1 regularization term are more efficiently fitted using one of the solvers implemented in sklearn.linear_model.Ridge/RidgeCV instead.\n",
            "  coef_, l1_reg, l2_reg, X, y, max_iter, tol, rng, random, positive\n",
            "/home/anand/.local/lib/python3.7/site-packages/sklearn/linear_model/_coordinate_descent.py:648: ConvergenceWarning: Objective did not converge. You might want to increase the number of iterations, check the scale of the features or consider increasing regularisation. Duality gap: 2.656e+05, tolerance: 5.322e+01 Linear regression models with null weight for the l1 regularization term are more efficiently fitted using one of the solvers implemented in sklearn.linear_model.Ridge/RidgeCV instead.\n",
            "  coef_, l1_reg, l2_reg, X, y, max_iter, tol, rng, random, positive\n",
            "/home/anand/.local/lib/python3.7/site-packages/sklearn/linear_model/_coordinate_descent.py:648: ConvergenceWarning: Objective did not converge. You might want to increase the number of iterations, check the scale of the features or consider increasing regularisation. Duality gap: 3.039e+05, tolerance: 6.090e+01 Linear regression models with null weight for the l1 regularization term are more efficiently fitted using one of the solvers implemented in sklearn.linear_model.Ridge/RidgeCV instead.\n",
            "  coef_, l1_reg, l2_reg, X, y, max_iter, tol, rng, random, positive\n",
            "/home/anand/.local/lib/python3.7/site-packages/sklearn/linear_model/_coordinate_descent.py:648: ConvergenceWarning: Objective did not converge. You might want to increase the number of iterations, check the scale of the features or consider increasing regularisation. Duality gap: 4.408e+05, tolerance: 8.837e+01 Linear regression models with null weight for the l1 regularization term are more efficiently fitted using one of the solvers implemented in sklearn.linear_model.Ridge/RidgeCV instead.\n",
            "  coef_, l1_reg, l2_reg, X, y, max_iter, tol, rng, random, positive\n",
            "/home/anand/.local/lib/python3.7/site-packages/sklearn/linear_model/_coordinate_descent.py:648: ConvergenceWarning: Objective did not converge. You might want to increase the number of iterations, check the scale of the features or consider increasing regularisation. Duality gap: 6.370e+01, tolerance: 1.274e-02 Linear regression models with null weight for the l1 regularization term are more efficiently fitted using one of the solvers implemented in sklearn.linear_model.Ridge/RidgeCV instead.\n",
            "  coef_, l1_reg, l2_reg, X, y, max_iter, tol, rng, random, positive\n",
            "/home/anand/.local/lib/python3.7/site-packages/sklearn/linear_model/_coordinate_descent.py:648: ConvergenceWarning: Objective did not converge. You might want to increase the number of iterations, check the scale of the features or consider increasing regularisation. Duality gap: 1.143e+02, tolerance: 2.287e-02 Linear regression models with null weight for the l1 regularization term are more efficiently fitted using one of the solvers implemented in sklearn.linear_model.Ridge/RidgeCV instead.\n",
            "  coef_, l1_reg, l2_reg, X, y, max_iter, tol, rng, random, positive\n",
            "/home/anand/.local/lib/python3.7/site-packages/sklearn/linear_model/_coordinate_descent.py:648: ConvergenceWarning: Objective did not converge. You might want to increase the number of iterations, check the scale of the features or consider increasing regularisation. Duality gap: 2.100e+02, tolerance: 4.200e-02 Linear regression models with null weight for the l1 regularization term are more efficiently fitted using one of the solvers implemented in sklearn.linear_model.Ridge/RidgeCV instead.\n",
            "  coef_, l1_reg, l2_reg, X, y, max_iter, tol, rng, random, positive\n",
            "/home/anand/.local/lib/python3.7/site-packages/sklearn/linear_model/_coordinate_descent.py:648: ConvergenceWarning: Objective did not converge. You might want to increase the number of iterations, check the scale of the features or consider increasing regularisation. Duality gap: 5.766e+03, tolerance: 1.154e+00 Linear regression models with null weight for the l1 regularization term are more efficiently fitted using one of the solvers implemented in sklearn.linear_model.Ridge/RidgeCV instead.\n",
            "  coef_, l1_reg, l2_reg, X, y, max_iter, tol, rng, random, positive\n",
            "/home/anand/.local/lib/python3.7/site-packages/sklearn/linear_model/_coordinate_descent.py:648: ConvergenceWarning: Objective did not converge. You might want to increase the number of iterations, check the scale of the features or consider increasing regularisation. Duality gap: 6.823e+04, tolerance: 1.365e+01 Linear regression models with null weight for the l1 regularization term are more efficiently fitted using one of the solvers implemented in sklearn.linear_model.Ridge/RidgeCV instead.\n",
            "  coef_, l1_reg, l2_reg, X, y, max_iter, tol, rng, random, positive\n",
            "/home/anand/.local/lib/python3.7/site-packages/sklearn/linear_model/_coordinate_descent.py:648: ConvergenceWarning: Objective did not converge. You might want to increase the number of iterations, check the scale of the features or consider increasing regularisation. Duality gap: 1.592e+05, tolerance: 3.184e+01 Linear regression models with null weight for the l1 regularization term are more efficiently fitted using one of the solvers implemented in sklearn.linear_model.Ridge/RidgeCV instead.\n",
            "  coef_, l1_reg, l2_reg, X, y, max_iter, tol, rng, random, positive\n",
            "/home/anand/.local/lib/python3.7/site-packages/sklearn/linear_model/_coordinate_descent.py:648: ConvergenceWarning: Objective did not converge. You might want to increase the number of iterations, check the scale of the features or consider increasing regularisation. Duality gap: 2.276e+05, tolerance: 4.553e+01 Linear regression models with null weight for the l1 regularization term are more efficiently fitted using one of the solvers implemented in sklearn.linear_model.Ridge/RidgeCV instead.\n",
            "  coef_, l1_reg, l2_reg, X, y, max_iter, tol, rng, random, positive\n",
            "/home/anand/.local/lib/python3.7/site-packages/sklearn/linear_model/_coordinate_descent.py:648: ConvergenceWarning: Objective did not converge. You might want to increase the number of iterations, check the scale of the features or consider increasing regularisation. Duality gap: 2.660e+05, tolerance: 5.322e+01 Linear regression models with null weight for the l1 regularization term are more efficiently fitted using one of the solvers implemented in sklearn.linear_model.Ridge/RidgeCV instead.\n",
            "  coef_, l1_reg, l2_reg, X, y, max_iter, tol, rng, random, positive\n",
            "/home/anand/.local/lib/python3.7/site-packages/sklearn/linear_model/_coordinate_descent.py:648: ConvergenceWarning: Objective did not converge. You might want to increase the number of iterations, check the scale of the features or consider increasing regularisation. Duality gap: 3.044e+05, tolerance: 6.090e+01 Linear regression models with null weight for the l1 regularization term are more efficiently fitted using one of the solvers implemented in sklearn.linear_model.Ridge/RidgeCV instead.\n",
            "  coef_, l1_reg, l2_reg, X, y, max_iter, tol, rng, random, positive\n",
            "/home/anand/.local/lib/python3.7/site-packages/sklearn/linear_model/_coordinate_descent.py:648: ConvergenceWarning: Objective did not converge. You might want to increase the number of iterations, check the scale of the features or consider increasing regularisation. Duality gap: 4.417e+05, tolerance: 8.837e+01 Linear regression models with null weight for the l1 regularization term are more efficiently fitted using one of the solvers implemented in sklearn.linear_model.Ridge/RidgeCV instead.\n",
            "  coef_, l1_reg, l2_reg, X, y, max_iter, tol, rng, random, positive\n"
          ]
        },
        {
          "name": "stdout",
          "output_type": "stream",
          "text": [
            "Mean squared error: 186093.40\n",
            "Coefficient of determination: -0.47\n",
            "Best parameters:  {'alpha': 0.1, 'l1_ratio': 1.0, 'max_iter': 5000}\n"
          ]
        },
        {
          "data": {
            "image/png": "[encoded data removed]",
            "text/plain": [
              "<Figure size 432x288 with 1 Axes>"
            ]
          },
          "metadata": {
            "needs_background": "light"
          },
          "output_type": "display_data"
        },
        {
          "name": "stdout",
          "output_type": "stream",
          "text": [
            "Mean of residuals: 304.3845587602106\n",
            "Std of residuals: 305.68519492002486\n"
          ]
        }
      ],
      "source": [
        "ElasticNet_reg = linear_model.ElasticNet()\n",
        "hyperparams = {'l1_ratio': np.linspace(0, 1, 9), 'max_iter': [5000], 'alpha': np.logspace(-1, 3, 5)}\n",
        "ElasticNet_dat = GridSearchCV(estimator=ElasticNet_reg, param_grid=hyperparams, cv=timeSplitCV)\n",
        "ElasticNet_dat.fit(X_train, y_train)\n",
        "y_pred = ElasticNet_dat.predict(X_test)\n",
        "print(\"Mean squared error: %.2f\" % mean_squared_error(y_test, y_pred))\n",
        "print(\"Coefficient of determination: %.2f\" % r2_score(y_test, y_pred))\n",
        "print(\"Best parameters: \", ElasticNet_dat.best_params_)\n",
        "residual = y_test-y_pred\n",
        "plt.plot([i for i in range(len(y_test))], residual)\n",
        "plt.xlabel('Days')\n",
        "plt.ylabel(\"Residual\")\n",
        "plt.title(\"Residuals for ElasticNet Regression\")\n",
        "plt.show()\n",
        "print(\"Mean of residuals:\", residual.mean())\n",
        "print(\"Std of residuals:\", residual.std())"
      ]
    },
    {
      "cell_type": "code",
      "execution_count": null,
      "id": "8b33cc1e",
      "metadata": {
        "colab": {
          "base_uri": "https://localhost:8080/",
          "height": 279
        },
        "id": "8b33cc1e",
        "outputId": "fe037078-12ca-465e-df92-93c5e2d90fb8"
      },
      "outputs": [
        {
          "data": {
            "image/png": "[encoded data removed]",
            "text/plain": [
              "<Figure size 432x288 with 1 Axes>"
            ]
          },
          "metadata": {
            "needs_background": "light"
          },
          "output_type": "display_data"
        }
      ],
      "source": [
        "plt.plot(y_test)\n",
        "plt.plot(y_pred)\n",
        "plt.legend(['Test data', 'Predicted data'])\n",
        "plt.xlabel(\"Days\")\n",
        "plt.ylabel(\"Closing price\")\n",
        "plt.show()"
      ]
    },
    {
      "cell_type": "markdown",
      "id": "674bc495",
      "metadata": {
        "id": "674bc495"
      },
      "source": [
        "### [Generalized Linear Regression Models](https://scikit-learn.org/stable/modules/linear_model.html#generalized-linear-regression)"
      ]
    },
    {
      "cell_type": "markdown",
      "id": "0b3f0bb1",
      "metadata": {
        "id": "0b3f0bb1"
      },
      "source": [
        "#### [Poisson Regressor](https://scikit-learn.org/stable/modules/generated/sklearn.linear_model.PoissonRegressor.html#sklearn.linear_model.PoissonRegressor)\n",
        "Generalized Linear Model with a Poisson distribution."
      ]
    },
    {
      "cell_type": "code",
      "execution_count": null,
      "id": "f46be156",
      "metadata": {
        "colab": {
          "base_uri": "https://localhost:8080/",
          "height": 399
        },
        "id": "f46be156",
        "outputId": "d2542438-8971-4da1-aad4-aea50e13f428"
      },
      "outputs": [
        {
          "name": "stdout",
          "output_type": "stream",
          "text": [
            "Mean squared error: 2621044.52\n",
            "Mean Absolute Percentage error: 127.71\n",
            "Mean Absolute error: 915.83\n",
            "Coefficient of determination: -19.66\n"
          ]
        },
        {
          "data": {
            "image/png": "[encoded data removed]",
            "text/plain": [
              "<Figure size 432x288 with 1 Axes>"
            ]
          },
          "metadata": {
            "needs_background": "light"
          },
          "output_type": "display_data"
        },
        {
          "name": "stdout",
          "output_type": "stream",
          "text": [
            "Mean of residuals: -890.268953787697\n",
            "Std of residuals: 1352.2077176753664\n"
          ]
        }
      ],
      "source": [
        "poisson_reg = linear_model.PoissonRegressor()\n",
        "poisson_reg.fit(X_train, y_train)\n",
        "y_pred = poisson_reg.predict(X_test)\n",
        "print(\"Mean squared error: %.2f\" % mean_squared_error(y_test, y_pred))\n",
        "print(\"Mean Absolute Percentage error: %.2f\" % (100*mean_absolute_percentage_error(y_test, y_pred)))\n",
        "print(\"Mean Absolute error: %.2f\" % mean_absolute_error(y_test, y_pred))\n",
        "print(\"Coefficient of determination: %.2f\" % r2_score(y_test, y_pred))\n",
        "residual = y_test-y_pred\n",
        "plt.plot([i for i in range(len(y_test))], residual)\n",
        "plt.xlabel('Days')\n",
        "plt.ylabel(\"Residual\")\n",
        "plt.title(\"Residuals for Poisson Regression\")\n",
        "plt.show()\n",
        "print(\"Mean of residuals:\", residual.mean())\n",
        "print(\"Std of residuals:\", residual.std())"
      ]
    },
    {
      "cell_type": "code",
      "execution_count": null,
      "id": "990d1a5f",
      "metadata": {
        "colab": {
          "base_uri": "https://localhost:8080/",
          "height": 279
        },
        "id": "990d1a5f",
        "outputId": "4ed5b5ee-24e2-4505-e3c1-314ffd9cc544"
      },
      "outputs": [
        {
          "data": {
            "image/png": "[encoded data removed]",
            "text/plain": [
              "<Figure size 432x288 with 1 Axes>"
            ]
          },
          "metadata": {
            "needs_background": "light"
          },
          "output_type": "display_data"
        }
      ],
      "source": [
        "plt.plot(y_test)\n",
        "plt.plot(y_pred)\n",
        "plt.legend(['Test data', 'Predicted data'])\n",
        "plt.xlabel(\"Days\")\n",
        "plt.ylabel(\"Closing price\")\n",
        "plt.show()"
      ]
    },
    {
      "cell_type": "markdown",
      "id": "36ad9497",
      "metadata": {
        "id": "36ad9497"
      },
      "source": [
        "#### [Gamma Regressor](https://scikit-learn.org/stable/modules/generated/sklearn.linear_model.GammaRegressor.html#sklearn.linear_model.GammaRegressor)\n",
        "Generalized Linear Model with a Gamma distribution. This regressor uses the ‘log’ link function."
      ]
    },
    {
      "cell_type": "code",
      "execution_count": null,
      "id": "d57b0de3",
      "metadata": {
        "colab": {
          "base_uri": "https://localhost:8080/",
          "height": 399
        },
        "id": "d57b0de3",
        "outputId": "7abf1252-3eb4-4fa4-d5ee-2747ffe9fbd3"
      },
      "outputs": [
        {
          "name": "stdout",
          "output_type": "stream",
          "text": [
            "Mean squared error: 233182.64\n",
            "Mean Absolute Percentage error: 70.17\n",
            "Mean Absolute error: 348.03\n",
            "Coefficient of determination: -0.84\n"
          ]
        },
        {
          "data": {
            "image/png": "[encoded data removed]",
            "text/plain": [
              "<Figure size 432x288 with 1 Axes>"
            ]
          },
          "metadata": {
            "needs_background": "light"
          },
          "output_type": "display_data"
        },
        {
          "name": "stdout",
          "output_type": "stream",
          "text": [
            "Mean of residuals: 348.0305109093813\n",
            "Std of residuals: 334.7497640948524\n"
          ]
        }
      ],
      "source": [
        "gamma_reg = linear_model.GammaRegressor()\n",
        "gamma_reg.fit(X_train, y_train)\n",
        "y_pred = gamma_reg.predict(X_test)\n",
        "print(\"Mean squared error: %.2f\" % mean_squared_error(y_test, y_pred))\n",
        "print(\"Mean Absolute Percentage error: %.2f\" % (100*mean_absolute_percentage_error(y_test, y_pred)))\n",
        "print(\"Mean Absolute error: %.2f\" % mean_absolute_error(y_test, y_pred))\n",
        "print(\"Coefficient of determination: %.2f\" % r2_score(y_test, y_pred))\n",
        "residual = y_test-y_pred\n",
        "plt.plot([i for i in range(len(y_test))], residual)\n",
        "plt.xlabel('Days')\n",
        "plt.ylabel(\"Residual\")\n",
        "plt.title(\"Residuals for Gamma Regression\")\n",
        "plt.show()\n",
        "print(\"Mean of residuals:\", residual.mean())\n",
        "print(\"Std of residuals:\", residual.std())"
      ]
    },
    {
      "cell_type": "code",
      "execution_count": null,
      "id": "20be727f",
      "metadata": {
        "colab": {
          "base_uri": "https://localhost:8080/",
          "height": 280
        },
        "id": "20be727f",
        "outputId": "96a7674d-82bb-478f-a6c5-72cd3a0ff0a4"
      },
      "outputs": [
        {
          "data": {
            "image/png": "[encoded data removed]",
            "text/plain": [
              "<Figure size 432x288 with 1 Axes>"
            ]
          },
          "metadata": {
            "needs_background": "light"
          },
          "output_type": "display_data"
        }
      ],
      "source": [
        "plt.plot(y_test)\n",
        "plt.plot(y_pred)\n",
        "plt.legend(['Test data', 'Predicted data'])\n",
        "plt.xlabel(\"Days\")\n",
        "plt.ylabel(\"Closing price\")\n",
        "plt.show()"
      ]
    },
    {
      "cell_type": "markdown",
      "id": "ql0w_BaA2jWY",
      "metadata": {
        "id": "ql0w_BaA2jWY"
      },
      "source": [
        "### Random Forest Regressor"
      ]
    },
    {
      "cell_type": "code",
      "execution_count": null,
      "id": "taMe3oP62nKV",
      "metadata": {
        "colab": {
          "base_uri": "https://localhost:8080/",
          "height": 399
        },
        "id": "taMe3oP62nKV",
        "outputId": "41e429d0-1c35-4f93-93d7-1d00f9fd1d16"
      },
      "outputs": [
        {
          "name": "stdout",
          "output_type": "stream",
          "text": [
            "Mean squared error: 238258.95\n",
            "Mean Absolute Percentage error: 54.29\n",
            "Mean Absolute error: 339.18\n",
            "Coefficient of determination: -0.88\n"
          ]
        },
        {
          "data": {
            "image/png": "[encoded data removed]",
            "text/plain": [
              "<Figure size 432x288 with 1 Axes>"
            ]
          },
          "metadata": {
            "needs_background": "light"
          },
          "output_type": "display_data"
        },
        {
          "name": "stdout",
          "output_type": "stream",
          "text": [
            "Mean of residuals: 338.5182349033973\n",
            "Std of residuals: 351.65943112135005\n"
          ]
        }
      ],
      "source": [
        "from sklearn.ensemble import RandomForestRegressor\n",
        "rfg = RandomForestRegressor()\n",
        "rfg.fit(X_train, y_train)\n",
        "y_pred = rfg.predict(X_test)\n",
        "print(\"Mean squared error: %.2f\" % mean_squared_error(y_test, y_pred))\n",
        "print(\"Mean Absolute Percentage error: %.2f\" % (100*mean_absolute_percentage_error(y_test, y_pred)))\n",
        "print(\"Mean Absolute error: %.2f\" % mean_absolute_error(y_test, y_pred))\n",
        "print(\"Coefficient of determination: %.2f\" % r2_score(y_test, y_pred))\n",
        "residual = y_test-y_pred\n",
        "plt.plot([i for i in range(len(y_test))], residual)\n",
        "plt.xlabel('Days')\n",
        "plt.ylabel(\"Residual\")\n",
        "plt.title(\"Residuals for Gamma Regression\")\n",
        "plt.show()\n",
        "print(\"Mean of residuals:\", residual.mean())\n",
        "print(\"Std of residuals:\", residual.std())"
      ]
    },
    {
      "cell_type": "code",
      "execution_count": null,
      "id": "7i9X2LZ_2vmm",
      "metadata": {
        "colab": {
          "base_uri": "https://localhost:8080/",
          "height": 279
        },
        "id": "7i9X2LZ_2vmm",
        "outputId": "b1c8d058-052b-4629-9535-ef89fed4ceef"
      },
      "outputs": [
        {
          "data": {
            "image/png": "[encoded data removed]",
            "text/plain": [
              "<Figure size 432x288 with 1 Axes>"
            ]
          },
          "metadata": {
            "needs_background": "light"
          },
          "output_type": "display_data"
        }
      ],
      "source": [
        "plt.plot(y_test)\n",
        "plt.plot(y_pred)\n",
        "plt.legend(['Test data', 'Predicted data'])\n",
        "plt.xlabel(\"Days\")\n",
        "plt.ylabel(\"Closing price\")\n",
        "plt.show()"
      ]
    },
    {
      "cell_type": "markdown",
      "id": "mSCyc6Cex2qS",
      "metadata": {
        "id": "mSCyc6Cex2qS"
      },
      "source": [
        "### Xgboost regressor"
      ]
    },
    {
      "cell_type": "code",
      "execution_count": null,
      "id": "QD2B7-aNx96N",
      "metadata": {
        "colab": {
          "base_uri": "https://localhost:8080/",
          "height": 417
        },
        "id": "QD2B7-aNx96N",
        "outputId": "57fa063e-1c68-4ef1-e09d-bcd0947162e3"
      },
      "outputs": [
        {
          "name": "stderr",
          "output_type": "stream",
          "text": [
            "/home/anand/.local/lib/python3.7/site-packages/pkg_resources/__init__.py:126: PkgResourcesDeprecationWarning: 0.18ubuntu0.18.04.1 is an invalid version and will not be supported in a future release\n",
            "  PkgResourcesDeprecationWarning,\n",
            "/home/anand/.local/lib/python3.7/site-packages/sklearn/model_selection/_validation.py:774: UserWarning: Scoring failed. The score on this train-test partition for these parameters will be set to nan. Details: \n",
            "Traceback (most recent call last):\n",
            "  File \"/home/anand/.local/lib/python3.7/site-packages/sklearn/model_selection/_validation.py\", line 761, in _score\n",
            "    scores = scorer(estimator, X_test, y_test)\n",
            "  File \"/home/anand/.local/lib/python3.7/site-packages/sklearn/metrics/_scorer.py\", line 418, in _passthrough_scorer\n",
            "    return estimator.score(*args, **kwargs)\n",
            "  File \"/home/anand/.local/lib/python3.7/site-packages/sklearn/base.py\", line 706, in score\n",
            "    return r2_score(y, y_pred, sample_weight=sample_weight)\n",
            "  File \"/home/anand/.local/lib/python3.7/site-packages/sklearn/metrics/_regression.py\", line 790, in r2_score\n",
            "    y_true, y_pred, multioutput\n",
            "  File \"/home/anand/.local/lib/python3.7/site-packages/sklearn/metrics/_regression.py\", line 96, in _check_reg_targets\n",
            "    y_pred = check_array(y_pred, ensure_2d=False, dtype=dtype)\n",
            "  File \"/home/anand/.local/lib/python3.7/site-packages/sklearn/utils/validation.py\", line 800, in check_array\n",
            "    _assert_all_finite(array, allow_nan=force_all_finite == \"allow-nan\")\n",
            "  File \"/home/anand/.local/lib/python3.7/site-packages/sklearn/utils/validation.py\", line 116, in _assert_all_finite\n",
            "    type_err, msg_dtype if msg_dtype is not None else X.dtype\n",
            "ValueError: Input contains NaN, infinity or a value too large for dtype('float32').\n",
            "\n",
            "  UserWarning,\n",
            "/home/anand/.local/lib/python3.7/site-packages/sklearn/model_selection/_validation.py:774: UserWarning: Scoring failed. The score on this train-test partition for these parameters will be set to nan. Details: \n",
            "Traceback (most recent call last):\n",
            "  File \"/home/anand/.local/lib/python3.7/site-packages/sklearn/model_selection/_validation.py\", line 761, in _score\n",
            "    scores = scorer(estimator, X_test, y_test)\n",
            "  File \"/home/anand/.local/lib/python3.7/site-packages/sklearn/metrics/_scorer.py\", line 418, in _passthrough_scorer\n",
            "    return estimator.score(*args, **kwargs)\n",
            "  File \"/home/anand/.local/lib/python3.7/site-packages/sklearn/base.py\", line 706, in score\n",
            "    return r2_score(y, y_pred, sample_weight=sample_weight)\n",
            "  File \"/home/anand/.local/lib/python3.7/site-packages/sklearn/metrics/_regression.py\", line 790, in r2_score\n",
            "    y_true, y_pred, multioutput\n",
            "  File \"/home/anand/.local/lib/python3.7/site-packages/sklearn/metrics/_regression.py\", line 96, in _check_reg_targets\n",
            "    y_pred = check_array(y_pred, ensure_2d=False, dtype=dtype)\n",
            "  File \"/home/anand/.local/lib/python3.7/site-packages/sklearn/utils/validation.py\", line 800, in check_array\n",
            "    _assert_all_finite(array, allow_nan=force_all_finite == \"allow-nan\")\n",
            "  File \"/home/anand/.local/lib/python3.7/site-packages/sklearn/utils/validation.py\", line 116, in _assert_all_finite\n",
            "    type_err, msg_dtype if msg_dtype is not None else X.dtype\n",
            "ValueError: Input contains NaN, infinity or a value too large for dtype('float32').\n",
            "\n",
            "  UserWarning,\n",
            "/home/anand/.local/lib/python3.7/site-packages/sklearn/model_selection/_validation.py:774: UserWarning: Scoring failed. The score on this train-test partition for these parameters will be set to nan. Details: \n",
            "Traceback (most recent call last):\n",
            "  File \"/home/anand/.local/lib/python3.7/site-packages/sklearn/model_selection/_validation.py\", line 761, in _score\n",
            "    scores = scorer(estimator, X_test, y_test)\n",
            "  File \"/home/anand/.local/lib/python3.7/site-packages/sklearn/metrics/_scorer.py\", line 418, in _passthrough_scorer\n",
            "    return estimator.score(*args, **kwargs)\n",
            "  File \"/home/anand/.local/lib/python3.7/site-packages/sklearn/base.py\", line 706, in score\n",
            "    return r2_score(y, y_pred, sample_weight=sample_weight)\n",
            "  File \"/home/anand/.local/lib/python3.7/site-packages/sklearn/metrics/_regression.py\", line 790, in r2_score\n",
            "    y_true, y_pred, multioutput\n",
            "  File \"/home/anand/.local/lib/python3.7/site-packages/sklearn/metrics/_regression.py\", line 96, in _check_reg_targets\n",
            "    y_pred = check_array(y_pred, ensure_2d=False, dtype=dtype)\n",
            "  File \"/home/anand/.local/lib/python3.7/site-packages/sklearn/utils/validation.py\", line 800, in check_array\n",
            "    _assert_all_finite(array, allow_nan=force_all_finite == \"allow-nan\")\n",
            "  File \"/home/anand/.local/lib/python3.7/site-packages/sklearn/utils/validation.py\", line 116, in _assert_all_finite\n",
            "    type_err, msg_dtype if msg_dtype is not None else X.dtype\n",
            "ValueError: Input contains NaN, infinity or a value too large for dtype('float32').\n",
            "\n",
            "  UserWarning,\n",
            "/home/anand/.local/lib/python3.7/site-packages/sklearn/model_selection/_validation.py:774: UserWarning: Scoring failed. The score on this train-test partition for these parameters will be set to nan. Details: \n",
            "Traceback (most recent call last):\n",
            "  File \"/home/anand/.local/lib/python3.7/site-packages/sklearn/model_selection/_validation.py\", line 761, in _score\n",
            "    scores = scorer(estimator, X_test, y_test)\n",
            "  File \"/home/anand/.local/lib/python3.7/site-packages/sklearn/metrics/_scorer.py\", line 418, in _passthrough_scorer\n",
            "    return estimator.score(*args, **kwargs)\n",
            "  File \"/home/anand/.local/lib/python3.7/site-packages/sklearn/base.py\", line 706, in score\n",
            "    return r2_score(y, y_pred, sample_weight=sample_weight)\n",
            "  File \"/home/anand/.local/lib/python3.7/site-packages/sklearn/metrics/_regression.py\", line 790, in r2_score\n",
            "    y_true, y_pred, multioutput\n",
            "  File \"/home/anand/.local/lib/python3.7/site-packages/sklearn/metrics/_regression.py\", line 96, in _check_reg_targets\n",
            "    y_pred = check_array(y_pred, ensure_2d=False, dtype=dtype)\n",
            "  File \"/home/anand/.local/lib/python3.7/site-packages/sklearn/utils/validation.py\", line 800, in check_array\n",
            "    _assert_all_finite(array, allow_nan=force_all_finite == \"allow-nan\")\n",
            "  File \"/home/anand/.local/lib/python3.7/site-packages/sklearn/utils/validation.py\", line 116, in _assert_all_finite\n",
            "    type_err, msg_dtype if msg_dtype is not None else X.dtype\n",
            "ValueError: Input contains NaN, infinity or a value too large for dtype('float32').\n",
            "\n",
            "  UserWarning,\n",
            "/home/anand/.local/lib/python3.7/site-packages/sklearn/model_selection/_validation.py:774: UserWarning: Scoring failed. The score on this train-test partition for these parameters will be set to nan. Details: \n",
            "Traceback (most recent call last):\n",
            "  File \"/home/anand/.local/lib/python3.7/site-packages/sklearn/model_selection/_validation.py\", line 761, in _score\n",
            "    scores = scorer(estimator, X_test, y_test)\n",
            "  File \"/home/anand/.local/lib/python3.7/site-packages/sklearn/metrics/_scorer.py\", line 418, in _passthrough_scorer\n",
            "    return estimator.score(*args, **kwargs)\n",
            "  File \"/home/anand/.local/lib/python3.7/site-packages/sklearn/base.py\", line 706, in score\n",
            "    return r2_score(y, y_pred, sample_weight=sample_weight)\n",
            "  File \"/home/anand/.local/lib/python3.7/site-packages/sklearn/metrics/_regression.py\", line 790, in r2_score\n",
            "    y_true, y_pred, multioutput\n",
            "  File \"/home/anand/.local/lib/python3.7/site-packages/sklearn/metrics/_regression.py\", line 96, in _check_reg_targets\n",
            "    y_pred = check_array(y_pred, ensure_2d=False, dtype=dtype)\n",
            "  File \"/home/anand/.local/lib/python3.7/site-packages/sklearn/utils/validation.py\", line 800, in check_array\n",
            "    _assert_all_finite(array, allow_nan=force_all_finite == \"allow-nan\")\n",
            "  File \"/home/anand/.local/lib/python3.7/site-packages/sklearn/utils/validation.py\", line 116, in _assert_all_finite\n",
            "    type_err, msg_dtype if msg_dtype is not None else X.dtype\n",
            "ValueError: Input contains NaN, infinity or a value too large for dtype('float32').\n",
            "\n",
            "  UserWarning,\n",
            "/home/anand/.local/lib/python3.7/site-packages/sklearn/model_selection/_validation.py:774: UserWarning: Scoring failed. The score on this train-test partition for these parameters will be set to nan. Details: \n",
            "Traceback (most recent call last):\n",
            "  File \"/home/anand/.local/lib/python3.7/site-packages/sklearn/model_selection/_validation.py\", line 761, in _score\n",
            "    scores = scorer(estimator, X_test, y_test)\n",
            "  File \"/home/anand/.local/lib/python3.7/site-packages/sklearn/metrics/_scorer.py\", line 418, in _passthrough_scorer\n",
            "    return estimator.score(*args, **kwargs)\n",
            "  File \"/home/anand/.local/lib/python3.7/site-packages/sklearn/base.py\", line 706, in score\n",
            "    return r2_score(y, y_pred, sample_weight=sample_weight)\n",
            "  File \"/home/anand/.local/lib/python3.7/site-packages/sklearn/metrics/_regression.py\", line 790, in r2_score\n",
            "    y_true, y_pred, multioutput\n",
            "  File \"/home/anand/.local/lib/python3.7/site-packages/sklearn/metrics/_regression.py\", line 96, in _check_reg_targets\n",
            "    y_pred = check_array(y_pred, ensure_2d=False, dtype=dtype)\n",
            "  File \"/home/anand/.local/lib/python3.7/site-packages/sklearn/utils/validation.py\", line 800, in check_array\n",
            "    _assert_all_finite(array, allow_nan=force_all_finite == \"allow-nan\")\n",
            "  File \"/home/anand/.local/lib/python3.7/site-packages/sklearn/utils/validation.py\", line 116, in _assert_all_finite\n",
            "    type_err, msg_dtype if msg_dtype is not None else X.dtype\n",
            "ValueError: Input contains NaN, infinity or a value too large for dtype('float32').\n",
            "\n",
            "  UserWarning,\n"
          ]
        },
        {
          "name": "stderr",
          "output_type": "stream",
          "text": [
            "/home/anand/.local/lib/python3.7/site-packages/sklearn/model_selection/_validation.py:774: UserWarning: Scoring failed. The score on this train-test partition for these parameters will be set to nan. Details: \n",
            "Traceback (most recent call last):\n",
            "  File \"/home/anand/.local/lib/python3.7/site-packages/sklearn/model_selection/_validation.py\", line 761, in _score\n",
            "    scores = scorer(estimator, X_test, y_test)\n",
            "  File \"/home/anand/.local/lib/python3.7/site-packages/sklearn/metrics/_scorer.py\", line 418, in _passthrough_scorer\n",
            "    return estimator.score(*args, **kwargs)\n",
            "  File \"/home/anand/.local/lib/python3.7/site-packages/sklearn/base.py\", line 706, in score\n",
            "    return r2_score(y, y_pred, sample_weight=sample_weight)\n",
            "  File \"/home/anand/.local/lib/python3.7/site-packages/sklearn/metrics/_regression.py\", line 790, in r2_score\n",
            "    y_true, y_pred, multioutput\n",
            "  File \"/home/anand/.local/lib/python3.7/site-packages/sklearn/metrics/_regression.py\", line 96, in _check_reg_targets\n",
            "    y_pred = check_array(y_pred, ensure_2d=False, dtype=dtype)\n",
            "  File \"/home/anand/.local/lib/python3.7/site-packages/sklearn/utils/validation.py\", line 800, in check_array\n",
            "    _assert_all_finite(array, allow_nan=force_all_finite == \"allow-nan\")\n",
            "  File \"/home/anand/.local/lib/python3.7/site-packages/sklearn/utils/validation.py\", line 116, in _assert_all_finite\n",
            "    type_err, msg_dtype if msg_dtype is not None else X.dtype\n",
            "ValueError: Input contains NaN, infinity or a value too large for dtype('float32').\n",
            "\n",
            "  UserWarning,\n",
            "/home/anand/.local/lib/python3.7/site-packages/sklearn/model_selection/_validation.py:774: UserWarning: Scoring failed. The score on this train-test partition for these parameters will be set to nan. Details: \n",
            "Traceback (most recent call last):\n",
            "  File \"/home/anand/.local/lib/python3.7/site-packages/sklearn/model_selection/_validation.py\", line 761, in _score\n",
            "    scores = scorer(estimator, X_test, y_test)\n",
            "  File \"/home/anand/.local/lib/python3.7/site-packages/sklearn/metrics/_scorer.py\", line 418, in _passthrough_scorer\n",
            "    return estimator.score(*args, **kwargs)\n",
            "  File \"/home/anand/.local/lib/python3.7/site-packages/sklearn/base.py\", line 706, in score\n",
            "    return r2_score(y, y_pred, sample_weight=sample_weight)\n",
            "  File \"/home/anand/.local/lib/python3.7/site-packages/sklearn/metrics/_regression.py\", line 790, in r2_score\n",
            "    y_true, y_pred, multioutput\n",
            "  File \"/home/anand/.local/lib/python3.7/site-packages/sklearn/metrics/_regression.py\", line 96, in _check_reg_targets\n",
            "    y_pred = check_array(y_pred, ensure_2d=False, dtype=dtype)\n",
            "  File \"/home/anand/.local/lib/python3.7/site-packages/sklearn/utils/validation.py\", line 800, in check_array\n",
            "    _assert_all_finite(array, allow_nan=force_all_finite == \"allow-nan\")\n",
            "  File \"/home/anand/.local/lib/python3.7/site-packages/sklearn/utils/validation.py\", line 116, in _assert_all_finite\n",
            "    type_err, msg_dtype if msg_dtype is not None else X.dtype\n",
            "ValueError: Input contains NaN, infinity or a value too large for dtype('float32').\n",
            "\n",
            "  UserWarning,\n",
            "/home/anand/.local/lib/python3.7/site-packages/sklearn/model_selection/_validation.py:774: UserWarning: Scoring failed. The score on this train-test partition for these parameters will be set to nan. Details: \n",
            "Traceback (most recent call last):\n",
            "  File \"/home/anand/.local/lib/python3.7/site-packages/sklearn/model_selection/_validation.py\", line 761, in _score\n",
            "    scores = scorer(estimator, X_test, y_test)\n",
            "  File \"/home/anand/.local/lib/python3.7/site-packages/sklearn/metrics/_scorer.py\", line 418, in _passthrough_scorer\n",
            "    return estimator.score(*args, **kwargs)\n",
            "  File \"/home/anand/.local/lib/python3.7/site-packages/sklearn/base.py\", line 706, in score\n",
            "    return r2_score(y, y_pred, sample_weight=sample_weight)\n",
            "  File \"/home/anand/.local/lib/python3.7/site-packages/sklearn/metrics/_regression.py\", line 790, in r2_score\n",
            "    y_true, y_pred, multioutput\n",
            "  File \"/home/anand/.local/lib/python3.7/site-packages/sklearn/metrics/_regression.py\", line 96, in _check_reg_targets\n",
            "    y_pred = check_array(y_pred, ensure_2d=False, dtype=dtype)\n",
            "  File \"/home/anand/.local/lib/python3.7/site-packages/sklearn/utils/validation.py\", line 800, in check_array\n",
            "    _assert_all_finite(array, allow_nan=force_all_finite == \"allow-nan\")\n",
            "  File \"/home/anand/.local/lib/python3.7/site-packages/sklearn/utils/validation.py\", line 116, in _assert_all_finite\n",
            "    type_err, msg_dtype if msg_dtype is not None else X.dtype\n",
            "ValueError: Input contains NaN, infinity or a value too large for dtype('float32').\n",
            "\n",
            "  UserWarning,\n",
            "/home/anand/.local/lib/python3.7/site-packages/sklearn/model_selection/_validation.py:774: UserWarning: Scoring failed. The score on this train-test partition for these parameters will be set to nan. Details: \n",
            "Traceback (most recent call last):\n",
            "  File \"/home/anand/.local/lib/python3.7/site-packages/sklearn/model_selection/_validation.py\", line 761, in _score\n",
            "    scores = scorer(estimator, X_test, y_test)\n",
            "  File \"/home/anand/.local/lib/python3.7/site-packages/sklearn/metrics/_scorer.py\", line 418, in _passthrough_scorer\n",
            "    return estimator.score(*args, **kwargs)\n",
            "  File \"/home/anand/.local/lib/python3.7/site-packages/sklearn/base.py\", line 706, in score\n",
            "    return r2_score(y, y_pred, sample_weight=sample_weight)\n",
            "  File \"/home/anand/.local/lib/python3.7/site-packages/sklearn/metrics/_regression.py\", line 790, in r2_score\n",
            "    y_true, y_pred, multioutput\n",
            "  File \"/home/anand/.local/lib/python3.7/site-packages/sklearn/metrics/_regression.py\", line 96, in _check_reg_targets\n",
            "    y_pred = check_array(y_pred, ensure_2d=False, dtype=dtype)\n",
            "  File \"/home/anand/.local/lib/python3.7/site-packages/sklearn/utils/validation.py\", line 800, in check_array\n",
            "    _assert_all_finite(array, allow_nan=force_all_finite == \"allow-nan\")\n",
            "  File \"/home/anand/.local/lib/python3.7/site-packages/sklearn/utils/validation.py\", line 116, in _assert_all_finite\n",
            "    type_err, msg_dtype if msg_dtype is not None else X.dtype\n",
            "ValueError: Input contains NaN, infinity or a value too large for dtype('float32').\n",
            "\n",
            "  UserWarning,\n",
            "/home/anand/.local/lib/python3.7/site-packages/sklearn/model_selection/_validation.py:774: UserWarning: Scoring failed. The score on this train-test partition for these parameters will be set to nan. Details: \n",
            "Traceback (most recent call last):\n",
            "  File \"/home/anand/.local/lib/python3.7/site-packages/sklearn/model_selection/_validation.py\", line 761, in _score\n",
            "    scores = scorer(estimator, X_test, y_test)\n",
            "  File \"/home/anand/.local/lib/python3.7/site-packages/sklearn/metrics/_scorer.py\", line 418, in _passthrough_scorer\n",
            "    return estimator.score(*args, **kwargs)\n",
            "  File \"/home/anand/.local/lib/python3.7/site-packages/sklearn/base.py\", line 706, in score\n",
            "    return r2_score(y, y_pred, sample_weight=sample_weight)\n",
            "  File \"/home/anand/.local/lib/python3.7/site-packages/sklearn/metrics/_regression.py\", line 790, in r2_score\n",
            "    y_true, y_pred, multioutput\n",
            "  File \"/home/anand/.local/lib/python3.7/site-packages/sklearn/metrics/_regression.py\", line 96, in _check_reg_targets\n",
            "    y_pred = check_array(y_pred, ensure_2d=False, dtype=dtype)\n",
            "  File \"/home/anand/.local/lib/python3.7/site-packages/sklearn/utils/validation.py\", line 800, in check_array\n",
            "    _assert_all_finite(array, allow_nan=force_all_finite == \"allow-nan\")\n",
            "  File \"/home/anand/.local/lib/python3.7/site-packages/sklearn/utils/validation.py\", line 116, in _assert_all_finite\n",
            "    type_err, msg_dtype if msg_dtype is not None else X.dtype\n",
            "ValueError: Input contains NaN, infinity or a value too large for dtype('float32').\n",
            "\n",
            "  UserWarning,\n",
            "/home/anand/.local/lib/python3.7/site-packages/sklearn/model_selection/_validation.py:774: UserWarning: Scoring failed. The score on this train-test partition for these parameters will be set to nan. Details: \n",
            "Traceback (most recent call last):\n",
            "  File \"/home/anand/.local/lib/python3.7/site-packages/sklearn/model_selection/_validation.py\", line 761, in _score\n",
            "    scores = scorer(estimator, X_test, y_test)\n",
            "  File \"/home/anand/.local/lib/python3.7/site-packages/sklearn/metrics/_scorer.py\", line 418, in _passthrough_scorer\n",
            "    return estimator.score(*args, **kwargs)\n",
            "  File \"/home/anand/.local/lib/python3.7/site-packages/sklearn/base.py\", line 706, in score\n",
            "    return r2_score(y, y_pred, sample_weight=sample_weight)\n",
            "  File \"/home/anand/.local/lib/python3.7/site-packages/sklearn/metrics/_regression.py\", line 790, in r2_score\n",
            "    y_true, y_pred, multioutput\n",
            "  File \"/home/anand/.local/lib/python3.7/site-packages/sklearn/metrics/_regression.py\", line 96, in _check_reg_targets\n",
            "    y_pred = check_array(y_pred, ensure_2d=False, dtype=dtype)\n",
            "  File \"/home/anand/.local/lib/python3.7/site-packages/sklearn/utils/validation.py\", line 800, in check_array\n",
            "    _assert_all_finite(array, allow_nan=force_all_finite == \"allow-nan\")\n",
            "  File \"/home/anand/.local/lib/python3.7/site-packages/sklearn/utils/validation.py\", line 116, in _assert_all_finite\n",
            "    type_err, msg_dtype if msg_dtype is not None else X.dtype\n",
            "ValueError: Input contains NaN, infinity or a value too large for dtype('float32').\n",
            "\n",
            "  UserWarning,\n"
          ]
        },
        {
          "name": "stderr",
          "output_type": "stream",
          "text": [
            "/home/anand/.local/lib/python3.7/site-packages/sklearn/model_selection/_validation.py:774: UserWarning: Scoring failed. The score on this train-test partition for these parameters will be set to nan. Details: \n",
            "Traceback (most recent call last):\n",
            "  File \"/home/anand/.local/lib/python3.7/site-packages/sklearn/model_selection/_validation.py\", line 761, in _score\n",
            "    scores = scorer(estimator, X_test, y_test)\n",
            "  File \"/home/anand/.local/lib/python3.7/site-packages/sklearn/metrics/_scorer.py\", line 418, in _passthrough_scorer\n",
            "    return estimator.score(*args, **kwargs)\n",
            "  File \"/home/anand/.local/lib/python3.7/site-packages/sklearn/base.py\", line 706, in score\n",
            "    return r2_score(y, y_pred, sample_weight=sample_weight)\n",
            "  File \"/home/anand/.local/lib/python3.7/site-packages/sklearn/metrics/_regression.py\", line 790, in r2_score\n",
            "    y_true, y_pred, multioutput\n",
            "  File \"/home/anand/.local/lib/python3.7/site-packages/sklearn/metrics/_regression.py\", line 96, in _check_reg_targets\n",
            "    y_pred = check_array(y_pred, ensure_2d=False, dtype=dtype)\n",
            "  File \"/home/anand/.local/lib/python3.7/site-packages/sklearn/utils/validation.py\", line 800, in check_array\n",
            "    _assert_all_finite(array, allow_nan=force_all_finite == \"allow-nan\")\n",
            "  File \"/home/anand/.local/lib/python3.7/site-packages/sklearn/utils/validation.py\", line 116, in _assert_all_finite\n",
            "    type_err, msg_dtype if msg_dtype is not None else X.dtype\n",
            "ValueError: Input contains NaN, infinity or a value too large for dtype('float32').\n",
            "\n",
            "  UserWarning,\n",
            "/home/anand/.local/lib/python3.7/site-packages/sklearn/model_selection/_validation.py:774: UserWarning: Scoring failed. The score on this train-test partition for these parameters will be set to nan. Details: \n",
            "Traceback (most recent call last):\n",
            "  File \"/home/anand/.local/lib/python3.7/site-packages/sklearn/model_selection/_validation.py\", line 761, in _score\n",
            "    scores = scorer(estimator, X_test, y_test)\n",
            "  File \"/home/anand/.local/lib/python3.7/site-packages/sklearn/metrics/_scorer.py\", line 418, in _passthrough_scorer\n",
            "    return estimator.score(*args, **kwargs)\n",
            "  File \"/home/anand/.local/lib/python3.7/site-packages/sklearn/base.py\", line 706, in score\n",
            "    return r2_score(y, y_pred, sample_weight=sample_weight)\n",
            "  File \"/home/anand/.local/lib/python3.7/site-packages/sklearn/metrics/_regression.py\", line 790, in r2_score\n",
            "    y_true, y_pred, multioutput\n",
            "  File \"/home/anand/.local/lib/python3.7/site-packages/sklearn/metrics/_regression.py\", line 96, in _check_reg_targets\n",
            "    y_pred = check_array(y_pred, ensure_2d=False, dtype=dtype)\n",
            "  File \"/home/anand/.local/lib/python3.7/site-packages/sklearn/utils/validation.py\", line 800, in check_array\n",
            "    _assert_all_finite(array, allow_nan=force_all_finite == \"allow-nan\")\n",
            "  File \"/home/anand/.local/lib/python3.7/site-packages/sklearn/utils/validation.py\", line 116, in _assert_all_finite\n",
            "    type_err, msg_dtype if msg_dtype is not None else X.dtype\n",
            "ValueError: Input contains NaN, infinity or a value too large for dtype('float32').\n",
            "\n",
            "  UserWarning,\n",
            "/home/anand/.local/lib/python3.7/site-packages/sklearn/model_selection/_validation.py:774: UserWarning: Scoring failed. The score on this train-test partition for these parameters will be set to nan. Details: \n",
            "Traceback (most recent call last):\n",
            "  File \"/home/anand/.local/lib/python3.7/site-packages/sklearn/model_selection/_validation.py\", line 761, in _score\n",
            "    scores = scorer(estimator, X_test, y_test)\n",
            "  File \"/home/anand/.local/lib/python3.7/site-packages/sklearn/metrics/_scorer.py\", line 418, in _passthrough_scorer\n",
            "    return estimator.score(*args, **kwargs)\n",
            "  File \"/home/anand/.local/lib/python3.7/site-packages/sklearn/base.py\", line 706, in score\n",
            "    return r2_score(y, y_pred, sample_weight=sample_weight)\n",
            "  File \"/home/anand/.local/lib/python3.7/site-packages/sklearn/metrics/_regression.py\", line 790, in r2_score\n",
            "    y_true, y_pred, multioutput\n",
            "  File \"/home/anand/.local/lib/python3.7/site-packages/sklearn/metrics/_regression.py\", line 96, in _check_reg_targets\n",
            "    y_pred = check_array(y_pred, ensure_2d=False, dtype=dtype)\n",
            "  File \"/home/anand/.local/lib/python3.7/site-packages/sklearn/utils/validation.py\", line 800, in check_array\n",
            "    _assert_all_finite(array, allow_nan=force_all_finite == \"allow-nan\")\n",
            "  File \"/home/anand/.local/lib/python3.7/site-packages/sklearn/utils/validation.py\", line 116, in _assert_all_finite\n",
            "    type_err, msg_dtype if msg_dtype is not None else X.dtype\n",
            "ValueError: Input contains NaN, infinity or a value too large for dtype('float32').\n",
            "\n",
            "  UserWarning,\n",
            "/home/anand/.local/lib/python3.7/site-packages/sklearn/model_selection/_validation.py:774: UserWarning: Scoring failed. The score on this train-test partition for these parameters will be set to nan. Details: \n",
            "Traceback (most recent call last):\n",
            "  File \"/home/anand/.local/lib/python3.7/site-packages/sklearn/model_selection/_validation.py\", line 761, in _score\n",
            "    scores = scorer(estimator, X_test, y_test)\n",
            "  File \"/home/anand/.local/lib/python3.7/site-packages/sklearn/metrics/_scorer.py\", line 418, in _passthrough_scorer\n",
            "    return estimator.score(*args, **kwargs)\n",
            "  File \"/home/anand/.local/lib/python3.7/site-packages/sklearn/base.py\", line 706, in score\n",
            "    return r2_score(y, y_pred, sample_weight=sample_weight)\n",
            "  File \"/home/anand/.local/lib/python3.7/site-packages/sklearn/metrics/_regression.py\", line 790, in r2_score\n",
            "    y_true, y_pred, multioutput\n",
            "  File \"/home/anand/.local/lib/python3.7/site-packages/sklearn/metrics/_regression.py\", line 96, in _check_reg_targets\n",
            "    y_pred = check_array(y_pred, ensure_2d=False, dtype=dtype)\n",
            "  File \"/home/anand/.local/lib/python3.7/site-packages/sklearn/utils/validation.py\", line 800, in check_array\n",
            "    _assert_all_finite(array, allow_nan=force_all_finite == \"allow-nan\")\n",
            "  File \"/home/anand/.local/lib/python3.7/site-packages/sklearn/utils/validation.py\", line 116, in _assert_all_finite\n",
            "    type_err, msg_dtype if msg_dtype is not None else X.dtype\n",
            "ValueError: Input contains NaN, infinity or a value too large for dtype('float32').\n",
            "\n",
            "  UserWarning,\n",
            "/home/anand/.local/lib/python3.7/site-packages/sklearn/model_selection/_validation.py:774: UserWarning: Scoring failed. The score on this train-test partition for these parameters will be set to nan. Details: \n",
            "Traceback (most recent call last):\n",
            "  File \"/home/anand/.local/lib/python3.7/site-packages/sklearn/model_selection/_validation.py\", line 761, in _score\n",
            "    scores = scorer(estimator, X_test, y_test)\n",
            "  File \"/home/anand/.local/lib/python3.7/site-packages/sklearn/metrics/_scorer.py\", line 418, in _passthrough_scorer\n",
            "    return estimator.score(*args, **kwargs)\n",
            "  File \"/home/anand/.local/lib/python3.7/site-packages/sklearn/base.py\", line 706, in score\n",
            "    return r2_score(y, y_pred, sample_weight=sample_weight)\n",
            "  File \"/home/anand/.local/lib/python3.7/site-packages/sklearn/metrics/_regression.py\", line 790, in r2_score\n",
            "    y_true, y_pred, multioutput\n",
            "  File \"/home/anand/.local/lib/python3.7/site-packages/sklearn/metrics/_regression.py\", line 96, in _check_reg_targets\n",
            "    y_pred = check_array(y_pred, ensure_2d=False, dtype=dtype)\n",
            "  File \"/home/anand/.local/lib/python3.7/site-packages/sklearn/utils/validation.py\", line 800, in check_array\n",
            "    _assert_all_finite(array, allow_nan=force_all_finite == \"allow-nan\")\n",
            "  File \"/home/anand/.local/lib/python3.7/site-packages/sklearn/utils/validation.py\", line 116, in _assert_all_finite\n",
            "    type_err, msg_dtype if msg_dtype is not None else X.dtype\n",
            "ValueError: Input contains NaN, infinity or a value too large for dtype('float32').\n",
            "\n",
            "  UserWarning,\n",
            "/home/anand/.local/lib/python3.7/site-packages/sklearn/model_selection/_validation.py:774: UserWarning: Scoring failed. The score on this train-test partition for these parameters will be set to nan. Details: \n",
            "Traceback (most recent call last):\n",
            "  File \"/home/anand/.local/lib/python3.7/site-packages/sklearn/model_selection/_validation.py\", line 761, in _score\n",
            "    scores = scorer(estimator, X_test, y_test)\n",
            "  File \"/home/anand/.local/lib/python3.7/site-packages/sklearn/metrics/_scorer.py\", line 418, in _passthrough_scorer\n",
            "    return estimator.score(*args, **kwargs)\n",
            "  File \"/home/anand/.local/lib/python3.7/site-packages/sklearn/base.py\", line 706, in score\n",
            "    return r2_score(y, y_pred, sample_weight=sample_weight)\n",
            "  File \"/home/anand/.local/lib/python3.7/site-packages/sklearn/metrics/_regression.py\", line 790, in r2_score\n",
            "    y_true, y_pred, multioutput\n",
            "  File \"/home/anand/.local/lib/python3.7/site-packages/sklearn/metrics/_regression.py\", line 96, in _check_reg_targets\n",
            "    y_pred = check_array(y_pred, ensure_2d=False, dtype=dtype)\n",
            "  File \"/home/anand/.local/lib/python3.7/site-packages/sklearn/utils/validation.py\", line 800, in check_array\n",
            "    _assert_all_finite(array, allow_nan=force_all_finite == \"allow-nan\")\n",
            "  File \"/home/anand/.local/lib/python3.7/site-packages/sklearn/utils/validation.py\", line 116, in _assert_all_finite\n",
            "    type_err, msg_dtype if msg_dtype is not None else X.dtype\n",
            "ValueError: Input contains NaN, infinity or a value too large for dtype('float32').\n",
            "\n",
            "  UserWarning,\n"
          ]
        },
        {
          "name": "stderr",
          "output_type": "stream",
          "text": [
            "/home/anand/.local/lib/python3.7/site-packages/sklearn/model_selection/_validation.py:774: UserWarning: Scoring failed. The score on this train-test partition for these parameters will be set to nan. Details: \n",
            "Traceback (most recent call last):\n",
            "  File \"/home/anand/.local/lib/python3.7/site-packages/sklearn/model_selection/_validation.py\", line 761, in _score\n",
            "    scores = scorer(estimator, X_test, y_test)\n",
            "  File \"/home/anand/.local/lib/python3.7/site-packages/sklearn/metrics/_scorer.py\", line 418, in _passthrough_scorer\n",
            "    return estimator.score(*args, **kwargs)\n",
            "  File \"/home/anand/.local/lib/python3.7/site-packages/sklearn/base.py\", line 706, in score\n",
            "    return r2_score(y, y_pred, sample_weight=sample_weight)\n",
            "  File \"/home/anand/.local/lib/python3.7/site-packages/sklearn/metrics/_regression.py\", line 790, in r2_score\n",
            "    y_true, y_pred, multioutput\n",
            "  File \"/home/anand/.local/lib/python3.7/site-packages/sklearn/metrics/_regression.py\", line 96, in _check_reg_targets\n",
            "    y_pred = check_array(y_pred, ensure_2d=False, dtype=dtype)\n",
            "  File \"/home/anand/.local/lib/python3.7/site-packages/sklearn/utils/validation.py\", line 800, in check_array\n",
            "    _assert_all_finite(array, allow_nan=force_all_finite == \"allow-nan\")\n",
            "  File \"/home/anand/.local/lib/python3.7/site-packages/sklearn/utils/validation.py\", line 116, in _assert_all_finite\n",
            "    type_err, msg_dtype if msg_dtype is not None else X.dtype\n",
            "ValueError: Input contains NaN, infinity or a value too large for dtype('float32').\n",
            "\n",
            "  UserWarning,\n",
            "/home/anand/.local/lib/python3.7/site-packages/sklearn/model_selection/_validation.py:774: UserWarning: Scoring failed. The score on this train-test partition for these parameters will be set to nan. Details: \n",
            "Traceback (most recent call last):\n",
            "  File \"/home/anand/.local/lib/python3.7/site-packages/sklearn/model_selection/_validation.py\", line 761, in _score\n",
            "    scores = scorer(estimator, X_test, y_test)\n",
            "  File \"/home/anand/.local/lib/python3.7/site-packages/sklearn/metrics/_scorer.py\", line 418, in _passthrough_scorer\n",
            "    return estimator.score(*args, **kwargs)\n",
            "  File \"/home/anand/.local/lib/python3.7/site-packages/sklearn/base.py\", line 706, in score\n",
            "    return r2_score(y, y_pred, sample_weight=sample_weight)\n",
            "  File \"/home/anand/.local/lib/python3.7/site-packages/sklearn/metrics/_regression.py\", line 790, in r2_score\n",
            "    y_true, y_pred, multioutput\n",
            "  File \"/home/anand/.local/lib/python3.7/site-packages/sklearn/metrics/_regression.py\", line 96, in _check_reg_targets\n",
            "    y_pred = check_array(y_pred, ensure_2d=False, dtype=dtype)\n",
            "  File \"/home/anand/.local/lib/python3.7/site-packages/sklearn/utils/validation.py\", line 800, in check_array\n",
            "    _assert_all_finite(array, allow_nan=force_all_finite == \"allow-nan\")\n",
            "  File \"/home/anand/.local/lib/python3.7/site-packages/sklearn/utils/validation.py\", line 116, in _assert_all_finite\n",
            "    type_err, msg_dtype if msg_dtype is not None else X.dtype\n",
            "ValueError: Input contains NaN, infinity or a value too large for dtype('float32').\n",
            "\n",
            "  UserWarning,\n",
            "/home/anand/.local/lib/python3.7/site-packages/sklearn/model_selection/_validation.py:774: UserWarning: Scoring failed. The score on this train-test partition for these parameters will be set to nan. Details: \n",
            "Traceback (most recent call last):\n",
            "  File \"/home/anand/.local/lib/python3.7/site-packages/sklearn/model_selection/_validation.py\", line 761, in _score\n",
            "    scores = scorer(estimator, X_test, y_test)\n",
            "  File \"/home/anand/.local/lib/python3.7/site-packages/sklearn/metrics/_scorer.py\", line 418, in _passthrough_scorer\n",
            "    return estimator.score(*args, **kwargs)\n",
            "  File \"/home/anand/.local/lib/python3.7/site-packages/sklearn/base.py\", line 706, in score\n",
            "    return r2_score(y, y_pred, sample_weight=sample_weight)\n",
            "  File \"/home/anand/.local/lib/python3.7/site-packages/sklearn/metrics/_regression.py\", line 790, in r2_score\n",
            "    y_true, y_pred, multioutput\n",
            "  File \"/home/anand/.local/lib/python3.7/site-packages/sklearn/metrics/_regression.py\", line 96, in _check_reg_targets\n",
            "    y_pred = check_array(y_pred, ensure_2d=False, dtype=dtype)\n",
            "  File \"/home/anand/.local/lib/python3.7/site-packages/sklearn/utils/validation.py\", line 800, in check_array\n",
            "    _assert_all_finite(array, allow_nan=force_all_finite == \"allow-nan\")\n",
            "  File \"/home/anand/.local/lib/python3.7/site-packages/sklearn/utils/validation.py\", line 116, in _assert_all_finite\n",
            "    type_err, msg_dtype if msg_dtype is not None else X.dtype\n",
            "ValueError: Input contains NaN, infinity or a value too large for dtype('float32').\n",
            "\n",
            "  UserWarning,\n",
            "/home/anand/.local/lib/python3.7/site-packages/sklearn/model_selection/_validation.py:774: UserWarning: Scoring failed. The score on this train-test partition for these parameters will be set to nan. Details: \n",
            "Traceback (most recent call last):\n",
            "  File \"/home/anand/.local/lib/python3.7/site-packages/sklearn/model_selection/_validation.py\", line 761, in _score\n",
            "    scores = scorer(estimator, X_test, y_test)\n",
            "  File \"/home/anand/.local/lib/python3.7/site-packages/sklearn/metrics/_scorer.py\", line 418, in _passthrough_scorer\n",
            "    return estimator.score(*args, **kwargs)\n",
            "  File \"/home/anand/.local/lib/python3.7/site-packages/sklearn/base.py\", line 706, in score\n",
            "    return r2_score(y, y_pred, sample_weight=sample_weight)\n",
            "  File \"/home/anand/.local/lib/python3.7/site-packages/sklearn/metrics/_regression.py\", line 790, in r2_score\n",
            "    y_true, y_pred, multioutput\n",
            "  File \"/home/anand/.local/lib/python3.7/site-packages/sklearn/metrics/_regression.py\", line 96, in _check_reg_targets\n",
            "    y_pred = check_array(y_pred, ensure_2d=False, dtype=dtype)\n",
            "  File \"/home/anand/.local/lib/python3.7/site-packages/sklearn/utils/validation.py\", line 800, in check_array\n",
            "    _assert_all_finite(array, allow_nan=force_all_finite == \"allow-nan\")\n",
            "  File \"/home/anand/.local/lib/python3.7/site-packages/sklearn/utils/validation.py\", line 116, in _assert_all_finite\n",
            "    type_err, msg_dtype if msg_dtype is not None else X.dtype\n",
            "ValueError: Input contains NaN, infinity or a value too large for dtype('float32').\n",
            "\n",
            "  UserWarning,\n",
            "/home/anand/.local/lib/python3.7/site-packages/sklearn/model_selection/_validation.py:774: UserWarning: Scoring failed. The score on this train-test partition for these parameters will be set to nan. Details: \n",
            "Traceback (most recent call last):\n",
            "  File \"/home/anand/.local/lib/python3.7/site-packages/sklearn/model_selection/_validation.py\", line 761, in _score\n",
            "    scores = scorer(estimator, X_test, y_test)\n",
            "  File \"/home/anand/.local/lib/python3.7/site-packages/sklearn/metrics/_scorer.py\", line 418, in _passthrough_scorer\n",
            "    return estimator.score(*args, **kwargs)\n",
            "  File \"/home/anand/.local/lib/python3.7/site-packages/sklearn/base.py\", line 706, in score\n",
            "    return r2_score(y, y_pred, sample_weight=sample_weight)\n",
            "  File \"/home/anand/.local/lib/python3.7/site-packages/sklearn/metrics/_regression.py\", line 790, in r2_score\n",
            "    y_true, y_pred, multioutput\n",
            "  File \"/home/anand/.local/lib/python3.7/site-packages/sklearn/metrics/_regression.py\", line 96, in _check_reg_targets\n",
            "    y_pred = check_array(y_pred, ensure_2d=False, dtype=dtype)\n",
            "  File \"/home/anand/.local/lib/python3.7/site-packages/sklearn/utils/validation.py\", line 800, in check_array\n",
            "    _assert_all_finite(array, allow_nan=force_all_finite == \"allow-nan\")\n",
            "  File \"/home/anand/.local/lib/python3.7/site-packages/sklearn/utils/validation.py\", line 116, in _assert_all_finite\n",
            "    type_err, msg_dtype if msg_dtype is not None else X.dtype\n",
            "ValueError: Input contains NaN, infinity or a value too large for dtype('float32').\n",
            "\n",
            "  UserWarning,\n",
            "/home/anand/.local/lib/python3.7/site-packages/sklearn/model_selection/_validation.py:774: UserWarning: Scoring failed. The score on this train-test partition for these parameters will be set to nan. Details: \n",
            "Traceback (most recent call last):\n",
            "  File \"/home/anand/.local/lib/python3.7/site-packages/sklearn/model_selection/_validation.py\", line 761, in _score\n",
            "    scores = scorer(estimator, X_test, y_test)\n",
            "  File \"/home/anand/.local/lib/python3.7/site-packages/sklearn/metrics/_scorer.py\", line 418, in _passthrough_scorer\n",
            "    return estimator.score(*args, **kwargs)\n",
            "  File \"/home/anand/.local/lib/python3.7/site-packages/sklearn/base.py\", line 706, in score\n",
            "    return r2_score(y, y_pred, sample_weight=sample_weight)\n",
            "  File \"/home/anand/.local/lib/python3.7/site-packages/sklearn/metrics/_regression.py\", line 790, in r2_score\n",
            "    y_true, y_pred, multioutput\n",
            "  File \"/home/anand/.local/lib/python3.7/site-packages/sklearn/metrics/_regression.py\", line 96, in _check_reg_targets\n",
            "    y_pred = check_array(y_pred, ensure_2d=False, dtype=dtype)\n",
            "  File \"/home/anand/.local/lib/python3.7/site-packages/sklearn/utils/validation.py\", line 800, in check_array\n",
            "    _assert_all_finite(array, allow_nan=force_all_finite == \"allow-nan\")\n",
            "  File \"/home/anand/.local/lib/python3.7/site-packages/sklearn/utils/validation.py\", line 116, in _assert_all_finite\n",
            "    type_err, msg_dtype if msg_dtype is not None else X.dtype\n",
            "ValueError: Input contains NaN, infinity or a value too large for dtype('float32').\n",
            "\n",
            "  UserWarning,\n"
          ]
        },
        {
          "name": "stderr",
          "output_type": "stream",
          "text": [
            "/home/anand/.local/lib/python3.7/site-packages/sklearn/model_selection/_validation.py:774: UserWarning: Scoring failed. The score on this train-test partition for these parameters will be set to nan. Details: \n",
            "Traceback (most recent call last):\n",
            "  File \"/home/anand/.local/lib/python3.7/site-packages/sklearn/model_selection/_validation.py\", line 761, in _score\n",
            "    scores = scorer(estimator, X_test, y_test)\n",
            "  File \"/home/anand/.local/lib/python3.7/site-packages/sklearn/metrics/_scorer.py\", line 418, in _passthrough_scorer\n",
            "    return estimator.score(*args, **kwargs)\n",
            "  File \"/home/anand/.local/lib/python3.7/site-packages/sklearn/base.py\", line 706, in score\n",
            "    return r2_score(y, y_pred, sample_weight=sample_weight)\n",
            "  File \"/home/anand/.local/lib/python3.7/site-packages/sklearn/metrics/_regression.py\", line 790, in r2_score\n",
            "    y_true, y_pred, multioutput\n",
            "  File \"/home/anand/.local/lib/python3.7/site-packages/sklearn/metrics/_regression.py\", line 96, in _check_reg_targets\n",
            "    y_pred = check_array(y_pred, ensure_2d=False, dtype=dtype)\n",
            "  File \"/home/anand/.local/lib/python3.7/site-packages/sklearn/utils/validation.py\", line 800, in check_array\n",
            "    _assert_all_finite(array, allow_nan=force_all_finite == \"allow-nan\")\n",
            "  File \"/home/anand/.local/lib/python3.7/site-packages/sklearn/utils/validation.py\", line 116, in _assert_all_finite\n",
            "    type_err, msg_dtype if msg_dtype is not None else X.dtype\n",
            "ValueError: Input contains NaN, infinity or a value too large for dtype('float32').\n",
            "\n",
            "  UserWarning,\n",
            "/home/anand/.local/lib/python3.7/site-packages/sklearn/model_selection/_validation.py:774: UserWarning: Scoring failed. The score on this train-test partition for these parameters will be set to nan. Details: \n",
            "Traceback (most recent call last):\n",
            "  File \"/home/anand/.local/lib/python3.7/site-packages/sklearn/model_selection/_validation.py\", line 761, in _score\n",
            "    scores = scorer(estimator, X_test, y_test)\n",
            "  File \"/home/anand/.local/lib/python3.7/site-packages/sklearn/metrics/_scorer.py\", line 418, in _passthrough_scorer\n",
            "    return estimator.score(*args, **kwargs)\n",
            "  File \"/home/anand/.local/lib/python3.7/site-packages/sklearn/base.py\", line 706, in score\n",
            "    return r2_score(y, y_pred, sample_weight=sample_weight)\n",
            "  File \"/home/anand/.local/lib/python3.7/site-packages/sklearn/metrics/_regression.py\", line 790, in r2_score\n",
            "    y_true, y_pred, multioutput\n",
            "  File \"/home/anand/.local/lib/python3.7/site-packages/sklearn/metrics/_regression.py\", line 96, in _check_reg_targets\n",
            "    y_pred = check_array(y_pred, ensure_2d=False, dtype=dtype)\n",
            "  File \"/home/anand/.local/lib/python3.7/site-packages/sklearn/utils/validation.py\", line 800, in check_array\n",
            "    _assert_all_finite(array, allow_nan=force_all_finite == \"allow-nan\")\n",
            "  File \"/home/anand/.local/lib/python3.7/site-packages/sklearn/utils/validation.py\", line 116, in _assert_all_finite\n",
            "    type_err, msg_dtype if msg_dtype is not None else X.dtype\n",
            "ValueError: Input contains NaN, infinity or a value too large for dtype('float32').\n",
            "\n",
            "  UserWarning,\n",
            "/home/anand/.local/lib/python3.7/site-packages/sklearn/model_selection/_validation.py:774: UserWarning: Scoring failed. The score on this train-test partition for these parameters will be set to nan. Details: \n",
            "Traceback (most recent call last):\n",
            "  File \"/home/anand/.local/lib/python3.7/site-packages/sklearn/model_selection/_validation.py\", line 761, in _score\n",
            "    scores = scorer(estimator, X_test, y_test)\n",
            "  File \"/home/anand/.local/lib/python3.7/site-packages/sklearn/metrics/_scorer.py\", line 418, in _passthrough_scorer\n",
            "    return estimator.score(*args, **kwargs)\n",
            "  File \"/home/anand/.local/lib/python3.7/site-packages/sklearn/base.py\", line 706, in score\n",
            "    return r2_score(y, y_pred, sample_weight=sample_weight)\n",
            "  File \"/home/anand/.local/lib/python3.7/site-packages/sklearn/metrics/_regression.py\", line 790, in r2_score\n",
            "    y_true, y_pred, multioutput\n",
            "  File \"/home/anand/.local/lib/python3.7/site-packages/sklearn/metrics/_regression.py\", line 96, in _check_reg_targets\n",
            "    y_pred = check_array(y_pred, ensure_2d=False, dtype=dtype)\n",
            "  File \"/home/anand/.local/lib/python3.7/site-packages/sklearn/utils/validation.py\", line 800, in check_array\n",
            "    _assert_all_finite(array, allow_nan=force_all_finite == \"allow-nan\")\n",
            "  File \"/home/anand/.local/lib/python3.7/site-packages/sklearn/utils/validation.py\", line 116, in _assert_all_finite\n",
            "    type_err, msg_dtype if msg_dtype is not None else X.dtype\n",
            "ValueError: Input contains NaN, infinity or a value too large for dtype('float32').\n",
            "\n",
            "  UserWarning,\n",
            "/home/anand/.local/lib/python3.7/site-packages/sklearn/model_selection/_validation.py:774: UserWarning: Scoring failed. The score on this train-test partition for these parameters will be set to nan. Details: \n",
            "Traceback (most recent call last):\n",
            "  File \"/home/anand/.local/lib/python3.7/site-packages/sklearn/model_selection/_validation.py\", line 761, in _score\n",
            "    scores = scorer(estimator, X_test, y_test)\n",
            "  File \"/home/anand/.local/lib/python3.7/site-packages/sklearn/metrics/_scorer.py\", line 418, in _passthrough_scorer\n",
            "    return estimator.score(*args, **kwargs)\n",
            "  File \"/home/anand/.local/lib/python3.7/site-packages/sklearn/base.py\", line 706, in score\n",
            "    return r2_score(y, y_pred, sample_weight=sample_weight)\n",
            "  File \"/home/anand/.local/lib/python3.7/site-packages/sklearn/metrics/_regression.py\", line 790, in r2_score\n",
            "    y_true, y_pred, multioutput\n",
            "  File \"/home/anand/.local/lib/python3.7/site-packages/sklearn/metrics/_regression.py\", line 96, in _check_reg_targets\n",
            "    y_pred = check_array(y_pred, ensure_2d=False, dtype=dtype)\n",
            "  File \"/home/anand/.local/lib/python3.7/site-packages/sklearn/utils/validation.py\", line 800, in check_array\n",
            "    _assert_all_finite(array, allow_nan=force_all_finite == \"allow-nan\")\n",
            "  File \"/home/anand/.local/lib/python3.7/site-packages/sklearn/utils/validation.py\", line 116, in _assert_all_finite\n",
            "    type_err, msg_dtype if msg_dtype is not None else X.dtype\n",
            "ValueError: Input contains NaN, infinity or a value too large for dtype('float32').\n",
            "\n",
            "  UserWarning,\n",
            "/home/anand/.local/lib/python3.7/site-packages/sklearn/model_selection/_validation.py:774: UserWarning: Scoring failed. The score on this train-test partition for these parameters will be set to nan. Details: \n",
            "Traceback (most recent call last):\n",
            "  File \"/home/anand/.local/lib/python3.7/site-packages/sklearn/model_selection/_validation.py\", line 761, in _score\n",
            "    scores = scorer(estimator, X_test, y_test)\n",
            "  File \"/home/anand/.local/lib/python3.7/site-packages/sklearn/metrics/_scorer.py\", line 418, in _passthrough_scorer\n",
            "    return estimator.score(*args, **kwargs)\n",
            "  File \"/home/anand/.local/lib/python3.7/site-packages/sklearn/base.py\", line 706, in score\n",
            "    return r2_score(y, y_pred, sample_weight=sample_weight)\n",
            "  File \"/home/anand/.local/lib/python3.7/site-packages/sklearn/metrics/_regression.py\", line 790, in r2_score\n",
            "    y_true, y_pred, multioutput\n",
            "  File \"/home/anand/.local/lib/python3.7/site-packages/sklearn/metrics/_regression.py\", line 96, in _check_reg_targets\n",
            "    y_pred = check_array(y_pred, ensure_2d=False, dtype=dtype)\n",
            "  File \"/home/anand/.local/lib/python3.7/site-packages/sklearn/utils/validation.py\", line 800, in check_array\n",
            "    _assert_all_finite(array, allow_nan=force_all_finite == \"allow-nan\")\n",
            "  File \"/home/anand/.local/lib/python3.7/site-packages/sklearn/utils/validation.py\", line 116, in _assert_all_finite\n",
            "    type_err, msg_dtype if msg_dtype is not None else X.dtype\n",
            "ValueError: Input contains NaN, infinity or a value too large for dtype('float32').\n",
            "\n",
            "  UserWarning,\n",
            "/home/anand/.local/lib/python3.7/site-packages/sklearn/model_selection/_validation.py:774: UserWarning: Scoring failed. The score on this train-test partition for these parameters will be set to nan. Details: \n",
            "Traceback (most recent call last):\n",
            "  File \"/home/anand/.local/lib/python3.7/site-packages/sklearn/model_selection/_validation.py\", line 761, in _score\n",
            "    scores = scorer(estimator, X_test, y_test)\n",
            "  File \"/home/anand/.local/lib/python3.7/site-packages/sklearn/metrics/_scorer.py\", line 418, in _passthrough_scorer\n",
            "    return estimator.score(*args, **kwargs)\n",
            "  File \"/home/anand/.local/lib/python3.7/site-packages/sklearn/base.py\", line 706, in score\n",
            "    return r2_score(y, y_pred, sample_weight=sample_weight)\n",
            "  File \"/home/anand/.local/lib/python3.7/site-packages/sklearn/metrics/_regression.py\", line 790, in r2_score\n",
            "    y_true, y_pred, multioutput\n",
            "  File \"/home/anand/.local/lib/python3.7/site-packages/sklearn/metrics/_regression.py\", line 96, in _check_reg_targets\n",
            "    y_pred = check_array(y_pred, ensure_2d=False, dtype=dtype)\n",
            "  File \"/home/anand/.local/lib/python3.7/site-packages/sklearn/utils/validation.py\", line 800, in check_array\n",
            "    _assert_all_finite(array, allow_nan=force_all_finite == \"allow-nan\")\n",
            "  File \"/home/anand/.local/lib/python3.7/site-packages/sklearn/utils/validation.py\", line 116, in _assert_all_finite\n",
            "    type_err, msg_dtype if msg_dtype is not None else X.dtype\n",
            "ValueError: Input contains NaN, infinity or a value too large for dtype('float32').\n",
            "\n",
            "  UserWarning,\n",
            "/home/anand/.local/lib/python3.7/site-packages/sklearn/model_selection/_search.py:972: UserWarning: One or more of the test scores are non-finite: [-7.57709610e+01 -5.81016569e+01 -3.77984528e+01 -1.59563332e+01\n",
            " -3.15009886e+00 -1.69894949e+00 -1.56208187e+00 -1.61945516e+00\n",
            " -1.62072372e+00 -7.82568717e+20 -9.97176266e+48             nan\n",
            " -1.88536039e+41             nan             nan]\n",
            "  category=UserWarning,\n"
          ]
        },
        {
          "name": "stdout",
          "output_type": "stream",
          "text": [
            "Mean squared error: 240329.61\n",
            "Mean Absolute Percentage error: 55.12\n",
            "Mean Absolute error: 341.29\n",
            "Coefficient of determination: -0.89\n",
            "Best hyperparameters:  {'learning_rate': 1.0, 'n_estimators': 10}\n"
          ]
        },
        {
          "data": {
            "image/png": "[encoded data removed]",
            "text/plain": [
              "<Figure size 432x288 with 1 Axes>"
            ]
          },
          "metadata": {
            "needs_background": "light"
          },
          "output_type": "display_data"
        },
        {
          "name": "stdout",
          "output_type": "stream",
          "text": [
            "Mean of residuals: 340.0366438858238\n",
            "Std of residuals: 353.1355092120565\n"
          ]
        }
      ],
      "source": [
        "import xgboost as xg\n",
        "xgb_r = xg.XGBRegressor()\n",
        "hyperparams = {'n_estimators': [10, 25, 50], 'learning_rate': np.logspace(-2, 2, 5)}\n",
        "xgb_data = GridSearchCV(estimator=xgb_r, param_grid=hyperparams, cv=timeSplitCV)\n",
        "xgb_data.fit(X_train, y_train)\n",
        "y_pred = xgb_data.predict(X_test)\n",
        "print(\"Mean squared error: %.2f\" % mean_squared_error(y_test, y_pred))\n",
        "print(\"Mean Absolute Percentage error: %.2f\" % (100*mean_absolute_percentage_error(y_test, y_pred)))\n",
        "print(\"Mean Absolute error: %.2f\" % mean_absolute_error(y_test, y_pred))\n",
        "print(\"Coefficient of determination: %.2f\" % r2_score(y_test, y_pred))\n",
        "print(\"Best hyperparameters: \", xgb_data.best_params_)\n",
        "residual = y_test-y_pred\n",
        "plt.plot([i for i in range(len(y_test))], residual)\n",
        "plt.xlabel('Days')\n",
        "plt.ylabel(\"Residual\")\n",
        "plt.title(\"Residuals for Gamma Regression\")\n",
        "plt.show()\n",
        "print(\"Mean of residuals:\", residual.mean())\n",
        "print(\"Std of residuals:\", residual.std())"
      ]
    },
    {
      "cell_type": "code",
      "execution_count": null,
      "id": "7uUHkcSy0JW-",
      "metadata": {
        "colab": {
          "base_uri": "https://localhost:8080/",
          "height": 279
        },
        "id": "7uUHkcSy0JW-",
        "outputId": "9a6a5b23-c14e-4916-a3fc-38eff4aa8a2a"
      },
      "outputs": [
        {
          "data": {
            "image/png": "[encoded data removed]",
            "text/plain": [
              "<Figure size 432x288 with 1 Axes>"
            ]
          },
          "metadata": {
            "needs_background": "light"
          },
          "output_type": "display_data"
        }
      ],
      "source": [
        "plt.plot(y_test)\n",
        "plt.plot(y_pred)\n",
        "plt.legend(['Test data', 'Predicted data'])\n",
        "plt.xlabel(\"Days\")\n",
        "plt.ylabel(\"Closing price\")\n",
        "plt.show()"
      ]
    },
    {
      "cell_type": "markdown",
      "id": "e8664487",
      "metadata": {
        "id": "e8664487"
      },
      "source": [
        "### LSTM Model"
      ]
    },
    {
      "cell_type": "code",
      "execution_count": null,
      "id": "9d32fa3a",
      "metadata": {
        "id": "9d32fa3a"
      },
      "outputs": [],
      "source": [
        "import matplotlib.dates as mandates\n",
        "from tensorflow.keras import layers\n",
        "from tensorflow.keras.models import Sequential\n",
        "from tensorflow.keras.layers import Dense, Dropout, LSTM\n",
        "from tensorflow import keras \n",
        "import tensorflow as tf"
      ]
    },
    {
      "cell_type": "code",
      "execution_count": null,
      "id": "7ba251d2",
      "metadata": {
        "id": "7ba251d2"
      },
      "outputs": [],
      "source": [
        "timesplit= TimeSeriesSplit(n_splits=10)\n",
        "for train_index, test_index in timesplit.split(features):\n",
        "        X_train, X_test = features[:len(train_index)], features[len(train_index): (len(train_index)+len(test_index))]\n",
        "        y_train, y_test = target_df[\"5-day\"][:len(train_index)].values.ravel(), target_df[\"5-day\"][len(train_index): (len(train_index)+len(test_index))].values.ravel()"
      ]
    },
    {
      "cell_type": "code",
      "execution_count": null,
      "id": "3404787e",
      "metadata": {
        "colab": {
          "base_uri": "https://localhost:8080/"
        },
        "id": "3404787e",
        "outputId": "e7e09e20-2085-4ffa-98d1-21cf1bdb26bf"
      },
      "outputs": [
        {
          "data": {
            "text/plain": [
              "(2687, 6, 1)"
            ]
          },
          "execution_count": 83,
          "metadata": {},
          "output_type": "execute_result"
        }
      ],
      "source": [
        "X_train = X_train.reshape(X_train.shape[0],X_train.shape[1],1)\n",
        "X_train.shape"
      ]
    },
    {
      "cell_type": "code",
      "execution_count": null,
      "id": "e1974b8b",
      "metadata": {
        "colab": {
          "base_uri": "https://localhost:8080/",
          "height": 533
        },
        "id": "e1974b8b",
        "outputId": "86e7779a-22f2-4b1d-bcd8-f54784133a9e"
      },
      "outputs": [
        {
          "data": {
            "image/png": "[encoded data removed]",
            "text/plain": [
              "<IPython.core.display.Image object>"
            ]
          },
          "execution_count": 84,
          "metadata": {},
          "output_type": "execute_result"
        }
      ],
      "source": [
        "model = Sequential()\n",
        "model.add(LSTM(units=50, return_sequences=True, input_shape=(X_train.shape[1],1),activation='relu'))\n",
        "model.add(LSTM(units=50,activation='relu'))\n",
        "model.add(Dense(25))\n",
        "model.add(Dense(1))\n",
        "model.compile(loss='mean_squared_error', optimizer='adam')\n",
        "keras.utils.plot_model(model, show_shapes=True, show_layer_names=True)"
      ]
    },
    {
      "cell_type": "code",
      "execution_count": null,
      "id": "95492523",
      "metadata": {
        "id": "95492523",
        "outputId": "92b19579-620f-4c5e-db91-bd0e2ec5a6eb"
      },
      "outputs": [
        {
          "name": "stdout",
          "output_type": "stream",
          "text": [
            "Epoch 1/60\n",
            "42/42 [==============================] - 0s 8ms/step - loss: 166.0031\n",
            "Epoch 2/60\n",
            "42/42 [==============================] - 0s 8ms/step - loss: 136.4644\n",
            "Epoch 3/60\n",
            "42/42 [==============================] - 0s 8ms/step - loss: 139.2249\n",
            "Epoch 4/60\n",
            "42/42 [==============================] - 0s 8ms/step - loss: 159.1728\n",
            "Epoch 5/60\n",
            "42/42 [==============================] - 0s 8ms/step - loss: 156.8456\n",
            "Epoch 6/60\n",
            "42/42 [==============================] - 0s 8ms/step - loss: 137.1845\n",
            "Epoch 7/60\n",
            "42/42 [==============================] - 0s 8ms/step - loss: 139.6435\n",
            "Epoch 8/60\n",
            "42/42 [==============================] - 0s 10ms/step - loss: 135.7804\n",
            "Epoch 9/60\n",
            "42/42 [==============================] - 0s 8ms/step - loss: 144.3309\n",
            "Epoch 10/60\n",
            "42/42 [==============================] - 0s 9ms/step - loss: 147.2728\n",
            "Epoch 11/60\n",
            "42/42 [==============================] - 0s 8ms/step - loss: 151.6991\n",
            "Epoch 12/60\n",
            "42/42 [==============================] - 0s 8ms/step - loss: 145.1859\n",
            "Epoch 13/60\n",
            "42/42 [==============================] - 0s 8ms/step - loss: 139.8598\n",
            "Epoch 14/60\n",
            "42/42 [==============================] - 0s 8ms/step - loss: 169.6565\n",
            "Epoch 15/60\n",
            "42/42 [==============================] - 0s 8ms/step - loss: 140.6305\n",
            "Epoch 16/60\n",
            "42/42 [==============================] - 0s 8ms/step - loss: 154.9058\n",
            "Epoch 17/60\n",
            "42/42 [==============================] - 0s 8ms/step - loss: 140.2320\n",
            "Epoch 18/60\n",
            "42/42 [==============================] - 0s 8ms/step - loss: 141.3828\n",
            "Epoch 19/60\n",
            "42/42 [==============================] - 0s 8ms/step - loss: 144.5495\n",
            "Epoch 20/60\n",
            "42/42 [==============================] - 0s 8ms/step - loss: 126.3685\n",
            "Epoch 21/60\n",
            "42/42 [==============================] - 0s 8ms/step - loss: 127.6615\n",
            "Epoch 22/60\n",
            "42/42 [==============================] - 0s 8ms/step - loss: 147.5059\n",
            "Epoch 23/60\n",
            "42/42 [==============================] - 0s 8ms/step - loss: 143.2672\n",
            "Epoch 24/60\n",
            "42/42 [==============================] - 0s 8ms/step - loss: 127.1972\n",
            "Epoch 25/60\n",
            "42/42 [==============================] - 0s 8ms/step - loss: 120.7008\n",
            "Epoch 26/60\n",
            "42/42 [==============================] - 0s 8ms/step - loss: 146.6608\n",
            "Epoch 27/60\n",
            "42/42 [==============================] - 0s 8ms/step - loss: 119.2086\n",
            "Epoch 28/60\n",
            "42/42 [==============================] - 0s 7ms/step - loss: 127.5632\n",
            "Epoch 29/60\n",
            "42/42 [==============================] - 0s 8ms/step - loss: 132.5858\n",
            "Epoch 30/60\n",
            "42/42 [==============================] - 0s 8ms/step - loss: 121.6912\n",
            "Epoch 31/60\n",
            "42/42 [==============================] - 0s 8ms/step - loss: 151.6981\n",
            "Epoch 32/60\n",
            "42/42 [==============================] - 0s 8ms/step - loss: 124.2169\n",
            "Epoch 33/60\n",
            "42/42 [==============================] - 0s 8ms/step - loss: 126.9633\n",
            "Epoch 34/60\n",
            "42/42 [==============================] - 0s 8ms/step - loss: 119.0595\n",
            "Epoch 35/60\n",
            "42/42 [==============================] - 0s 8ms/step - loss: 145.8439\n",
            "Epoch 36/60\n",
            "42/42 [==============================] - 0s 8ms/step - loss: 149.4128\n",
            "Epoch 37/60\n",
            "42/42 [==============================] - 0s 8ms/step - loss: 163.9884\n",
            "Epoch 38/60\n",
            "42/42 [==============================] - 0s 8ms/step - loss: 143.0194\n",
            "Epoch 39/60\n",
            "42/42 [==============================] - 0s 8ms/step - loss: 122.1638\n",
            "Epoch 40/60\n",
            "42/42 [==============================] - 0s 9ms/step - loss: 111.7123\n",
            "Epoch 41/60\n",
            "42/42 [==============================] - 0s 11ms/step - loss: 117.8366\n",
            "Epoch 42/60\n",
            "42/42 [==============================] - 0s 9ms/step - loss: 110.7817\n",
            "Epoch 43/60\n",
            "42/42 [==============================] - 0s 10ms/step - loss: 117.7148\n",
            "Epoch 44/60\n",
            "42/42 [==============================] - 0s 9ms/step - loss: 120.8179\n",
            "Epoch 45/60\n",
            "42/42 [==============================] - 0s 9ms/step - loss: 145.2733\n",
            "Epoch 46/60\n",
            "42/42 [==============================] - 0s 9ms/step - loss: 128.4142\n",
            "Epoch 47/60\n",
            "42/42 [==============================] - 0s 8ms/step - loss: 114.6413\n",
            "Epoch 48/60\n",
            "42/42 [==============================] - 0s 8ms/step - loss: 117.3412\n",
            "Epoch 49/60\n",
            "42/42 [==============================] - 0s 8ms/step - loss: 123.9752\n",
            "Epoch 50/60\n",
            "42/42 [==============================] - 0s 8ms/step - loss: 117.0571\n",
            "Epoch 51/60\n",
            "42/42 [==============================] - 0s 8ms/step - loss: 98.9552\n",
            "Epoch 52/60\n",
            "42/42 [==============================] - 0s 8ms/step - loss: 131.5837\n",
            "Epoch 53/60\n",
            "42/42 [==============================] - 0s 8ms/step - loss: 128.3523\n",
            "Epoch 54/60\n",
            "42/42 [==============================] - 0s 8ms/step - loss: 182.9550\n",
            "Epoch 55/60\n",
            "42/42 [==============================] - 0s 8ms/step - loss: 156.0988\n",
            "Epoch 56/60\n",
            "42/42 [==============================] - 0s 10ms/step - loss: 159.7067\n",
            "Epoch 57/60\n",
            "42/42 [==============================] - 0s 10ms/step - loss: 121.8651\n",
            "Epoch 58/60\n",
            "42/42 [==============================] - 0s 10ms/step - loss: 142.2176\n",
            "Epoch 59/60\n",
            "42/42 [==============================] - 0s 8ms/step - loss: 118.4640\n",
            "Epoch 60/60\n",
            "42/42 [==============================] - 0s 9ms/step - loss: 129.3775\n"
          ]
        }
      ],
      "source": [
        "history = model.fit(X_train, y_train, epochs=60, batch_size=64, verbose=1)"
      ]
    },
    {
      "cell_type": "code",
      "execution_count": null,
      "id": "e2d33122",
      "metadata": {
        "id": "e2d33122"
      },
      "outputs": [],
      "source": [
        "X_test = X_test.reshape(X_test.shape[0],X_test.shape[1],1)\n",
        "y_pred = model.predict(X_test)\n",
        "y_test = y_test.reshape(y_pred.shape)"
      ]
    },
    {
      "cell_type": "code",
      "execution_count": null,
      "id": "73c721a2",
      "metadata": {
        "colab": {
          "base_uri": "https://localhost:8080/",
          "height": 330
        },
        "id": "73c721a2",
        "outputId": "5504470b-2c03-4d25-90dc-5f16a84b9479"
      },
      "outputs": [
        {
          "data": {
            "image/png": "[encoded data removed]",
            "text/plain": [
              "<Figure size 432x288 with 1 Axes>"
            ]
          },
          "metadata": {
            "needs_background": "light"
          },
          "output_type": "display_data"
        },
        {
          "name": "stdout",
          "output_type": "stream",
          "text": [
            "Mean of residuals: 109.75326627595905\n",
            "Std of residuals: 94.42251308142441\n"
          ]
        }
      ],
      "source": [
        "residual = y_test-y_pred\n",
        "plt.plot([i for i in range(len(y_test))], residual)\n",
        "plt.xlabel('Days')\n",
        "plt.ylabel(\"Residual\")\n",
        "plt.title(\"Residuals for LSTM\")\n",
        "plt.show()\n",
        "print(\"Mean of residuals:\", residual.mean())\n",
        "print(\"Std of residuals:\", residual.std())"
      ]
    },
    {
      "cell_type": "code",
      "execution_count": null,
      "id": "849f309c",
      "metadata": {
        "colab": {
          "base_uri": "https://localhost:8080/",
          "height": 279
        },
        "id": "849f309c",
        "outputId": "76cdcb64-6845-4eb3-c62e-39b32d8db564"
      },
      "outputs": [
        {
          "data": {
            "image/png": "[encoded data removed]",
            "text/plain": [
              "<Figure size 432x288 with 1 Axes>"
            ]
          },
          "metadata": {
            "needs_background": "light"
          },
          "output_type": "display_data"
        }
      ],
      "source": [
        "plt.plot([i for i in range(len(y_test))], y_test)\n",
        "plt.plot([i for i in range(len(y_test))], y_pred)\n",
        "plt.xlabel('Days')\n",
        "plt.ylabel('Closing Price')\n",
        "plt.legend(['Test data', 'Predicted data'])\n",
        "plt.show()"
      ]
    },
    {
      "cell_type": "code",
      "execution_count": null,
      "id": "02c78890",
      "metadata": {
        "id": "02c78890",
        "outputId": "714c80da-48d2-4ac2-a724-f5e2d00c4168"
      },
      "outputs": [
        {
          "name": "stdout",
          "output_type": "stream",
          "text": [
            "Mean squared error: 20961.39\n",
            "Coefficient of determination: 0.32\n",
            "Mean Absolute Percentage error: 13.01\n",
            "Mean Absolute error: 114.20\n"
          ]
        }
      ],
      "source": [
        "print(\"Mean squared error: %.2f\" % mean_squared_error(y_test, y_pred))\n",
        "print(\"Coefficient of determination: %.2f\" % r2_score(y_test, y_pred))\n",
        "print(\"Mean Absolute Percentage error: %.2f\" % (100*mean_absolute_percentage_error(y_test, y_pred)))\n",
        "print(\"Mean Absolute error: %.2f\" % mean_absolute_error(y_test, y_pred))"
      ]
    },
    {
      "cell_type": "markdown",
      "id": "91558cc2",
      "metadata": {
        "id": "91558cc2"
      },
      "source": [
        "# Classification"
      ]
    },
    {
      "cell_type": "code",
      "execution_count": null,
      "id": "b2174028",
      "metadata": {
        "id": "b2174028"
      },
      "outputs": [],
      "source": [
        "from sklearn.metrics import confusion_matrix, accuracy_score, f1_score, recall_score\n",
        "X_train, X_test, y_train, y_test = train_test_split(features, target_df['Change'].to_numpy(), test_size=0.3)"
      ]
    },
    {
      "cell_type": "markdown",
      "id": "beb4ef4a",
      "metadata": {
        "id": "beb4ef4a"
      },
      "source": [
        "### [Support Vector Machines](https://scikit-learn.org/stable/modules/generated/sklearn.svm.SVC.html#sklearn.svm.SVC)"
      ]
    },
    {
      "cell_type": "code",
      "execution_count": null,
      "id": "f9e76c34",
      "metadata": {
        "id": "f9e76c34"
      },
      "outputs": [],
      "source": [
        "from sklearn import svm\n",
        "clf = svm.SVC()\n",
        "hyperparams = {'C': np.logspace(-1, 3, 5), 'kernel': ['linear', 'rbf', 'sigmoid']}\n",
        "svc_dat = GridSearchCV(estimator=clf, param_grid=hyperparams, cv=timeSplitCV)\n",
        "svc_dat.fit(X_train, y_train)\n",
        "y_pred = svc_dat.predict(X_test)"
      ]
    },
    {
      "cell_type": "code",
      "execution_count": null,
      "id": "645d2175",
      "metadata": {
        "colab": {
          "base_uri": "https://localhost:8080/"
        },
        "id": "645d2175",
        "outputId": "779b5fc8-0694-4edd-afc6-92e6558076f0"
      },
      "outputs": [
        {
          "name": "stdout",
          "output_type": "stream",
          "text": [
            "Confusion matrix:\n",
            "Best parameters:  {'C': 1000.0, 'kernel': 'rbf'}\n",
            "[[290 147]\n",
            " [164 286]]\n",
            "Accuracy score: 0.649379932356257\n",
            "Recall score: 0.6355555555555555\n",
            "F1 score: 0.6477916194790487\n"
          ]
        }
      ],
      "source": [
        "print(\"Confusion matrix:\")\n",
        "print(\"Best parameters: \", svc_dat.best_params_)\n",
        "print(confusion_matrix(y_test, y_pred))\n",
        "print(\"Accuracy score:\", accuracy_score(y_test, y_pred))\n",
        "print(\"Recall score:\",recall_score(y_test, y_pred))\n",
        "print(\"F1 score:\", f1_score(y_test, y_pred))"
      ]
    },
    {
      "cell_type": "markdown",
      "id": "d1373a26",
      "metadata": {
        "id": "d1373a26"
      },
      "source": [
        "### [Stochastic Gradient Descent Classifier](https://scikit-learn.org/stable/modules/generated/sklearn.linear_model.SGDClassifier.html#sklearn.linear_model.SGDClassifier)"
      ]
    },
    {
      "cell_type": "code",
      "execution_count": null,
      "id": "b432e4e2",
      "metadata": {
        "id": "b432e4e2"
      },
      "outputs": [],
      "source": [
        "from sklearn.linear_model import SGDClassifier\n",
        "clf = SGDClassifier(loss=\"hinge\", penalty=\"l2\", max_iter=100)\n",
        "hyperparams = {'alpha': np.logspace(-5, -2, 5)}\n",
        "sgd_dat = GridSearchCV(estimator=clf, param_grid=hyperparams, cv=timeSplitCV)\n",
        "sgd_dat.fit(X_train, y_train)\n",
        "y_pred = sgd_dat.predict(X_test)"
      ]
    },
    {
      "cell_type": "code",
      "execution_count": null,
      "id": "ab6d9201",
      "metadata": {
        "colab": {
          "base_uri": "https://localhost:8080/"
        },
        "id": "ab6d9201",
        "outputId": "65f67f17-e5cc-4dde-bbf6-9df279204271"
      },
      "outputs": [
        {
          "name": "stdout",
          "output_type": "stream",
          "text": [
            "Confusion matrix:\n",
            "Best parameters:  {'alpha': 0.01}\n",
            "[[253 184]\n",
            " [147 303]]\n",
            "Accuracy score: 0.6268320180383314\n",
            "Recall score: 0.6733333333333333\n",
            "F1 score: 0.6467449306296691\n"
          ]
        }
      ],
      "source": [
        "print(\"Confusion matrix:\")\n",
        "print(\"Best parameters: \", sgd_dat.best_params_)\n",
        "print(confusion_matrix(y_test, y_pred))\n",
        "print(\"Accuracy score:\", accuracy_score(y_test, y_pred))\n",
        "print(\"Recall score:\",recall_score(y_test, y_pred))\n",
        "print(\"F1 score:\", f1_score(y_test, y_pred))"
      ]
    },
    {
      "cell_type": "markdown",
      "id": "12f28139",
      "metadata": {
        "id": "12f28139"
      },
      "source": [
        "### [Linear Discriminant Analysis](https://scikit-learn.org/stable/modules/generated/sklearn.discriminant_analysis.LinearDiscriminantAnalysis.html#sklearn.discriminant_analysis.LinearDiscriminantAnalysis)"
      ]
    },
    {
      "cell_type": "code",
      "execution_count": null,
      "id": "7a529c03",
      "metadata": {
        "colab": {
          "base_uri": "https://localhost:8080/"
        },
        "id": "7a529c03",
        "outputId": "316d1243-bade-45c5-eea9-6d65ac4924c1"
      },
      "outputs": [
        {
          "name": "stdout",
          "output_type": "stream",
          "text": [
            "Accuracy score: 0.6245772266065389\n",
            "Recall score: 0.6533333333333333\n",
            "F1 score: 0.6384364820846906\n"
          ]
        }
      ],
      "source": [
        "from sklearn.discriminant_analysis import LinearDiscriminantAnalysis\n",
        "clf = LinearDiscriminantAnalysis().fit(X_train,y_train)\n",
        "y_pred = clf.predict(X_test)\n",
        "print(\"Accuracy score:\", accuracy_score(y_test, y_pred))\n",
        "print(\"Recall score:\",recall_score(y_test, y_pred))\n",
        "print(\"F1 score:\", f1_score(y_test, y_pred))"
      ]
    },
    {
      "cell_type": "markdown",
      "id": "36544a50",
      "metadata": {
        "id": "36544a50"
      },
      "source": [
        "### [KNN Classifier](https://scikit-learn.org/stable/modules/generated/sklearn.neighbors.KNeighborsClassifier.html#sklearn.neighbors.KNeighborsClassifier)"
      ]
    },
    {
      "cell_type": "code",
      "execution_count": null,
      "id": "a26af01f",
      "metadata": {
        "colab": {
          "base_uri": "https://localhost:8080/"
        },
        "id": "a26af01f",
        "outputId": "1fa57fce-79a1-47f9-90cf-7037a1d19018"
      },
      "outputs": [
        {
          "name": "stdout",
          "output_type": "stream",
          "text": [
            "For weights = uniform\n",
            "Best parameters:  {'n_neighbors': 15}\n",
            "Accuracy score: 0.6234498308906427\n",
            "Recall score: 0.6244444444444445\n",
            "F1 score: 0.6272321428571429\n",
            "---------------\n",
            "For weights = distance\n",
            "Best parameters:  {'n_neighbors': 15}\n",
            "Accuracy score: 0.6144306651634723\n",
            "Recall score: 0.6044444444444445\n",
            "F1 score: 0.6139954853273137\n",
            "---------------\n"
          ]
        }
      ],
      "source": [
        "from sklearn import neighbors\n",
        "for weights in [\"uniform\", \"distance\"]:\n",
        "    clf = neighbors.KNeighborsClassifier(weights=weights)\n",
        "    hyperparams = {'n_neighbors': [3, 5, 7, 10, 15]}\n",
        "    knn_dat = GridSearchCV(estimator=clf, param_grid=hyperparams, cv=timeSplitCV)\n",
        "    knn_dat.fit(X_train, y_train)\n",
        "    y_pred = knn_dat.predict(X_test)\n",
        "    print(\"For weights =\", weights)\n",
        "    print(\"Best parameters: \", knn_dat.best_params_)\n",
        "    print(\"Accuracy score:\", accuracy_score(y_test, y_pred))\n",
        "    print(\"Recall score:\",recall_score(y_test, y_pred))\n",
        "    print(\"F1 score:\", f1_score(y_test, y_pred))\n",
        "    print('-'*15)"
      ]
    },
    {
      "cell_type": "markdown",
      "id": "1bee698a",
      "metadata": {
        "id": "1bee698a"
      },
      "source": [
        "### [Gaussian Process Classifier](https://scikit-learn.org/stable/modules/generated/sklearn.gaussian_process.GaussianProcessClassifier.html#sklearn.gaussian_process.GaussianProcessClassifier)"
      ]
    },
    {
      "cell_type": "code",
      "execution_count": null,
      "id": "d6a070c6",
      "metadata": {
        "id": "d6a070c6"
      },
      "outputs": [],
      "source": [
        "from sklearn.gaussian_process import GaussianProcessClassifier\n",
        "from sklearn.gaussian_process.kernels import RBF"
      ]
    },
    {
      "cell_type": "code",
      "execution_count": null,
      "id": "e8b4f1bc",
      "metadata": {
        "id": "e8b4f1bc"
      },
      "outputs": [],
      "source": [
        "kernel = 1.0 * RBF(1.0)\n",
        "gpc = GaussianProcessClassifier(kernel=kernel, random_state=0).fit(X_train, y_train)"
      ]
    },
    {
      "cell_type": "code",
      "execution_count": null,
      "id": "6d436801",
      "metadata": {
        "colab": {
          "base_uri": "https://localhost:8080/"
        },
        "id": "6d436801",
        "outputId": "7da90644-9f7e-40ad-f190-a6f40a75b4f7"
      },
      "outputs": [
        {
          "name": "stdout",
          "output_type": "stream",
          "text": [
            "Accuracy score: 0.6505073280721533\n",
            "Recall score: 0.6111111111111112\n",
            "F1 score: 0.6395348837209301\n"
          ]
        }
      ],
      "source": [
        "y_pred = gpc.predict(X_test)\n",
        "print(\"Accuracy score:\", accuracy_score(y_test, y_pred))\n",
        "print(\"Recall score:\",recall_score(y_test, y_pred))\n",
        "print(\"F1 score:\", f1_score(y_test, y_pred))"
      ]
    },
    {
      "cell_type": "markdown",
      "id": "c3e5487e",
      "metadata": {
        "id": "c3e5487e"
      },
      "source": [
        "### [Decision Tree Classifier](https://scikit-learn.org/stable/modules/generated/sklearn.tree.DecisionTreeClassifier.html#sklearn.tree.DecisionTreeClassifier)"
      ]
    },
    {
      "cell_type": "code",
      "execution_count": null,
      "id": "9425aef7",
      "metadata": {
        "colab": {
          "base_uri": "https://localhost:8080/"
        },
        "id": "9425aef7",
        "outputId": "29cd3831-fae3-4c36-97dc-b13b71aa9f42"
      },
      "outputs": [
        {
          "name": "stdout",
          "output_type": "stream",
          "text": [
            "Accuracy score: 0.6065388951521984\n",
            "Recall score: 0.6288888888888889\n",
            "F1 score: 0.6185792349726776\n"
          ]
        }
      ],
      "source": [
        "from sklearn import tree\n",
        "clf = tree.DecisionTreeClassifier()\n",
        "clf.fit(X_train, y_train)\n",
        "y_pred = clf.predict(X_test)\n",
        "print(\"Accuracy score:\", accuracy_score(y_test, y_pred))\n",
        "print(\"Recall score:\",recall_score(y_test, y_pred))\n",
        "print(\"F1 score:\", f1_score(y_test, y_pred))"
      ]
    },
    {
      "cell_type": "markdown",
      "id": "448d566b",
      "metadata": {
        "id": "448d566b"
      },
      "source": [
        "### [Ensemble Methods](https://scikit-learn.org/stable/modules/ensemble.html)\n",
        "The goal of ensemble methods is to combine the predictions of several base estimators built with a given learning algorithm in order to improve generalizability / robustness over a single estimator."
      ]
    },
    {
      "cell_type": "markdown",
      "id": "946733fc",
      "metadata": {
        "id": "946733fc"
      },
      "source": [
        "#### [Random Forest Classifier](https://scikit-learn.org/stable/modules/generated/sklearn.ensemble.RandomForestClassifier.html#sklearn.ensemble.RandomForestClassifier)"
      ]
    },
    {
      "cell_type": "code",
      "execution_count": null,
      "id": "4a4fe3a4",
      "metadata": {
        "colab": {
          "base_uri": "https://localhost:8080/"
        },
        "id": "4a4fe3a4",
        "outputId": "82638fdb-a56c-4e95-874f-c5d6dc48cdcb"
      },
      "outputs": [
        {
          "name": "stdout",
          "output_type": "stream",
          "text": [
            "Best parameters:  {'n_estimators': 15}\n",
            "Accuracy score: 0.6223224351747464\n",
            "Recall score: 0.6088888888888889\n",
            "F1 score: 0.6206115515288789\n"
          ]
        }
      ],
      "source": [
        "from sklearn.ensemble import RandomForestClassifier\n",
        "clf = RandomForestClassifier(n_estimators=10)\n",
        "hyperparams = {'n_estimators': [7, 10, 15, 25]}\n",
        "rfc_dat = GridSearchCV(estimator=clf, param_grid=hyperparams, cv=timeSplitCV)\n",
        "rfc_dat.fit(X_train, y_train)\n",
        "y_pred = rfc_dat.predict(X_test)\n",
        "print(\"Best parameters: \", rfc_dat.best_params_)\n",
        "print(\"Accuracy score:\", accuracy_score(y_test, y_pred))\n",
        "print(\"Recall score:\",recall_score(y_test, y_pred))\n",
        "print(\"F1 score:\", f1_score(y_test, y_pred))"
      ]
    },
    {
      "cell_type": "markdown",
      "id": "0c790924",
      "metadata": {
        "id": "0c790924"
      },
      "source": [
        "#### [Bagging Classifier](https://scikit-learn.org/stable/modules/generated/sklearn.ensemble.BaggingClassifier.html#sklearn.ensemble.BaggingClassifier)"
      ]
    },
    {
      "cell_type": "code",
      "execution_count": null,
      "id": "44076e3e",
      "metadata": {
        "colab": {
          "base_uri": "https://localhost:8080/"
        },
        "id": "44076e3e",
        "outputId": "8c38e518-c983-488a-fc7a-e992d969cace"
      },
      "outputs": [
        {
          "name": "stdout",
          "output_type": "stream",
          "text": [
            "Using SVC as base estimator\n",
            "Accuracy score: 0.649379932356257\n",
            "Recall score: 0.5888888888888889\n",
            "F1 score: 0.6302021403091558\n",
            "---------------\n",
            "Using DecisionTreeClassifier as base estimator\n",
            "Accuracy score: 0.6414881623449831\n",
            "Recall score: 0.5844444444444444\n",
            "F1 score: 0.6232227488151658\n"
          ]
        }
      ],
      "source": [
        "from sklearn.ensemble import BaggingClassifier\n",
        "from sklearn.svm import SVC\n",
        "print(\"Using SVC as base estimator\")\n",
        "clf = BaggingClassifier(base_estimator=SVC(), n_estimators=10, random_state=0).fit(X_train, y_train)\n",
        "y_pred = clf.predict(X_test)\n",
        "print(\"Accuracy score:\", accuracy_score(y_test, y_pred))\n",
        "print(\"Recall score:\",recall_score(y_test, y_pred))\n",
        "print(\"F1 score:\", f1_score(y_test, y_pred))\n",
        "print('-'*15)\n",
        "print(\"Using DecisionTreeClassifier as base estimator\")\n",
        "clf = BaggingClassifier(base_estimator=None, n_estimators=10, random_state=0).fit(X_train, y_train)\n",
        "y_pred = clf.predict(X_test)\n",
        "print(\"Accuracy score:\", accuracy_score(y_test, y_pred))\n",
        "print(\"Recall score:\",recall_score(y_test, y_pred))\n",
        "print(\"F1 score:\", f1_score(y_test, y_pred))"
      ]
    },
    {
      "cell_type": "markdown",
      "id": "204e0d51",
      "metadata": {
        "id": "204e0d51"
      },
      "source": [
        "### [Multi-layer Perceptron](https://scikit-learn.org/stable/modules/generated/sklearn.neural_network.MLPClassifier.html#sklearn.neural_network.MLPClassifier)"
      ]
    },
    {
      "cell_type": "code",
      "execution_count": null,
      "id": "85e6d395",
      "metadata": {
        "colab": {
          "base_uri": "https://localhost:8080/"
        },
        "id": "85e6d395",
        "outputId": "933ec582-6688-45ab-8339-b39b77f8ce86"
      },
      "outputs": [
        {
          "name": "stdout",
          "output_type": "stream",
          "text": [
            "Best parameters:  {'alpha': 0.01}\n",
            "Accuracy score: 0.6347237880496054\n",
            "Recall score: 0.6066666666666667\n",
            "F1 score: 0.6275862068965518\n"
          ]
        }
      ],
      "source": [
        "from sklearn.neural_network import MLPClassifier\n",
        "clf = MLPClassifier(random_state=1, learning_rate='adaptive', max_iter=10000).fit(X_train, y_train)\n",
        "hyperparams = {'alpha': np.logspace(-5, -2, 6)}\n",
        "mlp_dat = GridSearchCV(estimator=clf, param_grid=hyperparams, cv=timeSplitCV)\n",
        "mlp_dat.fit(X_train, y_train)\n",
        "y_pred = mlp_dat.predict(X_test)\n",
        "print(\"Best parameters: \", mlp_dat.best_params_)\n",
        "print(\"Accuracy score:\", accuracy_score(y_test, y_pred))\n",
        "print(\"Recall score:\",recall_score(y_test, y_pred))\n",
        "print(\"F1 score:\", f1_score(y_test, y_pred))"
      ]
    },
    {
      "cell_type": "code",
      "execution_count": null,
      "id": "bdbe3fc8",
      "metadata": {
        "colab": {
          "base_uri": "https://localhost:8080/"
        },
        "id": "bdbe3fc8",
        "outputId": "3ec15e8c-e0ab-4a2a-8277-6077897f010e"
      },
      "outputs": [
        {
          "name": "stdout",
          "output_type": "stream",
          "text": [
            "Best parameters:  {'alpha': 1e-05}\n",
            "Accuracy score: 0.629086809470124\n",
            "Recall score: 0.6555555555555556\n",
            "F1 score: 0.6420021762785636\n"
          ]
        }
      ],
      "source": [
        "clf = MLPClassifier(activation='identity', solver='lbfgs',random_state=1, max_iter=10000).fit(X_train, y_train)\n",
        "hyperparams = {'alpha': np.logspace(-5, -2, 6)}\n",
        "mlp_dat = GridSearchCV(estimator=clf, param_grid=hyperparams, cv=timeSplitCV)\n",
        "mlp_dat.fit(X_train, y_train)\n",
        "y_pred = mlp_dat.predict(X_test)\n",
        "print(\"Best parameters: \", mlp_dat.best_params_)\n",
        "print(\"Accuracy score:\", accuracy_score(y_test, y_pred))\n",
        "print(\"Recall score:\",recall_score(y_test, y_pred))\n",
        "print(\"F1 score:\", f1_score(y_test, y_pred))"
      ]
    },
    {
      "cell_type": "markdown",
      "id": "_JR1-lt58ntx",
      "metadata": {
        "id": "_JR1-lt58ntx"
      },
      "source": [
        "# Sentiment Analysis"
      ]
    },
    {
      "cell_type": "code",
      "execution_count": null,
      "id": "Obd0xv738ro7",
      "metadata": {
        "id": "Obd0xv738ro7"
      },
      "outputs": [],
      "source": [
        "import pandas as pd\n",
        "import numpy as np\n",
        "from sklearn.feature_extraction.text import CountVectorizer\n",
        "from sklearn.linear_model import LogisticRegression"
      ]
    },
    {
      "cell_type": "code",
      "execution_count": null,
      "id": "RIxPgsO581ia",
      "metadata": {
        "colab": {
          "base_uri": "https://localhost:8080/",
          "height": 802
        },
        "id": "RIxPgsO581ia",
        "outputId": "d30f82e4-a1b7-4fa1-e84a-2d5b2ff91772"
      },
      "outputs": [
        {
          "data": {
            "text/html": [
              "<div>\n",
              "<style scoped>\n",
              "    .dataframe tbody tr th:only-of-type {\n",
              "        vertical-align: middle;\n",
              "    }\n",
              "\n",
              "    .dataframe tbody tr th {\n",
              "        vertical-align: top;\n",
              "    }\n",
              "\n",
              "    .dataframe thead th {\n",
              "        text-align: right;\n",
              "    }\n",
              "</style>\n",
              "<table border=\"1\" class=\"dataframe\">\n",
              "  <thead>\n",
              "    <tr style=\"text-align: right;\">\n",
              "      <th></th>\n",
              "      <th>Date</th>\n",
              "      <th>Label</th>\n",
              "      <th>Top1</th>\n",
              "      <th>Top2</th>\n",
              "      <th>Top3</th>\n",
              "      <th>Top4</th>\n",
              "      <th>Top5</th>\n",
              "      <th>Top6</th>\n",
              "      <th>Top7</th>\n",
              "      <th>Top8</th>\n",
              "      <th>...</th>\n",
              "      <th>Top16</th>\n",
              "      <th>Top17</th>\n",
              "      <th>Top18</th>\n",
              "      <th>Top19</th>\n",
              "      <th>Top20</th>\n",
              "      <th>Top21</th>\n",
              "      <th>Top22</th>\n",
              "      <th>Top23</th>\n",
              "      <th>Top24</th>\n",
              "      <th>Top25</th>\n",
              "    </tr>\n",
              "  </thead>\n",
              "  <tbody>\n",
              "    <tr>\n",
              "      <th>0</th>\n",
              "      <td>2000-01-03</td>\n",
              "      <td>0</td>\n",
              "      <td>A 'hindrance to operations': extracts from the...</td>\n",
              "      <td>Scorecard</td>\n",
              "      <td>Hughes' instant hit buoys Blues</td>\n",
              "      <td>Jack gets his skates on at ice-cold Alex</td>\n",
              "      <td>Chaos as Maracana builds up for United</td>\n",
              "      <td>Depleted Leicester prevail as Elliott spoils E...</td>\n",
              "      <td>Hungry Spurs sense rich pickings</td>\n",
              "      <td>Gunners so wide of an easy target</td>\n",
              "      <td>...</td>\n",
              "      <td>Flintoff injury piles on woe for England</td>\n",
              "      <td>Hunters threaten Jospin with new battle of the...</td>\n",
              "      <td>Kohl's successor drawn into scandal</td>\n",
              "      <td>The difference between men and women</td>\n",
              "      <td>Sara Denver, nurse turned solicitor</td>\n",
              "      <td>Diana's landmine crusade put Tories in a panic</td>\n",
              "      <td>Yeltsin's resignation caught opposition flat-f...</td>\n",
              "      <td>Russian roulette</td>\n",
              "      <td>Sold out</td>\n",
              "      <td>Recovering a title</td>\n",
              "    </tr>\n",
              "    <tr>\n",
              "      <th>1</th>\n",
              "      <td>2000-01-04</td>\n",
              "      <td>0</td>\n",
              "      <td>Scorecard</td>\n",
              "      <td>The best lake scene</td>\n",
              "      <td>Leader: German sleaze inquiry</td>\n",
              "      <td>Cheerio, boyo</td>\n",
              "      <td>The main recommendations</td>\n",
              "      <td>Has Cubie killed fees?</td>\n",
              "      <td>Has Cubie killed fees?</td>\n",
              "      <td>Has Cubie killed fees?</td>\n",
              "      <td>...</td>\n",
              "      <td>On the critical list</td>\n",
              "      <td>The timing of their lives</td>\n",
              "      <td>Dear doctor</td>\n",
              "      <td>Irish court halts IRA man's extradition to Nor...</td>\n",
              "      <td>Burundi peace initiative fades after rebels re...</td>\n",
              "      <td>PE points the way forward to the ECB</td>\n",
              "      <td>Campaigners keep up pressure on Nazi war crime...</td>\n",
              "      <td>Jane Ratcliffe</td>\n",
              "      <td>Yet more things you wouldn't know without the ...</td>\n",
              "      <td>Millennium bug fails to bite</td>\n",
              "    </tr>\n",
              "    <tr>\n",
              "      <th>2</th>\n",
              "      <td>2000-01-05</td>\n",
              "      <td>0</td>\n",
              "      <td>Coventry caught on counter by Flo</td>\n",
              "      <td>United's rivals on the road to Rio</td>\n",
              "      <td>Thatcher issues defence before trial by video</td>\n",
              "      <td>Police help Smith lay down the law at Everton</td>\n",
              "      <td>Tale of Trautmann bears two more retellings</td>\n",
              "      <td>England on the rack</td>\n",
              "      <td>Pakistan retaliate with call for video of Walsh</td>\n",
              "      <td>Cullinan continues his Cape monopoly</td>\n",
              "      <td>...</td>\n",
              "      <td>South Melbourne (Australia)</td>\n",
              "      <td>Necaxa (Mexico)</td>\n",
              "      <td>Real Madrid (Spain)</td>\n",
              "      <td>Raja Casablanca (Morocco)</td>\n",
              "      <td>Corinthians (Brazil)</td>\n",
              "      <td>Tony's pet project</td>\n",
              "      <td>Al Nassr (Saudi Arabia)</td>\n",
              "      <td>Ideal Holmes show</td>\n",
              "      <td>Pinochet leaves hospital after tests</td>\n",
              "      <td>Useful links</td>\n",
              "    </tr>\n",
              "    <tr>\n",
              "      <th>3</th>\n",
              "      <td>2000-01-06</td>\n",
              "      <td>1</td>\n",
              "      <td>Pilgrim knows how to progress</td>\n",
              "      <td>Thatcher facing ban</td>\n",
              "      <td>McIlroy calls for Irish fighting spirit</td>\n",
              "      <td>Leicester bin stadium blueprint</td>\n",
              "      <td>United braced for Mexican wave</td>\n",
              "      <td>Auntie back in fashion, even if the dress look...</td>\n",
              "      <td>Shoaib appeal goes to the top</td>\n",
              "      <td>Hussain hurt by 'shambles' but lays blame on e...</td>\n",
              "      <td>...</td>\n",
              "      <td>Putin admits Yeltsin quit to give him a head s...</td>\n",
              "      <td>BBC worst hit as digital TV begins to bite</td>\n",
              "      <td>How much can you pay for...</td>\n",
              "      <td>Christmas glitches</td>\n",
              "      <td>Upending a table, Chopping a line and Scoring ...</td>\n",
              "      <td>Scientific evidence 'unreliable', defence claims</td>\n",
              "      <td>Fusco wins judicial review in extradition case</td>\n",
              "      <td>Rebels thwart Russian advance</td>\n",
              "      <td>Blair orders shake-up of failing NHS</td>\n",
              "      <td>Lessons of law's hard heart</td>\n",
              "    </tr>\n",
              "    <tr>\n",
              "      <th>4</th>\n",
              "      <td>2000-01-07</td>\n",
              "      <td>1</td>\n",
              "      <td>Hitches and Horlocks</td>\n",
              "      <td>Beckham off but United survive</td>\n",
              "      <td>Breast cancer screening</td>\n",
              "      <td>Alan Parker</td>\n",
              "      <td>Guardian readers: are you all whingers?</td>\n",
              "      <td>Hollywood Beyond</td>\n",
              "      <td>Ashes and diamonds</td>\n",
              "      <td>Whingers - a formidable minority</td>\n",
              "      <td>...</td>\n",
              "      <td>Most everywhere:  UDIs</td>\n",
              "      <td>Most wanted:  Chloe lunettes</td>\n",
              "      <td>Return of the cane 'completely off the agenda'</td>\n",
              "      <td>From Sleepy Hollow to Greeneland</td>\n",
              "      <td>Blunkett outlines vision for over 11s</td>\n",
              "      <td>Embattled Dobson attacks 'play now, pay later'...</td>\n",
              "      <td>Doom and the Dome</td>\n",
              "      <td>What is the north-south divide?</td>\n",
              "      <td>Aitken released from jail</td>\n",
              "      <td>Gone aloft</td>\n",
              "    </tr>\n",
              "  </tbody>\n",
              "</table>\n",
              "<p>5 rows × 27 columns</p>\n",
              "</div>"
            ],
            "text/plain": [
              "         Date  Label                                               Top1  \\\n",
              "0  2000-01-03      0  A 'hindrance to operations': extracts from the...   \n",
              "1  2000-01-04      0                                          Scorecard   \n",
              "2  2000-01-05      0                  Coventry caught on counter by Flo   \n",
              "3  2000-01-06      1                      Pilgrim knows how to progress   \n",
              "4  2000-01-07      1                               Hitches and Horlocks   \n",
              "\n",
              "                                 Top2  \\\n",
              "0                           Scorecard   \n",
              "1                 The best lake scene   \n",
              "2  United's rivals on the road to Rio   \n",
              "3                 Thatcher facing ban   \n",
              "4      Beckham off but United survive   \n",
              "\n",
              "                                            Top3  \\\n",
              "0                Hughes' instant hit buoys Blues   \n",
              "1                  Leader: German sleaze inquiry   \n",
              "2  Thatcher issues defence before trial by video   \n",
              "3        McIlroy calls for Irish fighting spirit   \n",
              "4                        Breast cancer screening   \n",
              "\n",
              "                                            Top4  \\\n",
              "0       Jack gets his skates on at ice-cold Alex   \n",
              "1                                  Cheerio, boyo   \n",
              "2  Police help Smith lay down the law at Everton   \n",
              "3                Leicester bin stadium blueprint   \n",
              "4                                    Alan Parker   \n",
              "\n",
              "                                          Top5  \\\n",
              "0       Chaos as Maracana builds up for United   \n",
              "1                     The main recommendations   \n",
              "2  Tale of Trautmann bears two more retellings   \n",
              "3               United braced for Mexican wave   \n",
              "4      Guardian readers: are you all whingers?   \n",
              "\n",
              "                                                Top6  \\\n",
              "0  Depleted Leicester prevail as Elliott spoils E...   \n",
              "1                             Has Cubie killed fees?   \n",
              "2                                England on the rack   \n",
              "3  Auntie back in fashion, even if the dress look...   \n",
              "4                                   Hollywood Beyond   \n",
              "\n",
              "                                              Top7  \\\n",
              "0                 Hungry Spurs sense rich pickings   \n",
              "1                           Has Cubie killed fees?   \n",
              "2  Pakistan retaliate with call for video of Walsh   \n",
              "3                    Shoaib appeal goes to the top   \n",
              "4                               Ashes and diamonds   \n",
              "\n",
              "                                                Top8  ...  \\\n",
              "0                  Gunners so wide of an easy target  ...   \n",
              "1                             Has Cubie killed fees?  ...   \n",
              "2               Cullinan continues his Cape monopoly  ...   \n",
              "3  Hussain hurt by 'shambles' but lays blame on e...  ...   \n",
              "4                   Whingers - a formidable minority  ...   \n",
              "\n",
              "                                               Top16  \\\n",
              "0           Flintoff injury piles on woe for England   \n",
              "1                               On the critical list   \n",
              "2                        South Melbourne (Australia)   \n",
              "3  Putin admits Yeltsin quit to give him a head s...   \n",
              "4                             Most everywhere:  UDIs   \n",
              "\n",
              "                                               Top17  \\\n",
              "0  Hunters threaten Jospin with new battle of the...   \n",
              "1                          The timing of their lives   \n",
              "2                                    Necaxa (Mexico)   \n",
              "3         BBC worst hit as digital TV begins to bite   \n",
              "4                       Most wanted:  Chloe lunettes   \n",
              "\n",
              "                                            Top18  \\\n",
              "0             Kohl's successor drawn into scandal   \n",
              "1                                     Dear doctor   \n",
              "2                             Real Madrid (Spain)   \n",
              "3                     How much can you pay for...   \n",
              "4  Return of the cane 'completely off the agenda'   \n",
              "\n",
              "                                               Top19  \\\n",
              "0               The difference between men and women   \n",
              "1  Irish court halts IRA man's extradition to Nor...   \n",
              "2                          Raja Casablanca (Morocco)   \n",
              "3                                 Christmas glitches   \n",
              "4                   From Sleepy Hollow to Greeneland   \n",
              "\n",
              "                                               Top20  \\\n",
              "0                Sara Denver, nurse turned solicitor   \n",
              "1  Burundi peace initiative fades after rebels re...   \n",
              "2                               Corinthians (Brazil)   \n",
              "3  Upending a table, Chopping a line and Scoring ...   \n",
              "4              Blunkett outlines vision for over 11s   \n",
              "\n",
              "                                               Top21  \\\n",
              "0     Diana's landmine crusade put Tories in a panic   \n",
              "1               PE points the way forward to the ECB   \n",
              "2                                 Tony's pet project   \n",
              "3   Scientific evidence 'unreliable', defence claims   \n",
              "4  Embattled Dobson attacks 'play now, pay later'...   \n",
              "\n",
              "                                               Top22  \\\n",
              "0  Yeltsin's resignation caught opposition flat-f...   \n",
              "1  Campaigners keep up pressure on Nazi war crime...   \n",
              "2                            Al Nassr (Saudi Arabia)   \n",
              "3     Fusco wins judicial review in extradition case   \n",
              "4                                  Doom and the Dome   \n",
              "\n",
              "                             Top23  \\\n",
              "0                 Russian roulette   \n",
              "1                   Jane Ratcliffe   \n",
              "2                Ideal Holmes show   \n",
              "3    Rebels thwart Russian advance   \n",
              "4  What is the north-south divide?   \n",
              "\n",
              "                                               Top24  \\\n",
              "0                                           Sold out   \n",
              "1  Yet more things you wouldn't know without the ...   \n",
              "2               Pinochet leaves hospital after tests   \n",
              "3               Blair orders shake-up of failing NHS   \n",
              "4                          Aitken released from jail   \n",
              "\n",
              "                          Top25  \n",
              "0            Recovering a title  \n",
              "1  Millennium bug fails to bite  \n",
              "2                  Useful links  \n",
              "3   Lessons of law's hard heart  \n",
              "4                    Gone aloft  \n",
              "\n",
              "[5 rows x 27 columns]"
            ]
          },
          "execution_count": 61,
          "metadata": {},
          "output_type": "execute_result"
        }
      ],
      "source": [
        "# Read in the data\n",
        "df = pd.read_csv('./Dataset/Stock News Dataset.csv', encoding = \"ISO-8859-1\")\n",
        "df.head()"
      ]
    },
    {
      "cell_type": "code",
      "execution_count": null,
      "id": "RDlb0XKyMeI_",
      "metadata": {
        "id": "RDlb0XKyMeI_",
        "outputId": "d7043a8a-f041-4438-e07b-7f752e6abae7"
      },
      "outputs": [
        {
          "name": "stdout",
          "output_type": "stream",
          "text": [
            "<class 'pandas.core.frame.DataFrame'>\n",
            "Int64Index: 3975 entries, 0 to 3974\n",
            "Data columns (total 27 columns):\n",
            " #   Column  Non-Null Count  Dtype \n",
            "---  ------  --------------  ----- \n",
            " 0   Date    3975 non-null   object\n",
            " 1   Label   3975 non-null   int64 \n",
            " 2   Top1    3975 non-null   object\n",
            " 3   Top2    3975 non-null   object\n",
            " 4   Top3    3975 non-null   object\n",
            " 5   Top4    3975 non-null   object\n",
            " 6   Top5    3975 non-null   object\n",
            " 7   Top6    3975 non-null   object\n",
            " 8   Top7    3975 non-null   object\n",
            " 9   Top8    3975 non-null   object\n",
            " 10  Top9    3975 non-null   object\n",
            " 11  Top10   3975 non-null   object\n",
            " 12  Top11   3975 non-null   object\n",
            " 13  Top12   3975 non-null   object\n",
            " 14  Top13   3975 non-null   object\n",
            " 15  Top14   3975 non-null   object\n",
            " 16  Top15   3975 non-null   object\n",
            " 17  Top16   3975 non-null   object\n",
            " 18  Top17   3975 non-null   object\n",
            " 19  Top18   3975 non-null   object\n",
            " 20  Top19   3975 non-null   object\n",
            " 21  Top20   3975 non-null   object\n",
            " 22  Top21   3975 non-null   object\n",
            " 23  Top22   3975 non-null   object\n",
            " 24  Top23   3974 non-null   object\n",
            " 25  Top24   3972 non-null   object\n",
            " 26  Top25   3972 non-null   object\n",
            "dtypes: int64(1), object(26)\n",
            "memory usage: 869.5+ KB\n"
          ]
        }
      ],
      "source": [
        "traindf = df[df['Date'] < '20150101']\n",
        "testdf = df[df['Date'] > '20141231']\n",
        "traindf.info()"
      ]
    },
    {
      "cell_type": "code",
      "execution_count": null,
      "id": "kHBPnKeRMf81",
      "metadata": {
        "colab": {
          "base_uri": "https://localhost:8080/",
          "height": 820
        },
        "id": "kHBPnKeRMf81",
        "outputId": "226bf756-bc19-40b2-84c2-a097c3ae1823"
      },
      "outputs": [
        {
          "data": {
            "text/html": [
              "<div>\n",
              "<style scoped>\n",
              "    .dataframe tbody tr th:only-of-type {\n",
              "        vertical-align: middle;\n",
              "    }\n",
              "\n",
              "    .dataframe tbody tr th {\n",
              "        vertical-align: top;\n",
              "    }\n",
              "\n",
              "    .dataframe thead th {\n",
              "        text-align: right;\n",
              "    }\n",
              "</style>\n",
              "<table border=\"1\" class=\"dataframe\">\n",
              "  <thead>\n",
              "    <tr style=\"text-align: right;\">\n",
              "      <th></th>\n",
              "      <th>0</th>\n",
              "      <th>1</th>\n",
              "      <th>2</th>\n",
              "      <th>3</th>\n",
              "      <th>4</th>\n",
              "      <th>5</th>\n",
              "      <th>6</th>\n",
              "      <th>7</th>\n",
              "      <th>8</th>\n",
              "      <th>9</th>\n",
              "      <th>...</th>\n",
              "      <th>15</th>\n",
              "      <th>16</th>\n",
              "      <th>17</th>\n",
              "      <th>18</th>\n",
              "      <th>19</th>\n",
              "      <th>20</th>\n",
              "      <th>21</th>\n",
              "      <th>22</th>\n",
              "      <th>23</th>\n",
              "      <th>24</th>\n",
              "    </tr>\n",
              "  </thead>\n",
              "  <tbody>\n",
              "    <tr>\n",
              "      <th>0</th>\n",
              "      <td>A  hindrance to operations   extracts from the...</td>\n",
              "      <td>Scorecard</td>\n",
              "      <td>Hughes  instant hit buoys Blues</td>\n",
              "      <td>Jack gets his skates on at ice cold Alex</td>\n",
              "      <td>Chaos as Maracana builds up for United</td>\n",
              "      <td>Depleted Leicester prevail as Elliott spoils E...</td>\n",
              "      <td>Hungry Spurs sense rich pickings</td>\n",
              "      <td>Gunners so wide of an easy target</td>\n",
              "      <td>Derby raise a glass to Strupar s debut double</td>\n",
              "      <td>Southgate strikes  Leeds pay the penalty</td>\n",
              "      <td>...</td>\n",
              "      <td>Flintoff injury piles on woe for England</td>\n",
              "      <td>Hunters threaten Jospin with new battle of the...</td>\n",
              "      <td>Kohl s successor drawn into scandal</td>\n",
              "      <td>The difference between men and women</td>\n",
              "      <td>Sara Denver  nurse turned solicitor</td>\n",
              "      <td>Diana s landmine crusade put Tories in a panic</td>\n",
              "      <td>Yeltsin s resignation caught opposition flat f...</td>\n",
              "      <td>Russian roulette</td>\n",
              "      <td>Sold out</td>\n",
              "      <td>Recovering a title</td>\n",
              "    </tr>\n",
              "    <tr>\n",
              "      <th>1</th>\n",
              "      <td>Scorecard</td>\n",
              "      <td>The best lake scene</td>\n",
              "      <td>Leader  German sleaze inquiry</td>\n",
              "      <td>Cheerio  boyo</td>\n",
              "      <td>The main recommendations</td>\n",
              "      <td>Has Cubie killed fees</td>\n",
              "      <td>Has Cubie killed fees</td>\n",
              "      <td>Has Cubie killed fees</td>\n",
              "      <td>Hopkins  furious  at Foster s lack of Hannibal...</td>\n",
              "      <td>Has Cubie killed fees</td>\n",
              "      <td>...</td>\n",
              "      <td>On the critical list</td>\n",
              "      <td>The timing of their lives</td>\n",
              "      <td>Dear doctor</td>\n",
              "      <td>Irish court halts IRA man s extradition to Nor...</td>\n",
              "      <td>Burundi peace initiative fades after rebels re...</td>\n",
              "      <td>PE points the way forward to the ECB</td>\n",
              "      <td>Campaigners keep up pressure on Nazi war crime...</td>\n",
              "      <td>Jane Ratcliffe</td>\n",
              "      <td>Yet more things you wouldn t know without the ...</td>\n",
              "      <td>Millennium bug fails to bite</td>\n",
              "    </tr>\n",
              "    <tr>\n",
              "      <th>2</th>\n",
              "      <td>Coventry caught on counter by Flo</td>\n",
              "      <td>United s rivals on the road to Rio</td>\n",
              "      <td>Thatcher issues defence before trial by video</td>\n",
              "      <td>Police help Smith lay down the law at Everton</td>\n",
              "      <td>Tale of Trautmann bears two more retellings</td>\n",
              "      <td>England on the rack</td>\n",
              "      <td>Pakistan retaliate with call for video of Walsh</td>\n",
              "      <td>Cullinan continues his Cape monopoly</td>\n",
              "      <td>McGrath puts India out of their misery</td>\n",
              "      <td>Blair Witch bandwagon rolls on</td>\n",
              "      <td>...</td>\n",
              "      <td>South Melbourne  Australia</td>\n",
              "      <td>Necaxa  Mexico</td>\n",
              "      <td>Real Madrid  Spain</td>\n",
              "      <td>Raja Casablanca  Morocco</td>\n",
              "      <td>Corinthians  Brazil</td>\n",
              "      <td>Tony s pet project</td>\n",
              "      <td>Al Nassr  Saudi Arabia</td>\n",
              "      <td>Ideal Holmes show</td>\n",
              "      <td>Pinochet leaves hospital after tests</td>\n",
              "      <td>Useful links</td>\n",
              "    </tr>\n",
              "    <tr>\n",
              "      <th>3</th>\n",
              "      <td>Pilgrim knows how to progress</td>\n",
              "      <td>Thatcher facing ban</td>\n",
              "      <td>McIlroy calls for Irish fighting spirit</td>\n",
              "      <td>Leicester bin stadium blueprint</td>\n",
              "      <td>United braced for Mexican wave</td>\n",
              "      <td>Auntie back in fashion  even if the dress look...</td>\n",
              "      <td>Shoaib appeal goes to the top</td>\n",
              "      <td>Hussain hurt by  shambles  but lays blame on e...</td>\n",
              "      <td>England s decade of disasters</td>\n",
              "      <td>Revenge is sweet for jubilant Cronje</td>\n",
              "      <td>...</td>\n",
              "      <td>Putin admits Yeltsin quit to give him a head s...</td>\n",
              "      <td>BBC worst hit as digital TV begins to bite</td>\n",
              "      <td>How much can you pay for</td>\n",
              "      <td>Christmas glitches</td>\n",
              "      <td>Upending a table  Chopping a line and Scoring ...</td>\n",
              "      <td>Scientific evidence  unreliable   defence claims</td>\n",
              "      <td>Fusco wins judicial review in extradition case</td>\n",
              "      <td>Rebels thwart Russian advance</td>\n",
              "      <td>Blair orders shake up of failing NHS</td>\n",
              "      <td>Lessons of law s hard heart</td>\n",
              "    </tr>\n",
              "    <tr>\n",
              "      <th>4</th>\n",
              "      <td>Hitches and Horlocks</td>\n",
              "      <td>Beckham off but United survive</td>\n",
              "      <td>Breast cancer screening</td>\n",
              "      <td>Alan Parker</td>\n",
              "      <td>Guardian readers  are you all whingers</td>\n",
              "      <td>Hollywood Beyond</td>\n",
              "      <td>Ashes and diamonds</td>\n",
              "      <td>Whingers   a formidable minority</td>\n",
              "      <td>Alan Parker   part two</td>\n",
              "      <td>Thuggery  Toxins and Ties</td>\n",
              "      <td>...</td>\n",
              "      <td>Most everywhere   UDIs</td>\n",
              "      <td>Most wanted   Chloe lunettes</td>\n",
              "      <td>Return of the cane  completely off the agenda</td>\n",
              "      <td>From Sleepy Hollow to Greeneland</td>\n",
              "      <td>Blunkett outlines vision for over   s</td>\n",
              "      <td>Embattled Dobson attacks  play now  pay later ...</td>\n",
              "      <td>Doom and the Dome</td>\n",
              "      <td>What is the north south divide</td>\n",
              "      <td>Aitken released from jail</td>\n",
              "      <td>Gone aloft</td>\n",
              "    </tr>\n",
              "  </tbody>\n",
              "</table>\n",
              "<p>5 rows × 25 columns</p>\n",
              "</div>"
            ],
            "text/plain": [
              "                                                   0  \\\n",
              "0  A  hindrance to operations   extracts from the...   \n",
              "1                                          Scorecard   \n",
              "2                  Coventry caught on counter by Flo   \n",
              "3                      Pilgrim knows how to progress   \n",
              "4                               Hitches and Horlocks   \n",
              "\n",
              "                                    1  \\\n",
              "0                           Scorecard   \n",
              "1                 The best lake scene   \n",
              "2  United s rivals on the road to Rio   \n",
              "3                 Thatcher facing ban   \n",
              "4      Beckham off but United survive   \n",
              "\n",
              "                                               2  \\\n",
              "0                Hughes  instant hit buoys Blues   \n",
              "1                  Leader  German sleaze inquiry   \n",
              "2  Thatcher issues defence before trial by video   \n",
              "3        McIlroy calls for Irish fighting spirit   \n",
              "4                        Breast cancer screening   \n",
              "\n",
              "                                               3  \\\n",
              "0       Jack gets his skates on at ice cold Alex   \n",
              "1                                  Cheerio  boyo   \n",
              "2  Police help Smith lay down the law at Everton   \n",
              "3                Leicester bin stadium blueprint   \n",
              "4                                    Alan Parker   \n",
              "\n",
              "                                             4  \\\n",
              "0       Chaos as Maracana builds up for United   \n",
              "1                     The main recommendations   \n",
              "2  Tale of Trautmann bears two more retellings   \n",
              "3               United braced for Mexican wave   \n",
              "4      Guardian readers  are you all whingers    \n",
              "\n",
              "                                                   5  \\\n",
              "0  Depleted Leicester prevail as Elliott spoils E...   \n",
              "1                             Has Cubie killed fees    \n",
              "2                                England on the rack   \n",
              "3  Auntie back in fashion  even if the dress look...   \n",
              "4                                   Hollywood Beyond   \n",
              "\n",
              "                                                 6  \\\n",
              "0                 Hungry Spurs sense rich pickings   \n",
              "1                           Has Cubie killed fees    \n",
              "2  Pakistan retaliate with call for video of Walsh   \n",
              "3                    Shoaib appeal goes to the top   \n",
              "4                               Ashes and diamonds   \n",
              "\n",
              "                                                   7  \\\n",
              "0                  Gunners so wide of an easy target   \n",
              "1                             Has Cubie killed fees    \n",
              "2               Cullinan continues his Cape monopoly   \n",
              "3  Hussain hurt by  shambles  but lays blame on e...   \n",
              "4                   Whingers   a formidable minority   \n",
              "\n",
              "                                                   8  \\\n",
              "0      Derby raise a glass to Strupar s debut double   \n",
              "1  Hopkins  furious  at Foster s lack of Hannibal...   \n",
              "2             McGrath puts India out of their misery   \n",
              "3                      England s decade of disasters   \n",
              "4                             Alan Parker   part two   \n",
              "\n",
              "                                          9  ...  \\\n",
              "0  Southgate strikes  Leeds pay the penalty  ...   \n",
              "1                    Has Cubie killed fees   ...   \n",
              "2            Blair Witch bandwagon rolls on  ...   \n",
              "3      Revenge is sweet for jubilant Cronje  ...   \n",
              "4                 Thuggery  Toxins and Ties  ...   \n",
              "\n",
              "                                                  15  \\\n",
              "0           Flintoff injury piles on woe for England   \n",
              "1                               On the critical list   \n",
              "2                        South Melbourne  Australia    \n",
              "3  Putin admits Yeltsin quit to give him a head s...   \n",
              "4                             Most everywhere   UDIs   \n",
              "\n",
              "                                                  16  \\\n",
              "0  Hunters threaten Jospin with new battle of the...   \n",
              "1                          The timing of their lives   \n",
              "2                                    Necaxa  Mexico    \n",
              "3         BBC worst hit as digital TV begins to bite   \n",
              "4                       Most wanted   Chloe lunettes   \n",
              "\n",
              "                                               17  \\\n",
              "0             Kohl s successor drawn into scandal   \n",
              "1                                     Dear doctor   \n",
              "2                             Real Madrid  Spain    \n",
              "3                     How much can you pay for      \n",
              "4  Return of the cane  completely off the agenda    \n",
              "\n",
              "                                                  18  \\\n",
              "0               The difference between men and women   \n",
              "1  Irish court halts IRA man s extradition to Nor...   \n",
              "2                          Raja Casablanca  Morocco    \n",
              "3                                 Christmas glitches   \n",
              "4                   From Sleepy Hollow to Greeneland   \n",
              "\n",
              "                                                  19  \\\n",
              "0                Sara Denver  nurse turned solicitor   \n",
              "1  Burundi peace initiative fades after rebels re...   \n",
              "2                               Corinthians  Brazil    \n",
              "3  Upending a table  Chopping a line and Scoring ...   \n",
              "4              Blunkett outlines vision for over   s   \n",
              "\n",
              "                                                  20  \\\n",
              "0     Diana s landmine crusade put Tories in a panic   \n",
              "1               PE points the way forward to the ECB   \n",
              "2                                 Tony s pet project   \n",
              "3   Scientific evidence  unreliable   defence claims   \n",
              "4  Embattled Dobson attacks  play now  pay later ...   \n",
              "\n",
              "                                                  21  \\\n",
              "0  Yeltsin s resignation caught opposition flat f...   \n",
              "1  Campaigners keep up pressure on Nazi war crime...   \n",
              "2                            Al Nassr  Saudi Arabia    \n",
              "3     Fusco wins judicial review in extradition case   \n",
              "4                                  Doom and the Dome   \n",
              "\n",
              "                                22  \\\n",
              "0                 Russian roulette   \n",
              "1                   Jane Ratcliffe   \n",
              "2                Ideal Holmes show   \n",
              "3    Rebels thwart Russian advance   \n",
              "4  What is the north south divide    \n",
              "\n",
              "                                                  23  \\\n",
              "0                                           Sold out   \n",
              "1  Yet more things you wouldn t know without the ...   \n",
              "2               Pinochet leaves hospital after tests   \n",
              "3               Blair orders shake up of failing NHS   \n",
              "4                          Aitken released from jail   \n",
              "\n",
              "                             24  \n",
              "0            Recovering a title  \n",
              "1  Millennium bug fails to bite  \n",
              "2                  Useful links  \n",
              "3   Lessons of law s hard heart  \n",
              "4                    Gone aloft  \n",
              "\n",
              "[5 rows x 25 columns]"
            ]
          },
          "execution_count": 63,
          "metadata": {},
          "output_type": "execute_result"
        }
      ],
      "source": [
        "# Removing punctuations\n",
        "headlinesdf= traindf.iloc[:,2:27]\n",
        "headlinesdf.replace(to_replace=\"[^a-zA-Z]\", value=\" \", regex=True, inplace=True)\n",
        "headlinesdf.columns= [str(i) for i in range(25)]\n",
        "headlinesdf.head()"
      ]
    },
    {
      "cell_type": "code",
      "execution_count": null,
      "id": "6vx9Mv7IMhnu",
      "metadata": {
        "colab": {
          "base_uri": "https://localhost:8080/",
          "height": 140
        },
        "id": "6vx9Mv7IMhnu",
        "outputId": "361c3ed9-d716-4fe1-8f3c-e1461139e287"
      },
      "outputs": [
        {
          "data": {
            "text/plain": [
              "'a  hindrance to operations   extracts from the leaked reports scorecard hughes  instant hit buoys blues jack gets his skates on at ice cold alex chaos as maracana builds up for united depleted leicester prevail as elliott spoils everton s party hungry spurs sense rich pickings gunners so wide of an easy target derby raise a glass to strupar s debut double southgate strikes  leeds pay the penalty hammers hand robson a youthful lesson saints party like it s      wear wolves have turned into lambs stump mike catches testy gough s taunt langer escapes to hit     flintoff injury piles on woe for england hunters threaten jospin with new battle of the somme kohl s successor drawn into scandal the difference between men and women sara denver  nurse turned solicitor diana s landmine crusade put tories in a panic yeltsin s resignation caught opposition flat footed russian roulette sold out recovering a title'"
            ]
          },
          "execution_count": 64,
          "metadata": {},
          "output_type": "execute_result"
        }
      ],
      "source": [
        "headlines = []\n",
        "for row in range(0,len(headlinesdf.index)):\n",
        "    headlines.append(' '.join(str(x).lower() for x in headlinesdf.iloc[row,0:25]))\n",
        "headlines[0]"
      ]
    },
    {
      "cell_type": "code",
      "execution_count": null,
      "id": "aQXtJGYIMjmr",
      "metadata": {
        "id": "aQXtJGYIMjmr"
      },
      "outputs": [],
      "source": [
        "#tokenize the word data\n",
        "vectorizer = CountVectorizer(ngram_range=(2,2))\n",
        "train_data = vectorizer.fit_transform(headlines)"
      ]
    },
    {
      "cell_type": "code",
      "execution_count": null,
      "id": "If8Zrt7GMpDy",
      "metadata": {
        "id": "If8Zrt7GMpDy"
      },
      "outputs": [],
      "source": [
        "#initialise the base model\n",
        "model = LogisticRegression()\n",
        "model = model.fit(train_data, traindf[\"Label\"])"
      ]
    },
    {
      "cell_type": "code",
      "execution_count": null,
      "id": "NECfrCC8MqkF",
      "metadata": {
        "id": "NECfrCC8MqkF"
      },
      "outputs": [],
      "source": [
        "testheadlines = []\n",
        "for row in range(0,len(testdf.index)):\n",
        "    testheadlines.append(' '.join(str(x) for x in testdf.iloc[row,2:27]))\n",
        "test_data = vectorizer.transform(testheadlines)\n",
        "predictions = model.predict(test_data)"
      ]
    },
    {
      "cell_type": "code",
      "execution_count": null,
      "id": "kWnz0PahMsjX",
      "metadata": {
        "colab": {
          "base_uri": "https://localhost:8080/",
          "height": 143
        },
        "id": "kWnz0PahMsjX",
        "outputId": "bd67ccfc-24e1-44e3-9e2e-b6814039780c"
      },
      "outputs": [
        {
          "data": {
            "text/html": [
              "<div>\n",
              "<style scoped>\n",
              "    .dataframe tbody tr th:only-of-type {\n",
              "        vertical-align: middle;\n",
              "    }\n",
              "\n",
              "    .dataframe tbody tr th {\n",
              "        vertical-align: top;\n",
              "    }\n",
              "\n",
              "    .dataframe thead th {\n",
              "        text-align: right;\n",
              "    }\n",
              "</style>\n",
              "<table border=\"1\" class=\"dataframe\">\n",
              "  <thead>\n",
              "    <tr style=\"text-align: right;\">\n",
              "      <th>Predicted</th>\n",
              "      <th>0</th>\n",
              "      <th>1</th>\n",
              "    </tr>\n",
              "    <tr>\n",
              "      <th>Actual</th>\n",
              "      <th></th>\n",
              "      <th></th>\n",
              "    </tr>\n",
              "  </thead>\n",
              "  <tbody>\n",
              "    <tr>\n",
              "      <th>0</th>\n",
              "      <td>159</td>\n",
              "      <td>27</td>\n",
              "    </tr>\n",
              "    <tr>\n",
              "      <th>1</th>\n",
              "      <td>27</td>\n",
              "      <td>165</td>\n",
              "    </tr>\n",
              "  </tbody>\n",
              "</table>\n",
              "</div>"
            ],
            "text/plain": [
              "Predicted    0    1\n",
              "Actual             \n",
              "0          159   27\n",
              "1           27  165"
            ]
          },
          "execution_count": 68,
          "metadata": {},
          "output_type": "execute_result"
        }
      ],
      "source": [
        "pd.crosstab(testdf[\"Label\"], predictions, rownames=[\"Actual\"], colnames=[\"Predicted\"])"
      ]
    },
    {
      "cell_type": "code",
      "execution_count": null,
      "id": "8NQszbaeMugU",
      "metadata": {
        "colab": {
          "base_uri": "https://localhost:8080/"
        },
        "id": "8NQszbaeMugU",
        "outputId": "2b7f1bf3-9e2a-4fb4-e476-34555fe8741d"
      },
      "outputs": [
        {
          "name": "stdout",
          "output_type": "stream",
          "text": [
            "              precision    recall  f1-score   support\n",
            "\n",
            "           0       0.85      0.85      0.85       186\n",
            "           1       0.86      0.86      0.86       192\n",
            "\n",
            "    accuracy                           0.86       378\n",
            "   macro avg       0.86      0.86      0.86       378\n",
            "weighted avg       0.86      0.86      0.86       378\n",
            "\n",
            "0.8571428571428571\n"
          ]
        }
      ],
      "source": [
        "from sklearn.metrics import classification_report\n",
        "from sklearn.metrics import f1_score\n",
        "from sklearn.metrics import accuracy_score \n",
        "from sklearn.metrics import confusion_matrix\n",
        "\n",
        "print(classification_report(testdf[\"Label\"], predictions))\n",
        "print(accuracy_score(testdf[\"Label\"], predictions))"
      ]
    }
  ],
  "metadata": {
    "colab": {
      "name": "StockPricePrediction.ipynb",
      "provenance": [],
      "toc_visible": true
    },
    "kernelspec": {
      "display_name": "Python 3 (ipykernel)",
      "language": "python",
      "name": "python3"
    },
    "language_info": {
      "codemirror_mode": {
        "name": "ipython",
        "version": 3
      },
      "file_extension": ".py",
      "mimetype": "text/x-python",
      "name": "python",
      "nbconvert_exporter": "python",
      "pygments_lexer": "ipython3",
      "version": "3.7.5"
    }
  },
  "nbformat": 4,
  "nbformat_minor": 5
}